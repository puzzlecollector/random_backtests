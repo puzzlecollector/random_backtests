{
 "cells": [
  {
   "cell_type": "markdown",
   "metadata": {},
   "source": [
    "# Train TFT with BTC USDT Data From Binance"
   ]
  },
  {
   "cell_type": "code",
   "execution_count": 1,
   "metadata": {},
   "outputs": [
    {
     "name": "stderr",
     "output_type": "stream",
     "text": [
      "/opt/conda/lib/python3.6/site-packages/torchaudio/backend/utils.py:54: UserWarning: \"sox\" backend is being deprecated. The default backend will be changed to \"sox_io\" backend in 0.8.0 and \"sox\" backend will be removed in 0.9.0. Please migrate to \"sox_io\" backend. Please refer to https://github.com/pytorch/audio/issues/903 for the detail.\n",
      "  '\"sox\" backend is being deprecated. '\n"
     ]
    }
   ],
   "source": [
    "import json \n",
    "import pandas as pd \n",
    "import numpy as np \n",
    "import time \n",
    "from datetime import timezone \n",
    "import os\n",
    "from mplfinance.original_flavor import candlestick_ohlc\n",
    "import pyupbit \n",
    "import ccxt\n",
    "import matplotlib.pyplot as plt\n",
    "from torch.utils.data import Dataset, DataLoader\n",
    "import torch \n",
    "import torch.nn as nn\n",
    "import torch.nn.functional as F \n",
    "from transformers import *\n",
    "import os \n",
    "import time \n",
    "import datetime \n",
    "import matplotlib.pyplot as plt\n",
    "from tqdm import tqdm \n",
    "import numpy as np"
   ]
  },
  {
   "cell_type": "markdown",
   "metadata": {},
   "source": [
    "# Preprocess Data"
   ]
  },
  {
   "cell_type": "code",
   "execution_count": 2,
   "metadata": {},
   "outputs": [
    {
     "data": {
      "text/plain": [
       "((105291, 7), (105685, 7), (105448, 7), (10474, 7))"
      ]
     },
     "execution_count": 2,
     "metadata": {},
     "output_type": "execute_result"
    }
   ],
   "source": [
    "btc_2019 = pd.read_csv(\"data_5m/2019_BTCUSDT.csv\") \n",
    "btc_2020 = pd.read_csv(\"data_5m/2020_BTCUSDT.csv\") \n",
    "btc_2021 = pd.read_csv(\"data_5m/2021_BTCUSDT.csv\") \n",
    "btc_2022 = pd.read_csv(\"data_5m/2022_BTCUSDT.csv\") \n",
    "\n",
    "btc_2019.shape, btc_2020.shape, btc_2021.shape, btc_2022.shape"
   ]
  },
  {
   "cell_type": "code",
   "execution_count": 3,
   "metadata": {
    "scrolled": false
   },
   "outputs": [],
   "source": [
    "def process_datetime(df): \n",
    "    binance = ccxt.binance()\n",
    "    dates = df['Open Time'].values \n",
    "    timestamp = [] \n",
    "    for i in range(len(dates)): \n",
    "        date_string = binance.iso8601(int(dates[i]))  \n",
    "        date_string = date_string[:10] + \" \" + date_string[11:-5] \n",
    "        timestamp.append(date_string) \n",
    "    df['datetime'] = timestamp\n",
    "    df['hours'] = df['datetime'].apply(lambda x : pd.to_datetime(x).hour)\n",
    "    df = df.drop(columns={'0', 'Open Time'})\n",
    "    return df"
   ]
  },
  {
   "cell_type": "code",
   "execution_count": 4,
   "metadata": {},
   "outputs": [],
   "source": [
    "btc2019 = process_datetime(btc_2019)\n",
    "btc2020 = process_datetime(btc_2020) \n",
    "btc2021 = process_datetime(btc_2021) \n",
    "btc2022 = process_datetime(btc_2022)"
   ]
  },
  {
   "cell_type": "code",
   "execution_count": 5,
   "metadata": {},
   "outputs": [
    {
     "data": {
      "text/plain": [
       "((105291, 7), (105685, 7), (105448, 7), (10474, 7))"
      ]
     },
     "execution_count": 5,
     "metadata": {},
     "output_type": "execute_result"
    }
   ],
   "source": [
    "btc2019.shape, btc2020.shape, btc2021.shape, btc2022.shape"
   ]
  },
  {
   "cell_type": "markdown",
   "metadata": {},
   "source": [
    "Validation data dates up to 2022-02-06 04:25:00 \n",
    "        \n",
    "The test data can range from any time after this timestamp. "
   ]
  },
  {
   "cell_type": "code",
   "execution_count": 6,
   "metadata": {},
   "outputs": [],
   "source": [
    "train = pd.concat([btc2019, btc2020, btc2021]) \n",
    "val = btc2022 "
   ]
  },
  {
   "cell_type": "code",
   "execution_count": 7,
   "metadata": {},
   "outputs": [],
   "source": [
    "con_cols = ['Open', 'High', 'Low', 'Close', 'Volume']  \n",
    "\n",
    "norm = train.copy()   \n",
    "train[con_cols] = (train[con_cols] - norm[con_cols].stack().mean()) / norm[con_cols].stack().std() "
   ]
  },
  {
   "cell_type": "code",
   "execution_count": 8,
   "metadata": {},
   "outputs": [
    {
     "data": {
      "text/html": [
       "<div>\n",
       "<style scoped>\n",
       "    .dataframe tbody tr th:only-of-type {\n",
       "        vertical-align: middle;\n",
       "    }\n",
       "\n",
       "    .dataframe tbody tr th {\n",
       "        vertical-align: top;\n",
       "    }\n",
       "\n",
       "    .dataframe thead th {\n",
       "        text-align: right;\n",
       "    }\n",
       "</style>\n",
       "<table border=\"1\" class=\"dataframe\">\n",
       "  <thead>\n",
       "    <tr style=\"text-align: right;\">\n",
       "      <th></th>\n",
       "      <th>Open</th>\n",
       "      <th>High</th>\n",
       "      <th>Low</th>\n",
       "      <th>Close</th>\n",
       "      <th>Volume</th>\n",
       "      <th>datetime</th>\n",
       "      <th>hours</th>\n",
       "    </tr>\n",
       "  </thead>\n",
       "  <tbody>\n",
       "    <tr>\n",
       "      <th>0</th>\n",
       "      <td>-0.723291</td>\n",
       "      <td>-0.723162</td>\n",
       "      <td>-0.723616</td>\n",
       "      <td>-0.723547</td>\n",
       "      <td>-0.911695</td>\n",
       "      <td>2019-01-01 00:00:00</td>\n",
       "      <td>0</td>\n",
       "    </tr>\n",
       "    <tr>\n",
       "      <th>1</th>\n",
       "      <td>-0.723548</td>\n",
       "      <td>-0.723499</td>\n",
       "      <td>-0.723883</td>\n",
       "      <td>-0.723755</td>\n",
       "      <td>-0.912908</td>\n",
       "      <td>2019-01-01 00:05:00</td>\n",
       "      <td>0</td>\n",
       "    </tr>\n",
       "    <tr>\n",
       "      <th>2</th>\n",
       "      <td>-0.723755</td>\n",
       "      <td>-0.723411</td>\n",
       "      <td>-0.723755</td>\n",
       "      <td>-0.723496</td>\n",
       "      <td>-0.913908</td>\n",
       "      <td>2019-01-01 00:10:00</td>\n",
       "      <td>0</td>\n",
       "    </tr>\n",
       "    <tr>\n",
       "      <th>3</th>\n",
       "      <td>-0.723464</td>\n",
       "      <td>-0.723421</td>\n",
       "      <td>-0.723720</td>\n",
       "      <td>-0.723720</td>\n",
       "      <td>-0.913624</td>\n",
       "      <td>2019-01-01 00:15:00</td>\n",
       "      <td>0</td>\n",
       "    </tr>\n",
       "    <tr>\n",
       "      <th>4</th>\n",
       "      <td>-0.723697</td>\n",
       "      <td>-0.723565</td>\n",
       "      <td>-0.723829</td>\n",
       "      <td>-0.723763</td>\n",
       "      <td>-0.913668</td>\n",
       "      <td>2019-01-01 00:20:00</td>\n",
       "      <td>0</td>\n",
       "    </tr>\n",
       "  </tbody>\n",
       "</table>\n",
       "</div>"
      ],
      "text/plain": [
       "       Open      High       Low     Close    Volume             datetime  \\\n",
       "0 -0.723291 -0.723162 -0.723616 -0.723547 -0.911695  2019-01-01 00:00:00   \n",
       "1 -0.723548 -0.723499 -0.723883 -0.723755 -0.912908  2019-01-01 00:05:00   \n",
       "2 -0.723755 -0.723411 -0.723755 -0.723496 -0.913908  2019-01-01 00:10:00   \n",
       "3 -0.723464 -0.723421 -0.723720 -0.723720 -0.913624  2019-01-01 00:15:00   \n",
       "4 -0.723697 -0.723565 -0.723829 -0.723763 -0.913668  2019-01-01 00:20:00   \n",
       "\n",
       "   hours  \n",
       "0      0  \n",
       "1      0  \n",
       "2      0  \n",
       "3      0  \n",
       "4      0  "
      ]
     },
     "execution_count": 8,
     "metadata": {},
     "output_type": "execute_result"
    }
   ],
   "source": [
    "train.head() "
   ]
  },
  {
   "cell_type": "code",
   "execution_count": 9,
   "metadata": {},
   "outputs": [],
   "source": [
    "past_seq_len = 80 \n",
    "future_seq_len = 12 # predict the next hour, for every 5 minute intevals "
   ]
  },
  {
   "cell_type": "code",
   "execution_count": 10,
   "metadata": {},
   "outputs": [
    {
     "name": "stderr",
     "output_type": "stream",
     "text": [
      "100%|██████████| 316333/316333 [00:00<00:00, 357492.45it/s]\n"
     ]
    }
   ],
   "source": [
    "train_cont = train[['Open','High','Low','Close','Volume']].values \n",
    "train_disc = train[['hours']].values\n",
    "\n",
    "val_cont = val[['Open', 'High', 'Low', 'Close', 'Volume']].values \n",
    "val_disc = val[['hours']].values \n",
    "\n",
    "\n",
    "train_in_cont, train_target_seq = [], []  \n",
    "train_in_disc, train_future_disc = [], []  \n",
    "\n",
    "for i in tqdm(range(train_cont.shape[0]-past_seq_len-future_seq_len+1), position=0, leave=True): \n",
    "    in_cont = train_cont[i:i+past_seq_len,:] \n",
    "    in_disc = train_disc[i:i+past_seq_len,:] \n",
    "    target = train_cont[i+past_seq_len:i+past_seq_len+future_seq_len,3] \n",
    "    future_disc = train_disc[i+past_seq_len:i+past_seq_len+future_seq_len,:] \n",
    "    \n",
    "    train_in_cont.append(in_cont) \n",
    "    train_target_seq.append(target)\n",
    "    train_in_disc.append(in_disc) \n",
    "    train_future_disc.append(future_disc) \n"
   ]
  },
  {
   "cell_type": "code",
   "execution_count": 11,
   "metadata": {},
   "outputs": [
    {
     "data": {
      "text/plain": [
       "(torch.Size([316333, 80, 5]),\n",
       " torch.Size([316333, 12]),\n",
       " torch.Size([316333, 80, 1]),\n",
       " torch.Size([316333, 12, 1]))"
      ]
     },
     "execution_count": 11,
     "metadata": {},
     "output_type": "execute_result"
    }
   ],
   "source": [
    "train_in_cont = torch.tensor(train_in_cont, dtype=torch.float32)\n",
    "train_target_seq = torch.tensor(train_target_seq, dtype=torch.float32)\n",
    "train_in_disc = torch.tensor(train_in_disc, dtype=torch.float32)\n",
    "train_future_disc = torch.tensor(train_future_disc, dtype=torch.float32) \n",
    "\n",
    "train_in_cont.shape, train_target_seq.shape, train_in_disc.shape, train_future_disc.shape"
   ]
  },
  {
   "cell_type": "code",
   "execution_count": 12,
   "metadata": {},
   "outputs": [
    {
     "data": {
      "text/plain": [
       "(torch.Size([316333, 80, 5, 1]), torch.Size([316333, 12, 1]))"
      ]
     },
     "execution_count": 12,
     "metadata": {},
     "output_type": "execute_result"
    }
   ],
   "source": [
    "train_in_cont = torch.reshape(train_in_cont, (-1, past_seq_len, 5, 1)) \n",
    "train_target_seq = torch.reshape(train_target_seq, (-1, future_seq_len, 1)) \n",
    "\n",
    "\n",
    "train_in_cont.shape, train_target_seq.shape"
   ]
  },
  {
   "cell_type": "code",
   "execution_count": 13,
   "metadata": {},
   "outputs": [],
   "source": [
    "def one_hot(x, dims, gpu = True):\n",
    "    out = []\n",
    "    batch_size = x.shape[0]\n",
    "    seq_len = x.shape[1]\n",
    "    \n",
    "    if(not gpu):\n",
    "        dtype = torch.FloatTensor\n",
    "    else:\n",
    "        dtype = torch.cuda.FloatTensor\n",
    "        \n",
    "    for i in range(0, x.shape[-1]):\n",
    "        x_ = x[:,:,i].byte().cpu().long().unsqueeze(-1)\n",
    "        o = torch.zeros([batch_size, seq_len, dims[i]]).long()\n",
    "\n",
    "        o.scatter_(-1, x_,  1)\n",
    "        out.append(o.type(dtype))\n",
    "    return out"
   ]
  },
  {
   "cell_type": "code",
   "execution_count": 14,
   "metadata": {},
   "outputs": [
    {
     "data": {
      "text/plain": [
       "(torch.Size([316333, 80, 24]), torch.Size([316333, 12, 24]))"
      ]
     },
     "execution_count": 14,
     "metadata": {},
     "output_type": "execute_result"
    }
   ],
   "source": [
    "train_in_disc = one_hot(train_in_disc, dims=[24])  \n",
    "train_in_disc = train_in_disc[0] \n",
    "\n",
    "train_future_disc = one_hot(train_future_disc, dims=[24]) \n",
    "train_future_disc = train_future_disc[0] \n",
    "\n",
    "train_in_disc.shape, train_future_disc.shape"
   ]
  },
  {
   "cell_type": "code",
   "execution_count": 15,
   "metadata": {},
   "outputs": [
    {
     "data": {
      "text/plain": [
       "(torch.Size([316333, 80, 1, 24]), torch.Size([316333, 12, 1, 24]))"
      ]
     },
     "execution_count": 15,
     "metadata": {},
     "output_type": "execute_result"
    }
   ],
   "source": [
    "train_in_disc = torch.reshape(train_in_disc, (-1, past_seq_len, 1, 24)) \n",
    "train_future_disc = torch.reshape(train_future_disc, (-1, future_seq_len, 1, 24)) \n",
    "\n",
    "train_in_disc.shape, train_future_disc.shape"
   ]
  },
  {
   "cell_type": "code",
   "execution_count": 16,
   "metadata": {},
   "outputs": [
    {
     "data": {
      "text/plain": [
       "(torch.Size([316333, 80, 5, 1]),\n",
       " torch.Size([316333, 12, 1]),\n",
       " torch.Size([316333, 80, 1, 24]),\n",
       " torch.Size([316333, 12, 1, 24]))"
      ]
     },
     "execution_count": 16,
     "metadata": {},
     "output_type": "execute_result"
    }
   ],
   "source": [
    "train_in_cont.shape, train_target_seq.shape, train_in_disc.shape, train_future_disc.shape "
   ]
  },
  {
   "cell_type": "code",
   "execution_count": 17,
   "metadata": {},
   "outputs": [
    {
     "name": "stderr",
     "output_type": "stream",
     "text": [
      "100%|██████████| 10383/10383 [00:00<00:00, 358579.32it/s]\n"
     ]
    }
   ],
   "source": [
    "val_in_cont, val_target_seq = [], []  \n",
    "val_in_disc, val_future_disc = [], []  \n",
    "\n",
    "for i in tqdm(range(val_cont.shape[0]-past_seq_len-future_seq_len+1), position=0, leave=True): \n",
    "    in_cont = val_cont[i:i+past_seq_len,:] \n",
    "    in_disc = val_disc[i:i+past_seq_len,:] \n",
    "    target = val_cont[i+past_seq_len:i+past_seq_len+future_seq_len,3] \n",
    "    future_disc = val_disc[i+past_seq_len:i+past_seq_len+future_seq_len,:] \n",
    "    \n",
    "    val_in_cont.append(in_cont) \n",
    "    val_target_seq.append(target)\n",
    "    val_in_disc.append(in_disc) \n",
    "    val_future_disc.append(future_disc) \n"
   ]
  },
  {
   "cell_type": "code",
   "execution_count": 18,
   "metadata": {},
   "outputs": [
    {
     "data": {
      "text/plain": [
       "(torch.Size([10383, 80, 5, 1]),\n",
       " torch.Size([10383, 12, 1]),\n",
       " torch.Size([10383, 80, 1, 24]),\n",
       " torch.Size([10383, 12, 1, 24]))"
      ]
     },
     "execution_count": 18,
     "metadata": {},
     "output_type": "execute_result"
    }
   ],
   "source": [
    "val_in_cont = torch.tensor(val_in_cont) \n",
    "val_target_seq = torch.tensor(val_target_seq)\n",
    "val_in_disc = torch.tensor(val_in_disc) \n",
    "val_future_disc = torch.tensor(val_future_disc) \n",
    "\n",
    "val_in_cont = torch.reshape(val_in_cont, (-1, past_seq_len, 5, 1)) \n",
    "val_target_seq = torch.reshape(val_target_seq, (-1, future_seq_len, 1)) \n",
    "\n",
    "val_in_disc = one_hot(val_in_disc, dims=[24]) \n",
    "val_in_disc = val_in_disc[0] \n",
    "val_in_disc = torch.reshape(val_in_disc, (-1, past_seq_len, 1, 24)) \n",
    "\n",
    "val_future_disc = one_hot(val_future_disc, dims=[24]) \n",
    "val_future_disc = val_future_disc[0] \n",
    "val_future_disc = torch.reshape(val_future_disc, (-1, future_seq_len, 1, 24)) \n",
    "\n",
    "val_in_cont.shape, val_target_seq.shape, val_in_disc.shape, val_future_disc.shape"
   ]
  },
  {
   "cell_type": "markdown",
   "metadata": {},
   "source": [
    "# Utility Functions \n",
    "\n",
    "Attention"
   ]
  },
  {
   "cell_type": "code",
   "execution_count": 19,
   "metadata": {},
   "outputs": [],
   "source": [
    "def a_norm(Q, K): \n",
    "    m = torch.matmul(Q, K.transpose(2,1).float()) \n",
    "    m /= torch.sqrt(torch.tensor(Q.shape[-1]).float()) \n",
    "    return torch.softmax(m, -1) \n",
    "\n",
    "def attention(Q, K, V): \n",
    "    a = a_norm(Q, K) # (batch_size, dim_attn, seq_length) \n",
    "    return torch.matmul(a, V) # (batch_size, seq_length, seq_length) \n",
    "\n",
    "class AttentionBlock(torch.nn.Module): \n",
    "    def __init__(self, dim_val, dim_attn): \n",
    "        super(AttentionBlock, self).__init__()\n",
    "        self.value = Value(dim_val, dim_val) \n",
    "        self.key = Key(dim_val, dim_attn) \n",
    "        self.query = Query(dim_val, dim_attn) \n",
    "    \n",
    "    def forward(self, x, kv = None):\n",
    "        if kv is None:\n",
    "            # Attention with x connected to Q,K and V (For encoder)\n",
    "            return attention(self.query(x), self.key(x), self.value(x))\n",
    "        # Attention with x as Q, external vector kv as K and V (For decoder)\n",
    "        return attention(self.query(x), self.key(kv), self.value(kv))\n",
    "    \n",
    "class MultiHeadAttentionBlock(torch.nn.Module):\n",
    "    def __init__(self, dim_val, dim_attn, n_heads):\n",
    "        super(MultiHeadAttentionBlock, self).__init__()\n",
    "        self.heads = []\n",
    "        for i in range(n_heads):\n",
    "            self.heads.append(AttentionBlock(dim_val, dim_attn))\n",
    "        \n",
    "        self.fc = nn.Linear(n_heads * dim_val, dim_val, bias = False)\n",
    "                      \n",
    "    def forward(self, x, kv = None):\n",
    "        a = []\n",
    "        for h in self.heads:\n",
    "            a.append(h(x, kv = kv))\n",
    "            \n",
    "        a = torch.stack(a, dim = -1) #combine heads\n",
    "        a = a.flatten(start_dim = 2) #flatten all head outputs\n",
    "        \n",
    "        x = self.fc(a)\n",
    "        return x\n",
    "    \n",
    "class Value(torch.nn.Module):\n",
    "    def __init__(self, dim_input, dim_val):\n",
    "        super(Value, self).__init__()\n",
    "        self.fc1 = nn.Linear(dim_input, dim_val, bias = False).cuda()\n",
    "    \n",
    "    def forward(self, x):\n",
    "        return self.fc1(x)\n",
    "\n",
    "class Key(torch.nn.Module):\n",
    "    def __init__(self, dim_input, dim_attn):\n",
    "        super(Key, self).__init__()\n",
    "        self.fc1 = nn.Linear(dim_input, dim_attn, bias = False).cuda()\n",
    "    \n",
    "    def forward(self, x):\n",
    "        return self.fc1(x)\n",
    "\n",
    "class Query(torch.nn.Module):\n",
    "    def __init__(self, dim_input, dim_attn):\n",
    "        super(Query, self).__init__()\n",
    "        self.fc1 = nn.Linear(dim_input, dim_attn, bias = False).cuda()\n",
    "    \n",
    "    def forward(self, x):\n",
    "        return self.fc1(x)\n",
    "\n",
    "def QuantileLoss(net_out, Y, q):\n",
    "    return (q * F.relu(net_out - Y)) + ((1 - q) * F.relu(Y - net_out))\n"
   ]
  },
  {
   "cell_type": "markdown",
   "metadata": {},
   "source": [
    "# Gated Residual Network\n",
    "\n",
    "Used for skipping over any unused components to efficiently build feature representations for each input type for high forecasting performance on a wide range of problems. "
   ]
  },
  {
   "cell_type": "code",
   "execution_count": 20,
   "metadata": {},
   "outputs": [],
   "source": [
    "class GLU(torch.nn.Module):\n",
    "    def __init__(self, dim_input):\n",
    "        super(GLU, self).__init__()\n",
    "        self.fc1 = nn.Linear(dim_input, dim_input)\n",
    "        self.fc2 = nn.Linear(dim_input, dim_input)\n",
    "    \n",
    "    def forward(self, x):\n",
    "        return torch.sigmoid(self.fc1(x)) * self.fc2(x) "
   ]
  },
  {
   "cell_type": "code",
   "execution_count": 21,
   "metadata": {},
   "outputs": [],
   "source": [
    "class GRN(torch.nn.Module): \n",
    "    def __init__(self, dim_input, dim_out=None, n_hidden=10, dropout_r=0.1):\n",
    "        super(GRN, self).__init__() \n",
    "        if dim_out != None: \n",
    "            self.skip = nn.Linear(dim_input, dim_out) \n",
    "        else:\n",
    "            self.skip = None\n",
    "            dim_out = dim_input \n",
    "        self.fc1 = nn.Linear(dim_input, n_hidden) \n",
    "        self.fc2 = nn.Linear(n_hidden, dim_out) \n",
    "        self.dropout = nn.Dropout(dropout_r) \n",
    "        self.gate = GLU(dim_out) \n",
    "        self.norm = nn.LayerNorm(dim_out) \n",
    "        \n",
    "    def forward(self, x):\n",
    "        a = F.elu(self.fc1(x))\n",
    "        a = self.dropout(self.fc2(a))\n",
    "        a = self.gate(a)\n",
    "        if self.skip != None:\n",
    "            return self.norm(self.skip(x) + a)\n",
    "        return self.norm(x + a)"
   ]
  },
  {
   "cell_type": "markdown",
   "metadata": {},
   "source": [
    "# Variable Selection Network \n",
    "Used for selecting relevant input variables at each time step"
   ]
  },
  {
   "cell_type": "code",
   "execution_count": 22,
   "metadata": {},
   "outputs": [],
   "source": [
    "class VSN(torch.nn.Module): \n",
    "    def __init__(self, n_var_cont, n_var_disc, dim_model, dropout_r=0.1): \n",
    "        super(VSN, self).__init__()\n",
    "        n_var_total = n_var_cont + len(n_var_disc)\n",
    "        # linear transformation of inputs into dmodel vectors \n",
    "        self.linearise = []\n",
    "        for i in range(n_var_cont): \n",
    "            self.linearise.append(nn.Linear(1, dim_model, bias=False).cuda()) \n",
    "        \n",
    "        self.fc = nn.Linear(1, dim_model, bias=False).cuda()     \n",
    "        # entity embeddings for discrete inputs \n",
    "        self.entity_embed = [] \n",
    "        for i in n_var_disc: \n",
    "            self.entity_embed.append(nn.Linear(i, dim_model, bias=False).cuda())  \n",
    "        \n",
    "        self.input_grn = GRN(dim_model, dropout_r = dropout_r) \n",
    "        self.vs_grn = GRN(n_var_total * dim_model, dim_out=n_var_total, dropout_r = dropout_r)\n",
    "    \n",
    "    # input (batch_size, seq_len, n_variables, input_size)\n",
    "    def forward(self, x_cont, x_disc): \n",
    "        # linearise continuous inputs \n",
    "        linearised = [] \n",
    "        for idx, fc in enumerate(self.linearise): \n",
    "            linearised.append(fc(x_cont[:,:,idx])) \n",
    "        # entity embeddings for discrete inputs \n",
    "        embedded = []\n",
    "        for idx, fc in enumerate(self.entity_embed): \n",
    "            embedded.append(fc(x_disc[:,:,idx]))\n",
    "        if len(self.linearise) != 0 and len(self.entity_embed) != 0: \n",
    "            linearised = torch.stack(linearised, dim=-2) \n",
    "            embedded = torch.stack(embedded, dim=-2)    \n",
    "            vectorised_vars = torch.cat((linearised, embedded), dim=-2) # (batch_size, seq_len, dim_model, n_vars_total)\n",
    "        elif len(self.linearise) != 0 and len(self.entity_embed) == 0: \n",
    "            vectorised_vars = torch.stack(linearised, dim=-2) # (batch_size, seq_len, n_var_cont, dim_model)\n",
    "        elif len(self.entity_embed) != 0 and len(self.linearise) == 0: \n",
    "            vectorised_vars = torch.stack(embedded, dim=-2)\n",
    "        \n",
    "        # flatten everything except accross batch for variable selection weights \n",
    "        vs_weights = self.vs_grn(vectorised_vars.flatten(start_dim=2)) # (batch_size, seq_len, n_variables)\n",
    "        vs_weights = torch.softmax(vs_weights, dim=-1).unsqueeze(-1) # (batch_size, seq_len, n_variables, 1) \n",
    "        \n",
    "        # input_grn applied to every input separately \n",
    "        input_weights = self.input_grn(vectorised_vars) # (batch_size, seq_len, n_variables, dim_model)\n",
    "        \n",
    "        x = torch.sum((vs_weights * input_weights), dim = 2) \n",
    "        return x, vs_weights # returns (batch_size, seq_len, dim_model)\n",
    "        "
   ]
  },
  {
   "cell_type": "markdown",
   "metadata": {},
   "source": [
    "# LSTM Layer"
   ]
  },
  {
   "cell_type": "code",
   "execution_count": 23,
   "metadata": {},
   "outputs": [],
   "source": [
    "class LSTMLayer(torch.nn.Module): \n",
    "    def __init__(self, dim_model, n_layers = 1, dropout_r = 0.1):\n",
    "        super(LSTMLayer, self).__init__()\n",
    "        self.n_layers = n_layers \n",
    "        self.dim_model = dim_model \n",
    "        self.lstm = nn.LSTM(dim_model, dim_model, num_layers = n_layers, batch_first = True) \n",
    "        self.hidden = None\n",
    "        self.dropout = nn.Dropout(dropout_r) \n",
    "    \n",
    "    # takes input (batch_size, seq_len, dim_model)\n",
    "    def forward(self, x): \n",
    "        if self.hidden == None: \n",
    "            raise Exception(\"Call reset() to initialise LSTM Layer\") \n",
    "            \n",
    "        x, self.hidden = self.lstm(x, self.hidden) \n",
    "        x = self.dropout(x) \n",
    "        return x, self.hidden # returns (batch_size, seq_len, dim_model), hidden \n",
    "    \n",
    "    def reset(self, batch_size, gpu = True): \n",
    "        if not gpu: \n",
    "            dtype = torch.FloatTensor \n",
    "        else: \n",
    "            dtype = torch.cuda.FloatTensor\n",
    "        self.hidden = (torch.zeros([self.n_layers, batch_size, self.dim_model]).type(dtype),\n",
    "                       torch.zeros([self.n_layers, batch_size, self.dim_model]).type(dtype)) "
   ]
  },
  {
   "cell_type": "markdown",
   "metadata": {},
   "source": [
    "# TFT"
   ]
  },
  {
   "cell_type": "code",
   "execution_count": 24,
   "metadata": {},
   "outputs": [],
   "source": [
    "class TFN(torch.nn.Module): \n",
    "    def __init__(self, \n",
    "                 n_var_past_cont, \n",
    "                 n_var_future_cont,\n",
    "                 n_var_past_disc, \n",
    "                 n_var_future_disc,\n",
    "                 dim_model,\n",
    "                 n_quantiles = 3, \n",
    "                 dropout_r = 0.1,\n",
    "                 n_lstm_layers = 1,\n",
    "                 n_attention_layers = 1,\n",
    "                 n_heads = 4):\n",
    "        super(TFN, self).__init__()\n",
    "        self.vs_past = VSN(n_var_past_cont, n_var_past_disc, dim_model, dropout_r = dropout_r) \n",
    "        self.vs_future = VSN(n_var_future_cont, n_var_future_disc, dim_model, dropout_r = dropout_r)\n",
    "        \n",
    "        self.enc = LSTMLayer(dim_model, dropout_r = dropout_r, n_layers = n_lstm_layers) \n",
    "        self.dec = LSTMLayer(dim_model, dropout_r = dropout_r, n_layers = n_lstm_layers) \n",
    "        \n",
    "        self.gate1 = GLU(dim_model) \n",
    "        self.norm1 = nn.LayerNorm(dim_model) \n",
    "        \n",
    "        self.static_enrich_grn = GRN(dim_model, dropout_r = dropout_r)\n",
    "        \n",
    "        self.attention = [] \n",
    "        for i in range(n_attention_layers): \n",
    "            self.attention.append([MultiHeadAttentionBlock(dim_model, dim_model, n_heads = n_heads).cuda(),\n",
    "                                   nn.LayerNorm(dim_model).cuda()]) \n",
    "        \n",
    "        self.norm2 = nn.LayerNorm(dim_model) \n",
    "        self.positionwise_grn = GRN(dim_model, dropout_r = dropout_r) \n",
    "        self.norm3 = nn.LayerNorm(dim_model) \n",
    "        self.dropout = nn.Dropout(dropout_r) \n",
    "        self.fc_out = nn.Linear(dim_model, n_quantiles) \n",
    "        \n",
    "    # takes input (batch_size, past_seq_len, n_variables_past) \n",
    "    # and (batch_size, future_seq_len, n_variables_future) \n",
    "    def forward(self, x_past_cont, x_past_disc, x_future_cont, x_future_disc):\n",
    "        # Encoder \n",
    "        x_past, vs_weights = self.vs_past(x_past_cont, x_past_disc) \n",
    "        e, e_hidden = self.enc(x_past) \n",
    "        self.dec_hidden = e_hidden \n",
    "        e = self.dropout(e) \n",
    "        x_past = self.norm1(self.gate1(e) + x_past) \n",
    "\n",
    "        # Decoder\n",
    "        x_future, _ = self.vs_future(x_future_cont, x_future_disc) \n",
    "        d, _ = self.dec(x_future) \n",
    "        d = self.dropout(d) \n",
    "        x_future = self.norm1(self.gate1(d) + x_future) \n",
    "\n",
    "        # static enrichment\n",
    "        x = torch.cat((x_past, x_future), dim=1) # (batch_size, past_seq_len + future_seq_len, dim_model)\n",
    "        attention_res = x_future\n",
    "        x = self.static_enrich_grn(x) \n",
    "\n",
    "        # attention layer \n",
    "        a = self.attention[0][1](self.attention[0][0](x) + x) \n",
    "        for at in self.attention[1:]:\n",
    "            a = at[1](at[0](a) + a) \n",
    "        x_future = self.norm2(a[:, x_past.shape[1]:] + x_future) \n",
    "        a = self.positionwise_grn(x_future) \n",
    "        x_future = self.norm3(a + x_future + attention_res) \n",
    "        net_out = self.fc_out(x_future)  \n",
    "        return net_out, vs_weights \n",
    "\n",
    "    def reset(self, batch_size, gpu = True): \n",
    "        self.enc.reset(batch_size, gpu) \n",
    "        self.dec.reset(batch_size, gpu) "
   ]
  },
  {
   "cell_type": "markdown",
   "metadata": {},
   "source": [
    "# Example Train\n",
    "\n",
    "- train_in_cont.shape\n",
    "- train_target_seq.shape\n",
    "- train_in_disc.shape \n",
    "- train_future_disc.shape "
   ]
  },
  {
   "cell_type": "code",
   "execution_count": 25,
   "metadata": {},
   "outputs": [],
   "source": [
    "class CustomDataset(Dataset): \n",
    "    def __init__(self, past_cont, past_disc, target_seq, future_disc): \n",
    "        self.past_cont = past_cont\n",
    "        self.past_disc = past_disc \n",
    "        self.target_seq = target_seq  \n",
    "        self.future_disc = future_disc \n",
    "        \n",
    "    def __len__(self): \n",
    "        return len(self.past_cont) \n",
    "    \n",
    "    def __getitem__(self, i):  \n",
    "        return {\n",
    "            'past_cont': torch.tensor(self.past_cont[i], dtype=torch.float32), \n",
    "            'past_disc': torch.tensor(self.past_disc[i], dtype=torch.float32), \n",
    "            'target_seq': torch.tensor(self.target_seq[i], dtype=torch.float32),  \n",
    "            'future_disc': torch.tensor(self.future_disc[i], dtype=torch.float32),  \n",
    "        }"
   ]
  },
  {
   "cell_type": "code",
   "execution_count": 26,
   "metadata": {},
   "outputs": [],
   "source": [
    "BATCH_SIZE = 128\n",
    "\n",
    "train_dataset = CustomDataset(train_in_cont, train_in_disc, train_target_seq, train_future_disc)\n",
    "val_dataset = CustomDataset(val_in_cont, val_in_disc, val_target_seq, val_future_disc)  \n",
    "\n",
    "train_dataloader = torch.utils.data.DataLoader(train_dataset, batch_size = BATCH_SIZE, shuffle = True) \n",
    "val_dataloader = torch.utils.data.DataLoader(val_dataset, batch_size = BATCH_SIZE, shuffle = False) \n"
   ]
  },
  {
   "cell_type": "code",
   "execution_count": 27,
   "metadata": {},
   "outputs": [
    {
     "data": {
      "text/plain": [
       "TFN(\n",
       "  (vs_past): VSN(\n",
       "    (fc): Linear(in_features=1, out_features=160, bias=False)\n",
       "    (input_grn): GRN(\n",
       "      (fc1): Linear(in_features=160, out_features=10, bias=True)\n",
       "      (fc2): Linear(in_features=10, out_features=160, bias=True)\n",
       "      (dropout): Dropout(p=0.1, inplace=False)\n",
       "      (gate): GLU(\n",
       "        (fc1): Linear(in_features=160, out_features=160, bias=True)\n",
       "        (fc2): Linear(in_features=160, out_features=160, bias=True)\n",
       "      )\n",
       "      (norm): LayerNorm((160,), eps=1e-05, elementwise_affine=True)\n",
       "    )\n",
       "    (vs_grn): GRN(\n",
       "      (skip): Linear(in_features=960, out_features=6, bias=True)\n",
       "      (fc1): Linear(in_features=960, out_features=10, bias=True)\n",
       "      (fc2): Linear(in_features=10, out_features=6, bias=True)\n",
       "      (dropout): Dropout(p=0.1, inplace=False)\n",
       "      (gate): GLU(\n",
       "        (fc1): Linear(in_features=6, out_features=6, bias=True)\n",
       "        (fc2): Linear(in_features=6, out_features=6, bias=True)\n",
       "      )\n",
       "      (norm): LayerNorm((6,), eps=1e-05, elementwise_affine=True)\n",
       "    )\n",
       "  )\n",
       "  (vs_future): VSN(\n",
       "    (fc): Linear(in_features=1, out_features=160, bias=False)\n",
       "    (input_grn): GRN(\n",
       "      (fc1): Linear(in_features=160, out_features=10, bias=True)\n",
       "      (fc2): Linear(in_features=10, out_features=160, bias=True)\n",
       "      (dropout): Dropout(p=0.1, inplace=False)\n",
       "      (gate): GLU(\n",
       "        (fc1): Linear(in_features=160, out_features=160, bias=True)\n",
       "        (fc2): Linear(in_features=160, out_features=160, bias=True)\n",
       "      )\n",
       "      (norm): LayerNorm((160,), eps=1e-05, elementwise_affine=True)\n",
       "    )\n",
       "    (vs_grn): GRN(\n",
       "      (skip): Linear(in_features=160, out_features=1, bias=True)\n",
       "      (fc1): Linear(in_features=160, out_features=10, bias=True)\n",
       "      (fc2): Linear(in_features=10, out_features=1, bias=True)\n",
       "      (dropout): Dropout(p=0.1, inplace=False)\n",
       "      (gate): GLU(\n",
       "        (fc1): Linear(in_features=1, out_features=1, bias=True)\n",
       "        (fc2): Linear(in_features=1, out_features=1, bias=True)\n",
       "      )\n",
       "      (norm): LayerNorm((1,), eps=1e-05, elementwise_affine=True)\n",
       "    )\n",
       "  )\n",
       "  (enc): LSTMLayer(\n",
       "    (lstm): LSTM(160, 160, batch_first=True)\n",
       "    (dropout): Dropout(p=0.1, inplace=False)\n",
       "  )\n",
       "  (dec): LSTMLayer(\n",
       "    (lstm): LSTM(160, 160, batch_first=True)\n",
       "    (dropout): Dropout(p=0.1, inplace=False)\n",
       "  )\n",
       "  (gate1): GLU(\n",
       "    (fc1): Linear(in_features=160, out_features=160, bias=True)\n",
       "    (fc2): Linear(in_features=160, out_features=160, bias=True)\n",
       "  )\n",
       "  (norm1): LayerNorm((160,), eps=1e-05, elementwise_affine=True)\n",
       "  (static_enrich_grn): GRN(\n",
       "    (fc1): Linear(in_features=160, out_features=10, bias=True)\n",
       "    (fc2): Linear(in_features=10, out_features=160, bias=True)\n",
       "    (dropout): Dropout(p=0.1, inplace=False)\n",
       "    (gate): GLU(\n",
       "      (fc1): Linear(in_features=160, out_features=160, bias=True)\n",
       "      (fc2): Linear(in_features=160, out_features=160, bias=True)\n",
       "    )\n",
       "    (norm): LayerNorm((160,), eps=1e-05, elementwise_affine=True)\n",
       "  )\n",
       "  (norm2): LayerNorm((160,), eps=1e-05, elementwise_affine=True)\n",
       "  (positionwise_grn): GRN(\n",
       "    (fc1): Linear(in_features=160, out_features=10, bias=True)\n",
       "    (fc2): Linear(in_features=10, out_features=160, bias=True)\n",
       "    (dropout): Dropout(p=0.1, inplace=False)\n",
       "    (gate): GLU(\n",
       "      (fc1): Linear(in_features=160, out_features=160, bias=True)\n",
       "      (fc2): Linear(in_features=160, out_features=160, bias=True)\n",
       "    )\n",
       "    (norm): LayerNorm((160,), eps=1e-05, elementwise_affine=True)\n",
       "  )\n",
       "  (norm3): LayerNorm((160,), eps=1e-05, elementwise_affine=True)\n",
       "  (dropout): Dropout(p=0.1, inplace=False)\n",
       "  (fc_out): Linear(in_features=160, out_features=3, bias=True)\n",
       ")"
      ]
     },
     "execution_count": 27,
     "metadata": {},
     "output_type": "execute_result"
    }
   ],
   "source": [
    "model = TFN(n_var_past_cont = 5,\n",
    "            n_var_future_cont = 0, \n",
    "            n_var_past_disc = [24],\n",
    "            n_var_future_disc = [24],\n",
    "            dim_model = 160) \n",
    "\n",
    "model.cuda()\n"
   ]
  },
  {
   "cell_type": "code",
   "execution_count": 28,
   "metadata": {},
   "outputs": [],
   "source": [
    "device = torch.device('cuda')\n",
    "\n",
    "quantiles = torch.tensor([0.1, 0.5, 0.9]).float().type(torch.cuda.FloatTensor)\n",
    "\n",
    "epochs = 30 \n",
    "\n",
    "optimizer = torch.optim.Adam(model.parameters(), lr=5e-5) \n",
    "\n",
    "train_losses, val_losses = [], [] "
   ]
  },
  {
   "cell_type": "code",
   "execution_count": 29,
   "metadata": {},
   "outputs": [],
   "source": [
    "def evaluate(data_dataloader): \n",
    "    eval_loss = 0 \n",
    "    for step, batch in enumerate(data_dataloader): \n",
    "        past_cont = batch['past_cont'].to(device) \n",
    "        past_disc = batch['past_disc'].to(device) \n",
    "        target_seq = batch['target_seq'].to(device) \n",
    "        future_disc = batch['future_disc'].to(device) \n",
    "        \n",
    "        model.reset(batch_size=past_cont.shape[0], gpu=True)\n",
    "\n",
    "        \n",
    "        with torch.no_grad():\n",
    "            net_out, vs_weights = model(x_past_cont = past_cont, \n",
    "                                        x_past_disc = past_disc,\n",
    "                                        x_future_cont = None, \n",
    "                                        x_future_disc = future_disc) \n",
    "        \n",
    "        loss = torch.mean(QuantileLoss(net_out, target_seq, quantiles)) \n",
    "        eval_loss += loss.item() \n",
    "    \n",
    "    avg_val_loss = eval_loss / len(data_dataloader)\n",
    "        \n",
    "    return avg_val_loss, net_out, vs_weights"
   ]
  },
  {
   "cell_type": "code",
   "execution_count": 30,
   "metadata": {
    "scrolled": true
   },
   "outputs": [
    {
     "name": "stdout",
     "output_type": "stream",
     "text": [
      "\n",
      "======== Epoch 1 / 30 ========\n",
      "Training...\n"
     ]
    },
    {
     "name": "stderr",
     "output_type": "stream",
     "text": [
      "0it [00:00, ?it/s]/opt/conda/lib/python3.6/site-packages/ipykernel_launcher.py:13: UserWarning: To copy construct from a tensor, it is recommended to use sourceTensor.clone().detach() or sourceTensor.clone().detach().requires_grad_(True), rather than torch.tensor(sourceTensor).\n",
      "  del sys.path[0]\n",
      "/opt/conda/lib/python3.6/site-packages/ipykernel_launcher.py:14: UserWarning: To copy construct from a tensor, it is recommended to use sourceTensor.clone().detach() or sourceTensor.clone().detach().requires_grad_(True), rather than torch.tensor(sourceTensor).\n",
      "  \n",
      "/opt/conda/lib/python3.6/site-packages/ipykernel_launcher.py:15: UserWarning: To copy construct from a tensor, it is recommended to use sourceTensor.clone().detach() or sourceTensor.clone().detach().requires_grad_(True), rather than torch.tensor(sourceTensor).\n",
      "  from ipykernel import kernelapp as app\n",
      "/opt/conda/lib/python3.6/site-packages/ipykernel_launcher.py:16: UserWarning: To copy construct from a tensor, it is recommended to use sourceTensor.clone().detach() or sourceTensor.clone().detach().requires_grad_(True), rather than torch.tensor(sourceTensor).\n",
      "  app.launch_new_instance()\n",
      "50it [00:14,  3.01it/s]"
     ]
    },
    {
     "name": "stdout",
     "output_type": "stream",
     "text": [
      "saving best checkpoint\n"
     ]
    },
    {
     "name": "stderr",
     "output_type": "stream",
     "text": [
      "100it [00:34,  3.67it/s]"
     ]
    },
    {
     "name": "stdout",
     "output_type": "stream",
     "text": [
      "saving best checkpoint\n"
     ]
    },
    {
     "name": "stderr",
     "output_type": "stream",
     "text": [
      "150it [00:51,  3.53it/s]"
     ]
    },
    {
     "name": "stdout",
     "output_type": "stream",
     "text": [
      "saving best checkpoint\n"
     ]
    },
    {
     "name": "stderr",
     "output_type": "stream",
     "text": [
      "200it [01:09,  3.42it/s]"
     ]
    },
    {
     "name": "stdout",
     "output_type": "stream",
     "text": [
      "saving best checkpoint\n"
     ]
    },
    {
     "name": "stderr",
     "output_type": "stream",
     "text": [
      "250it [01:26,  3.60it/s]"
     ]
    },
    {
     "name": "stdout",
     "output_type": "stream",
     "text": [
      "saving best checkpoint\n"
     ]
    },
    {
     "name": "stderr",
     "output_type": "stream",
     "text": [
      "300it [01:44,  3.60it/s]"
     ]
    },
    {
     "name": "stdout",
     "output_type": "stream",
     "text": [
      "saving best checkpoint\n"
     ]
    },
    {
     "name": "stderr",
     "output_type": "stream",
     "text": [
      "500it [02:54,  3.56it/s]"
     ]
    },
    {
     "name": "stdout",
     "output_type": "stream",
     "text": [
      "saving best checkpoint\n"
     ]
    },
    {
     "name": "stderr",
     "output_type": "stream",
     "text": [
      "550it [03:10,  3.79it/s]"
     ]
    },
    {
     "name": "stdout",
     "output_type": "stream",
     "text": [
      "saving best checkpoint\n"
     ]
    },
    {
     "name": "stderr",
     "output_type": "stream",
     "text": [
      "600it [03:28,  3.67it/s]"
     ]
    },
    {
     "name": "stdout",
     "output_type": "stream",
     "text": [
      "saving best checkpoint\n"
     ]
    },
    {
     "name": "stderr",
     "output_type": "stream",
     "text": [
      "650it [03:45,  3.73it/s]"
     ]
    },
    {
     "name": "stdout",
     "output_type": "stream",
     "text": [
      "saving best checkpoint\n"
     ]
    },
    {
     "name": "stderr",
     "output_type": "stream",
     "text": [
      "700it [04:02,  3.69it/s]"
     ]
    },
    {
     "name": "stdout",
     "output_type": "stream",
     "text": [
      "saving best checkpoint\n"
     ]
    },
    {
     "name": "stderr",
     "output_type": "stream",
     "text": [
      "750it [04:20,  3.47it/s]"
     ]
    },
    {
     "name": "stdout",
     "output_type": "stream",
     "text": [
      "saving best checkpoint\n"
     ]
    },
    {
     "name": "stderr",
     "output_type": "stream",
     "text": [
      "800it [04:37,  3.46it/s]"
     ]
    },
    {
     "name": "stdout",
     "output_type": "stream",
     "text": [
      "saving best checkpoint\n"
     ]
    },
    {
     "name": "stderr",
     "output_type": "stream",
     "text": [
      "850it [04:54,  3.70it/s]"
     ]
    },
    {
     "name": "stdout",
     "output_type": "stream",
     "text": [
      "saving best checkpoint\n"
     ]
    },
    {
     "name": "stderr",
     "output_type": "stream",
     "text": [
      "900it [05:11,  3.70it/s]"
     ]
    },
    {
     "name": "stdout",
     "output_type": "stream",
     "text": [
      "saving best checkpoint\n"
     ]
    },
    {
     "name": "stderr",
     "output_type": "stream",
     "text": [
      "1000it [05:45,  3.64it/s]"
     ]
    },
    {
     "name": "stdout",
     "output_type": "stream",
     "text": [
      "saving best checkpoint\n"
     ]
    },
    {
     "name": "stderr",
     "output_type": "stream",
     "text": [
      "1050it [06:02,  3.69it/s]"
     ]
    },
    {
     "name": "stdout",
     "output_type": "stream",
     "text": [
      "saving best checkpoint\n"
     ]
    },
    {
     "name": "stderr",
     "output_type": "stream",
     "text": [
      "1100it [06:20,  3.52it/s]"
     ]
    },
    {
     "name": "stdout",
     "output_type": "stream",
     "text": [
      "saving best checkpoint\n"
     ]
    },
    {
     "name": "stderr",
     "output_type": "stream",
     "text": [
      "1200it [06:54,  3.68it/s]"
     ]
    },
    {
     "name": "stdout",
     "output_type": "stream",
     "text": [
      "saving best checkpoint\n"
     ]
    },
    {
     "name": "stderr",
     "output_type": "stream",
     "text": [
      "1250it [07:11,  3.66it/s]"
     ]
    },
    {
     "name": "stdout",
     "output_type": "stream",
     "text": [
      "saving best checkpoint\n"
     ]
    },
    {
     "name": "stderr",
     "output_type": "stream",
     "text": [
      "1550it [08:53,  3.53it/s]"
     ]
    },
    {
     "name": "stdout",
     "output_type": "stream",
     "text": [
      "saving best checkpoint\n"
     ]
    },
    {
     "name": "stderr",
     "output_type": "stream",
     "text": [
      "2472it [14:11,  2.90it/s]\n"
     ]
    },
    {
     "name": "stdout",
     "output_type": "stream",
     "text": [
      "\n",
      "======== Epoch 2 / 30 ========\n",
      "Training...\n"
     ]
    },
    {
     "name": "stderr",
     "output_type": "stream",
     "text": [
      "2023it [11:43,  3.74it/s]IOPub message rate exceeded.\n",
      "The notebook server will temporarily stop sending output\n",
      "to the client in order to avoid crashing it.\n",
      "To change this limit, set the config variable\n",
      "`--NotebookApp.iopub_msg_rate_limit`.\n",
      "\n",
      "Current values:\n",
      "NotebookApp.iopub_msg_rate_limit=1000.0 (msgs/sec)\n",
      "NotebookApp.rate_limit_window=3.0 (secs)\n",
      "\n",
      "2350it [13:18,  3.63it/s]"
     ]
    },
    {
     "name": "stdout",
     "output_type": "stream",
     "text": [
      "saving best checkpoint\n"
     ]
    },
    {
     "name": "stderr",
     "output_type": "stream",
     "text": [
      "2450it [13:52,  3.65it/s]"
     ]
    },
    {
     "name": "stdout",
     "output_type": "stream",
     "text": [
      "saving best checkpoint\n"
     ]
    },
    {
     "name": "stderr",
     "output_type": "stream",
     "text": [
      "2472it [14:02,  2.93it/s]\n"
     ]
    },
    {
     "name": "stdout",
     "output_type": "stream",
     "text": [
      "\n",
      "======== Epoch 4 / 30 ========\n",
      "Training...\n"
     ]
    },
    {
     "name": "stderr",
     "output_type": "stream",
     "text": [
      "100it [00:31,  3.50it/s]"
     ]
    },
    {
     "name": "stdout",
     "output_type": "stream",
     "text": [
      "saving best checkpoint\n"
     ]
    },
    {
     "name": "stderr",
     "output_type": "stream",
     "text": [
      "350it [01:58,  3.55it/s]"
     ]
    },
    {
     "name": "stdout",
     "output_type": "stream",
     "text": [
      "saving best checkpoint\n"
     ]
    },
    {
     "name": "stderr",
     "output_type": "stream",
     "text": [
      "500it [02:52,  3.28it/s]"
     ]
    },
    {
     "name": "stdout",
     "output_type": "stream",
     "text": [
      "saving best checkpoint\n"
     ]
    },
    {
     "name": "stderr",
     "output_type": "stream",
     "text": [
      "1000it [05:50,  3.65it/s]"
     ]
    },
    {
     "name": "stdout",
     "output_type": "stream",
     "text": [
      "saving best checkpoint\n"
     ]
    },
    {
     "name": "stderr",
     "output_type": "stream",
     "text": [
      "1400it [08:07,  3.59it/s]"
     ]
    },
    {
     "name": "stdout",
     "output_type": "stream",
     "text": [
      "saving best checkpoint\n"
     ]
    },
    {
     "name": "stderr",
     "output_type": "stream",
     "text": [
      "1700it [09:49,  3.57it/s]"
     ]
    },
    {
     "name": "stdout",
     "output_type": "stream",
     "text": [
      "saving best checkpoint\n"
     ]
    },
    {
     "name": "stderr",
     "output_type": "stream",
     "text": [
      "1750it [10:06,  3.56it/s]"
     ]
    },
    {
     "name": "stdout",
     "output_type": "stream",
     "text": [
      "saving best checkpoint\n"
     ]
    },
    {
     "name": "stderr",
     "output_type": "stream",
     "text": [
      "1800it [10:23,  3.40it/s]"
     ]
    },
    {
     "name": "stdout",
     "output_type": "stream",
     "text": [
      "saving best checkpoint\n"
     ]
    },
    {
     "name": "stderr",
     "output_type": "stream",
     "text": [
      "2050it [11:47,  3.62it/s]"
     ]
    },
    {
     "name": "stdout",
     "output_type": "stream",
     "text": [
      "saving best checkpoint\n"
     ]
    },
    {
     "name": "stderr",
     "output_type": "stream",
     "text": [
      "2472it [14:15,  2.89it/s]\n"
     ]
    },
    {
     "name": "stdout",
     "output_type": "stream",
     "text": [
      "\n",
      "======== Epoch 5 / 30 ========\n",
      "Training...\n"
     ]
    },
    {
     "name": "stderr",
     "output_type": "stream",
     "text": [
      "550it [03:06,  3.67it/s]"
     ]
    },
    {
     "name": "stdout",
     "output_type": "stream",
     "text": [
      "saving best checkpoint\n"
     ]
    },
    {
     "name": "stderr",
     "output_type": "stream",
     "text": [
      "600it [03:23,  3.73it/s]"
     ]
    },
    {
     "name": "stdout",
     "output_type": "stream",
     "text": [
      "saving best checkpoint\n"
     ]
    },
    {
     "name": "stderr",
     "output_type": "stream",
     "text": [
      "2472it [14:08,  2.91it/s]\n"
     ]
    },
    {
     "name": "stdout",
     "output_type": "stream",
     "text": [
      "\n",
      "======== Epoch 6 / 30 ========\n",
      "Training...\n"
     ]
    },
    {
     "name": "stderr",
     "output_type": "stream",
     "text": [
      "300it [01:42,  3.56it/s]"
     ]
    },
    {
     "name": "stdout",
     "output_type": "stream",
     "text": [
      "saving best checkpoint\n"
     ]
    },
    {
     "name": "stderr",
     "output_type": "stream",
     "text": [
      "350it [02:00,  3.33it/s]"
     ]
    },
    {
     "name": "stdout",
     "output_type": "stream",
     "text": [
      "saving best checkpoint\n"
     ]
    },
    {
     "name": "stderr",
     "output_type": "stream",
     "text": [
      "2472it [14:15,  2.89it/s]\n"
     ]
    },
    {
     "name": "stdout",
     "output_type": "stream",
     "text": [
      "\n",
      "======== Epoch 7 / 30 ========\n",
      "Training...\n"
     ]
    },
    {
     "name": "stderr",
     "output_type": "stream",
     "text": [
      "2472it [14:23,  2.86it/s]\n"
     ]
    },
    {
     "name": "stdout",
     "output_type": "stream",
     "text": [
      "\n",
      "======== Epoch 8 / 30 ========\n",
      "Training...\n"
     ]
    },
    {
     "name": "stderr",
     "output_type": "stream",
     "text": [
      "2472it [14:34,  2.83it/s]\n"
     ]
    },
    {
     "name": "stdout",
     "output_type": "stream",
     "text": [
      "\n",
      "======== Epoch 9 / 30 ========\n",
      "Training...\n"
     ]
    },
    {
     "name": "stderr",
     "output_type": "stream",
     "text": [
      "300it [01:44,  3.49it/s]"
     ]
    },
    {
     "name": "stdout",
     "output_type": "stream",
     "text": [
      "saving best checkpoint\n"
     ]
    },
    {
     "name": "stderr",
     "output_type": "stream",
     "text": [
      "2472it [14:13,  2.90it/s]\n"
     ]
    },
    {
     "name": "stdout",
     "output_type": "stream",
     "text": [
      "\n",
      "======== Epoch 10 / 30 ========\n",
      "Training...\n"
     ]
    },
    {
     "name": "stderr",
     "output_type": "stream",
     "text": [
      "2472it [13:50,  2.97it/s]\n"
     ]
    },
    {
     "name": "stdout",
     "output_type": "stream",
     "text": [
      "\n",
      "======== Epoch 11 / 30 ========\n",
      "Training...\n"
     ]
    },
    {
     "name": "stderr",
     "output_type": "stream",
     "text": [
      "50it [00:14,  3.55it/s]"
     ]
    },
    {
     "name": "stdout",
     "output_type": "stream",
     "text": [
      "saving best checkpoint\n"
     ]
    },
    {
     "name": "stderr",
     "output_type": "stream",
     "text": [
      "100it [00:31,  3.55it/s]"
     ]
    },
    {
     "name": "stdout",
     "output_type": "stream",
     "text": [
      "saving best checkpoint\n"
     ]
    },
    {
     "name": "stderr",
     "output_type": "stream",
     "text": [
      "250it [01:22,  3.15it/s]"
     ]
    },
    {
     "name": "stdout",
     "output_type": "stream",
     "text": [
      "saving best checkpoint\n"
     ]
    },
    {
     "name": "stderr",
     "output_type": "stream",
     "text": [
      "2472it [14:07,  2.92it/s]\n"
     ]
    },
    {
     "name": "stdout",
     "output_type": "stream",
     "text": [
      "\n",
      "======== Epoch 12 / 30 ========\n",
      "Training...\n"
     ]
    },
    {
     "name": "stderr",
     "output_type": "stream",
     "text": [
      "2472it [14:05,  2.92it/s]\n"
     ]
    },
    {
     "name": "stdout",
     "output_type": "stream",
     "text": [
      "\n",
      "======== Epoch 13 / 30 ========\n",
      "Training...\n"
     ]
    },
    {
     "name": "stderr",
     "output_type": "stream",
     "text": [
      "2472it [14:23,  2.86it/s]\n"
     ]
    },
    {
     "name": "stdout",
     "output_type": "stream",
     "text": [
      "\n",
      "======== Epoch 14 / 30 ========\n",
      "Training...\n"
     ]
    },
    {
     "name": "stderr",
     "output_type": "stream",
     "text": [
      "2472it [14:25,  2.86it/s]\n"
     ]
    },
    {
     "name": "stdout",
     "output_type": "stream",
     "text": [
      "\n",
      "======== Epoch 15 / 30 ========\n",
      "Training...\n"
     ]
    },
    {
     "name": "stderr",
     "output_type": "stream",
     "text": [
      "2472it [14:31,  2.84it/s]\n"
     ]
    },
    {
     "name": "stdout",
     "output_type": "stream",
     "text": [
      "\n",
      "======== Epoch 16 / 30 ========\n",
      "Training...\n"
     ]
    },
    {
     "name": "stderr",
     "output_type": "stream",
     "text": [
      "2472it [14:35,  2.82it/s]\n"
     ]
    },
    {
     "name": "stdout",
     "output_type": "stream",
     "text": [
      "\n",
      "======== Epoch 17 / 30 ========\n",
      "Training...\n"
     ]
    },
    {
     "name": "stderr",
     "output_type": "stream",
     "text": [
      "2472it [14:32,  2.83it/s]\n"
     ]
    },
    {
     "name": "stdout",
     "output_type": "stream",
     "text": [
      "\n",
      "======== Epoch 18 / 30 ========\n",
      "Training...\n"
     ]
    },
    {
     "name": "stderr",
     "output_type": "stream",
     "text": [
      "2472it [13:59,  2.94it/s]\n"
     ]
    },
    {
     "name": "stdout",
     "output_type": "stream",
     "text": [
      "\n",
      "======== Epoch 19 / 30 ========\n",
      "Training...\n"
     ]
    },
    {
     "name": "stderr",
     "output_type": "stream",
     "text": [
      "2472it [14:00,  2.94it/s]\n"
     ]
    },
    {
     "name": "stdout",
     "output_type": "stream",
     "text": [
      "\n",
      "======== Epoch 20 / 30 ========\n",
      "Training...\n"
     ]
    },
    {
     "name": "stderr",
     "output_type": "stream",
     "text": [
      "2472it [14:15,  2.89it/s]\n"
     ]
    },
    {
     "name": "stdout",
     "output_type": "stream",
     "text": [
      "\n",
      "======== Epoch 21 / 30 ========\n",
      "Training...\n"
     ]
    },
    {
     "name": "stderr",
     "output_type": "stream",
     "text": [
      "2472it [14:23,  2.86it/s]\n"
     ]
    },
    {
     "name": "stdout",
     "output_type": "stream",
     "text": [
      "\n",
      "======== Epoch 22 / 30 ========\n",
      "Training...\n"
     ]
    },
    {
     "name": "stderr",
     "output_type": "stream",
     "text": [
      "2472it [14:28,  2.85it/s]\n"
     ]
    },
    {
     "name": "stdout",
     "output_type": "stream",
     "text": [
      "\n",
      "======== Epoch 23 / 30 ========\n",
      "Training...\n"
     ]
    },
    {
     "name": "stderr",
     "output_type": "stream",
     "text": [
      "2472it [14:12,  2.90it/s]\n"
     ]
    },
    {
     "name": "stdout",
     "output_type": "stream",
     "text": [
      "\n",
      "======== Epoch 24 / 30 ========\n",
      "Training...\n"
     ]
    },
    {
     "name": "stderr",
     "output_type": "stream",
     "text": [
      "2472it [14:23,  2.86it/s]\n"
     ]
    },
    {
     "name": "stdout",
     "output_type": "stream",
     "text": [
      "\n",
      "======== Epoch 25 / 30 ========\n",
      "Training...\n"
     ]
    },
    {
     "name": "stderr",
     "output_type": "stream",
     "text": [
      "2472it [14:30,  2.84it/s]\n"
     ]
    },
    {
     "name": "stdout",
     "output_type": "stream",
     "text": [
      "\n",
      "======== Epoch 26 / 30 ========\n",
      "Training...\n"
     ]
    },
    {
     "name": "stderr",
     "output_type": "stream",
     "text": [
      "2472it [14:28,  2.85it/s]\n"
     ]
    },
    {
     "name": "stdout",
     "output_type": "stream",
     "text": [
      "\n",
      "======== Epoch 27 / 30 ========\n",
      "Training...\n"
     ]
    },
    {
     "name": "stderr",
     "output_type": "stream",
     "text": [
      "2472it [14:34,  2.83it/s]\n"
     ]
    },
    {
     "name": "stdout",
     "output_type": "stream",
     "text": [
      "\n",
      "======== Epoch 28 / 30 ========\n",
      "Training...\n"
     ]
    },
    {
     "name": "stderr",
     "output_type": "stream",
     "text": [
      "2472it [14:48,  2.78it/s]\n"
     ]
    },
    {
     "name": "stdout",
     "output_type": "stream",
     "text": [
      "\n",
      "======== Epoch 29 / 30 ========\n",
      "Training...\n"
     ]
    },
    {
     "name": "stderr",
     "output_type": "stream",
     "text": [
      "2472it [14:46,  2.79it/s]\n"
     ]
    },
    {
     "name": "stdout",
     "output_type": "stream",
     "text": [
      "\n",
      "======== Epoch 30 / 30 ========\n",
      "Training...\n"
     ]
    },
    {
     "name": "stderr",
     "output_type": "stream",
     "text": [
      "2472it [14:53,  2.77it/s]\n"
     ]
    },
    {
     "data": {
      "image/png": "[encoded data removed]",
      "text/plain": [
       "<Figure size 432x288 with 3 Axes>"
      ]
     },
     "metadata": {
      "needs_background": "light"
     },
     "output_type": "display_data"
    }
   ],
   "source": [
    "# plot figures every epoch \n",
    "fig = plt.figure()\n",
    "ax = fig.add_subplot(411)\n",
    "ax1 = fig.add_subplot(412)\n",
    "# ax2 = fig.add_subplot(413)\n",
    "ax3 = fig.add_subplot(414)\n",
    "plt.ion()\n",
    "\n",
    "\n",
    "for i in range(epochs):\n",
    "    print(\"\")\n",
    "    print('======== Epoch {:} / {:} ========'.format(i + 1, epochs))\n",
    "    print('Training...')\n",
    "    total_loss = 0 \n",
    "    model.train() \n",
    "    \n",
    "    for step, batch in tqdm(enumerate(train_dataloader)): \n",
    "        if step%50 == 0 and not step == 0: \n",
    "            model.eval() \n",
    "            val_loss, _, _ = evaluate(val_dataloader) \n",
    "            val_losses.append(val_loss) \n",
    "            if np.min(val_losses) == val_losses[-1]: \n",
    "                print(\"saving best checkpoint\") \n",
    "                torch.save(model.state_dict(), \"TFT_test.pt\") \n",
    "            model.train()  \n",
    "    \n",
    "        \n",
    "        past_cont = batch['past_cont'].to(device) \n",
    "        past_disc = batch['past_disc'].to(device) \n",
    "        target_seq = batch['target_seq'].to(device) \n",
    "        future_disc = batch['future_disc'].to(device) \n",
    "        model.reset(batch_size=past_cont.shape[0], gpu=True)\n",
    "                \n",
    "        optimizer.zero_grad() \n",
    "\n",
    "        net_out, vs_weights = model(x_past_cont = past_cont, \n",
    "                                    x_past_disc = past_disc, \n",
    "                                    x_future_cont = None, \n",
    "                                    x_future_disc = future_disc) \n",
    "        \n",
    "        # net_out = net_out.cpu().detach()[0]\n",
    "        \n",
    "        loss = torch.mean(QuantileLoss(net_out, target_seq, quantiles))  \n",
    "        # backward pass \n",
    "        train_losses.append(loss.item()) \n",
    "        loss.backward() \n",
    "        optimizer.step() \n",
    "\n",
    "        # loss graphs\n",
    "        fig.tight_layout(pad=0.1) \n",
    "        ax.clear()\n",
    "        ax.title.set_text(\"Training Loss\")\n",
    "        ax.plot(train_losses)\n",
    "        \n",
    "        ax1.clear() \n",
    "        ax1.title.set_text(\"Val Loss\")\n",
    "        ax1.plot(val_losses) \n",
    "        \n",
    "        # visualise variable selection weights \n",
    "        vs_weights = torch.mean(torch.mean(vs_weights, dim=0), dim=0).squeeze()  \n",
    "        vs_weights = vs_weights.cpu().detach().numpy()\n",
    "        ax3.clear() \n",
    "        ax3.title.set_text(\"Variable Selection Weights\") \n",
    "        plt.xticks(rotation=-30) \n",
    "        x = [\"Open\", \"High\", \"Low\", \"Close\", \"Volume\", \"Hour\"] \n",
    "        ax3.bar(x=x, height=vs_weights) \n",
    "        fig.canvas.draw() "
   ]
  },
  {
   "cell_type": "code",
   "execution_count": 68,
   "metadata": {
    "scrolled": true
   },
   "outputs": [
    {
     "data": {
      "text/plain": [
       "TFN(\n",
       "  (vs_past): VSN(\n",
       "    (fc): Linear(in_features=1, out_features=160, bias=False)\n",
       "    (input_grn): GRN(\n",
       "      (fc1): Linear(in_features=160, out_features=10, bias=True)\n",
       "      (fc2): Linear(in_features=10, out_features=160, bias=True)\n",
       "      (dropout): Dropout(p=0.1, inplace=False)\n",
       "      (gate): GLU(\n",
       "        (fc1): Linear(in_features=160, out_features=160, bias=True)\n",
       "        (fc2): Linear(in_features=160, out_features=160, bias=True)\n",
       "      )\n",
       "      (norm): LayerNorm((160,), eps=1e-05, elementwise_affine=True)\n",
       "    )\n",
       "    (vs_grn): GRN(\n",
       "      (skip): Linear(in_features=960, out_features=6, bias=True)\n",
       "      (fc1): Linear(in_features=960, out_features=10, bias=True)\n",
       "      (fc2): Linear(in_features=10, out_features=6, bias=True)\n",
       "      (dropout): Dropout(p=0.1, inplace=False)\n",
       "      (gate): GLU(\n",
       "        (fc1): Linear(in_features=6, out_features=6, bias=True)\n",
       "        (fc2): Linear(in_features=6, out_features=6, bias=True)\n",
       "      )\n",
       "      (norm): LayerNorm((6,), eps=1e-05, elementwise_affine=True)\n",
       "    )\n",
       "  )\n",
       "  (vs_future): VSN(\n",
       "    (fc): Linear(in_features=1, out_features=160, bias=False)\n",
       "    (input_grn): GRN(\n",
       "      (fc1): Linear(in_features=160, out_features=10, bias=True)\n",
       "      (fc2): Linear(in_features=10, out_features=160, bias=True)\n",
       "      (dropout): Dropout(p=0.1, inplace=False)\n",
       "      (gate): GLU(\n",
       "        (fc1): Linear(in_features=160, out_features=160, bias=True)\n",
       "        (fc2): Linear(in_features=160, out_features=160, bias=True)\n",
       "      )\n",
       "      (norm): LayerNorm((160,), eps=1e-05, elementwise_affine=True)\n",
       "    )\n",
       "    (vs_grn): GRN(\n",
       "      (skip): Linear(in_features=160, out_features=1, bias=True)\n",
       "      (fc1): Linear(in_features=160, out_features=10, bias=True)\n",
       "      (fc2): Linear(in_features=10, out_features=1, bias=True)\n",
       "      (dropout): Dropout(p=0.1, inplace=False)\n",
       "      (gate): GLU(\n",
       "        (fc1): Linear(in_features=1, out_features=1, bias=True)\n",
       "        (fc2): Linear(in_features=1, out_features=1, bias=True)\n",
       "      )\n",
       "      (norm): LayerNorm((1,), eps=1e-05, elementwise_affine=True)\n",
       "    )\n",
       "  )\n",
       "  (enc): LSTMLayer(\n",
       "    (lstm): LSTM(160, 160, batch_first=True)\n",
       "    (dropout): Dropout(p=0.1, inplace=False)\n",
       "  )\n",
       "  (dec): LSTMLayer(\n",
       "    (lstm): LSTM(160, 160, batch_first=True)\n",
       "    (dropout): Dropout(p=0.1, inplace=False)\n",
       "  )\n",
       "  (gate1): GLU(\n",
       "    (fc1): Linear(in_features=160, out_features=160, bias=True)\n",
       "    (fc2): Linear(in_features=160, out_features=160, bias=True)\n",
       "  )\n",
       "  (norm1): LayerNorm((160,), eps=1e-05, elementwise_affine=True)\n",
       "  (static_enrich_grn): GRN(\n",
       "    (fc1): Linear(in_features=160, out_features=10, bias=True)\n",
       "    (fc2): Linear(in_features=10, out_features=160, bias=True)\n",
       "    (dropout): Dropout(p=0.1, inplace=False)\n",
       "    (gate): GLU(\n",
       "      (fc1): Linear(in_features=160, out_features=160, bias=True)\n",
       "      (fc2): Linear(in_features=160, out_features=160, bias=True)\n",
       "    )\n",
       "    (norm): LayerNorm((160,), eps=1e-05, elementwise_affine=True)\n",
       "  )\n",
       "  (norm2): LayerNorm((160,), eps=1e-05, elementwise_affine=True)\n",
       "  (positionwise_grn): GRN(\n",
       "    (fc1): Linear(in_features=160, out_features=10, bias=True)\n",
       "    (fc2): Linear(in_features=10, out_features=160, bias=True)\n",
       "    (dropout): Dropout(p=0.1, inplace=False)\n",
       "    (gate): GLU(\n",
       "      (fc1): Linear(in_features=160, out_features=160, bias=True)\n",
       "      (fc2): Linear(in_features=160, out_features=160, bias=True)\n",
       "    )\n",
       "    (norm): LayerNorm((160,), eps=1e-05, elementwise_affine=True)\n",
       "  )\n",
       "  (norm3): LayerNorm((160,), eps=1e-05, elementwise_affine=True)\n",
       "  (dropout): Dropout(p=0.1, inplace=False)\n",
       "  (fc_out): Linear(in_features=160, out_features=3, bias=True)\n",
       ")"
      ]
     },
     "execution_count": 68,
     "metadata": {},
     "output_type": "execute_result"
    }
   ],
   "source": [
    "model"
   ]
  },
  {
   "cell_type": "markdown",
   "metadata": {},
   "source": [
    "# Prediction"
   ]
  },
  {
   "cell_type": "code",
   "execution_count": 60,
   "metadata": {},
   "outputs": [
    {
     "name": "stderr",
     "output_type": "stream",
     "text": [
      "/opt/conda/lib/python3.6/site-packages/ipykernel_launcher.py:14: UserWarning: To copy construct from a tensor, it is recommended to use sourceTensor.clone().detach() or sourceTensor.clone().detach().requires_grad_(True), rather than torch.tensor(sourceTensor).\n",
      "  \n",
      "/opt/conda/lib/python3.6/site-packages/ipykernel_launcher.py:15: UserWarning: To copy construct from a tensor, it is recommended to use sourceTensor.clone().detach() or sourceTensor.clone().detach().requires_grad_(True), rather than torch.tensor(sourceTensor).\n",
      "  from ipykernel import kernelapp as app\n",
      "/opt/conda/lib/python3.6/site-packages/ipykernel_launcher.py:16: UserWarning: To copy construct from a tensor, it is recommended to use sourceTensor.clone().detach() or sourceTensor.clone().detach().requires_grad_(True), rather than torch.tensor(sourceTensor).\n",
      "  app.launch_new_instance()\n",
      "/opt/conda/lib/python3.6/site-packages/ipykernel_launcher.py:17: UserWarning: To copy construct from a tensor, it is recommended to use sourceTensor.clone().detach() or sourceTensor.clone().detach().requires_grad_(True), rather than torch.tensor(sourceTensor).\n"
     ]
    }
   ],
   "source": [
    "mu = norm[con_cols].stack().mean()  \n",
    "std = norm[con_cols].stack().std()\n",
    "\n",
    "sample_in_cont = val_in_cont[0] \n",
    "sample_target_seq = val_target_seq[0] \n",
    "sample_in_disc = val_in_disc[0] \n",
    "sample_future_disc = val_future_disc[0] \n",
    "\n",
    "\n",
    "sample_in_cont = (sample_in_cont - mu) / std\n",
    "sample_target_seq = (sample_target_seq - mu) / std  \n",
    "\n",
    "\n",
    "sample_in_cont = torch.tensor(sample_in_cont, dtype=torch.float32)\n",
    "sample_target_seq = torch.tensor(sample_target_seq, dtype=torch.float32) \n",
    "sample_in_disc = torch.tensor(sample_in_disc, dtype=torch.float32) \n",
    "sample_future_disc = torch.tensor(sample_future_disc, dtype=torch.float32)"
   ]
  },
  {
   "cell_type": "code",
   "execution_count": 64,
   "metadata": {},
   "outputs": [
    {
     "data": {
      "text/plain": [
       "torch.Size([10383, 12, 1, 24])"
      ]
     },
     "execution_count": 64,
     "metadata": {},
     "output_type": "execute_result"
    }
   ],
   "source": [
    "val_future_disc.shape"
   ]
  },
  {
   "cell_type": "code",
   "execution_count": 61,
   "metadata": {},
   "outputs": [],
   "source": [
    "sample_in_cont = torch.reshape(sample_in_cont, (-1,80,5,1)) \n",
    "sample_target_seq = torch.reshape(sample_target_seq, (-1,12,1)) \n",
    "sample_in_disc = torch.reshape(sample_in_disc, (-1, 80, 1, 24)) \n",
    "sample_future_disc = torch.reshape(sample_future_disc, (-1,12,1,24)) "
   ]
  },
  {
   "cell_type": "code",
   "execution_count": 62,
   "metadata": {},
   "outputs": [],
   "source": [
    "sample_in_cont = sample_in_cont.to(device) \n",
    "sample_target_seq = sample_target_seq.to(device) \n",
    "sample_in_disc = sample_in_disc.to(device) \n",
    "sample_future_disc = sample_future_disc.to(device) \n"
   ]
  },
  {
   "cell_type": "code",
   "execution_count": 66,
   "metadata": {},
   "outputs": [
    {
     "ename": "RuntimeError",
     "evalue": "Expected hidden[0] size (1, 1, 160), got [1, 45, 160]",
     "output_type": "error",
     "traceback": [
      "\u001b[0;31m---------------------------------------------------------------------------\u001b[0m",
      "\u001b[0;31mRuntimeError\u001b[0m                              Traceback (most recent call last)",
      "\u001b[0;32m<ipython-input-66-af010dfede8e>\u001b[0m in \u001b[0;36m<module>\u001b[0;34m\u001b[0m\n\u001b[1;32m      2\u001b[0m                \u001b[0mx_past_disc\u001b[0m \u001b[0;34m=\u001b[0m \u001b[0msample_in_disc\u001b[0m\u001b[0;34m,\u001b[0m\u001b[0;34m\u001b[0m\u001b[0;34m\u001b[0m\u001b[0m\n\u001b[1;32m      3\u001b[0m                \u001b[0mx_future_cont\u001b[0m \u001b[0;34m=\u001b[0m \u001b[0;32mNone\u001b[0m\u001b[0;34m,\u001b[0m\u001b[0;34m\u001b[0m\u001b[0;34m\u001b[0m\u001b[0m\n\u001b[0;32m----> 4\u001b[0;31m                x_future_disc = sample_future_disc) \n\u001b[0m\u001b[1;32m      5\u001b[0m \u001b[0;34m\u001b[0m\u001b[0m\n\u001b[1;32m      6\u001b[0m \u001b[0moutputs\u001b[0m\u001b[0;34m[\u001b[0m\u001b[0;36m0\u001b[0m\u001b[0;34m]\u001b[0m\u001b[0;34m.\u001b[0m\u001b[0mshape\u001b[0m\u001b[0;34m\u001b[0m\u001b[0;34m\u001b[0m\u001b[0m\n",
      "\u001b[0;32m/opt/conda/lib/python3.6/site-packages/torch/nn/modules/module.py\u001b[0m in \u001b[0;36m_call_impl\u001b[0;34m(self, *input, **kwargs)\u001b[0m\n\u001b[1;32m    725\u001b[0m             \u001b[0mresult\u001b[0m \u001b[0;34m=\u001b[0m \u001b[0mself\u001b[0m\u001b[0;34m.\u001b[0m\u001b[0m_slow_forward\u001b[0m\u001b[0;34m(\u001b[0m\u001b[0;34m*\u001b[0m\u001b[0minput\u001b[0m\u001b[0;34m,\u001b[0m \u001b[0;34m**\u001b[0m\u001b[0mkwargs\u001b[0m\u001b[0;34m)\u001b[0m\u001b[0;34m\u001b[0m\u001b[0;34m\u001b[0m\u001b[0m\n\u001b[1;32m    726\u001b[0m         \u001b[0;32melse\u001b[0m\u001b[0;34m:\u001b[0m\u001b[0;34m\u001b[0m\u001b[0;34m\u001b[0m\u001b[0m\n\u001b[0;32m--> 727\u001b[0;31m             \u001b[0mresult\u001b[0m \u001b[0;34m=\u001b[0m \u001b[0mself\u001b[0m\u001b[0;34m.\u001b[0m\u001b[0mforward\u001b[0m\u001b[0;34m(\u001b[0m\u001b[0;34m*\u001b[0m\u001b[0minput\u001b[0m\u001b[0;34m,\u001b[0m \u001b[0;34m**\u001b[0m\u001b[0mkwargs\u001b[0m\u001b[0;34m)\u001b[0m\u001b[0;34m\u001b[0m\u001b[0;34m\u001b[0m\u001b[0m\n\u001b[0m\u001b[1;32m    728\u001b[0m         for hook in itertools.chain(\n\u001b[1;32m    729\u001b[0m                 \u001b[0m_global_forward_hooks\u001b[0m\u001b[0;34m.\u001b[0m\u001b[0mvalues\u001b[0m\u001b[0;34m(\u001b[0m\u001b[0;34m)\u001b[0m\u001b[0;34m,\u001b[0m\u001b[0;34m\u001b[0m\u001b[0;34m\u001b[0m\u001b[0m\n",
      "\u001b[0;32m<ipython-input-24-f47c5f4c608f>\u001b[0m in \u001b[0;36mforward\u001b[0;34m(self, x_past_cont, x_past_disc, x_future_cont, x_future_disc)\u001b[0m\n\u001b[1;32m     39\u001b[0m         \u001b[0;31m# Encoder\u001b[0m\u001b[0;34m\u001b[0m\u001b[0;34m\u001b[0m\u001b[0;34m\u001b[0m\u001b[0m\n\u001b[1;32m     40\u001b[0m         \u001b[0mx_past\u001b[0m\u001b[0;34m,\u001b[0m \u001b[0mvs_weights\u001b[0m \u001b[0;34m=\u001b[0m \u001b[0mself\u001b[0m\u001b[0;34m.\u001b[0m\u001b[0mvs_past\u001b[0m\u001b[0;34m(\u001b[0m\u001b[0mx_past_cont\u001b[0m\u001b[0;34m,\u001b[0m \u001b[0mx_past_disc\u001b[0m\u001b[0;34m)\u001b[0m\u001b[0;34m\u001b[0m\u001b[0;34m\u001b[0m\u001b[0m\n\u001b[0;32m---> 41\u001b[0;31m         \u001b[0me\u001b[0m\u001b[0;34m,\u001b[0m \u001b[0me_hidden\u001b[0m \u001b[0;34m=\u001b[0m \u001b[0mself\u001b[0m\u001b[0;34m.\u001b[0m\u001b[0menc\u001b[0m\u001b[0;34m(\u001b[0m\u001b[0mx_past\u001b[0m\u001b[0;34m)\u001b[0m\u001b[0;34m\u001b[0m\u001b[0;34m\u001b[0m\u001b[0m\n\u001b[0m\u001b[1;32m     42\u001b[0m         \u001b[0mself\u001b[0m\u001b[0;34m.\u001b[0m\u001b[0mdec_hidden\u001b[0m \u001b[0;34m=\u001b[0m \u001b[0me_hidden\u001b[0m\u001b[0;34m\u001b[0m\u001b[0;34m\u001b[0m\u001b[0m\n\u001b[1;32m     43\u001b[0m         \u001b[0me\u001b[0m \u001b[0;34m=\u001b[0m \u001b[0mself\u001b[0m\u001b[0;34m.\u001b[0m\u001b[0mdropout\u001b[0m\u001b[0;34m(\u001b[0m\u001b[0me\u001b[0m\u001b[0;34m)\u001b[0m\u001b[0;34m\u001b[0m\u001b[0;34m\u001b[0m\u001b[0m\n",
      "\u001b[0;32m/opt/conda/lib/python3.6/site-packages/torch/nn/modules/module.py\u001b[0m in \u001b[0;36m_call_impl\u001b[0;34m(self, *input, **kwargs)\u001b[0m\n\u001b[1;32m    725\u001b[0m             \u001b[0mresult\u001b[0m \u001b[0;34m=\u001b[0m \u001b[0mself\u001b[0m\u001b[0;34m.\u001b[0m\u001b[0m_slow_forward\u001b[0m\u001b[0;34m(\u001b[0m\u001b[0;34m*\u001b[0m\u001b[0minput\u001b[0m\u001b[0;34m,\u001b[0m \u001b[0;34m**\u001b[0m\u001b[0mkwargs\u001b[0m\u001b[0;34m)\u001b[0m\u001b[0;34m\u001b[0m\u001b[0;34m\u001b[0m\u001b[0m\n\u001b[1;32m    726\u001b[0m         \u001b[0;32melse\u001b[0m\u001b[0;34m:\u001b[0m\u001b[0;34m\u001b[0m\u001b[0;34m\u001b[0m\u001b[0m\n\u001b[0;32m--> 727\u001b[0;31m             \u001b[0mresult\u001b[0m \u001b[0;34m=\u001b[0m \u001b[0mself\u001b[0m\u001b[0;34m.\u001b[0m\u001b[0mforward\u001b[0m\u001b[0;34m(\u001b[0m\u001b[0;34m*\u001b[0m\u001b[0minput\u001b[0m\u001b[0;34m,\u001b[0m \u001b[0;34m**\u001b[0m\u001b[0mkwargs\u001b[0m\u001b[0;34m)\u001b[0m\u001b[0;34m\u001b[0m\u001b[0;34m\u001b[0m\u001b[0m\n\u001b[0m\u001b[1;32m    728\u001b[0m         for hook in itertools.chain(\n\u001b[1;32m    729\u001b[0m                 \u001b[0m_global_forward_hooks\u001b[0m\u001b[0;34m.\u001b[0m\u001b[0mvalues\u001b[0m\u001b[0;34m(\u001b[0m\u001b[0;34m)\u001b[0m\u001b[0;34m,\u001b[0m\u001b[0;34m\u001b[0m\u001b[0;34m\u001b[0m\u001b[0m\n",
      "\u001b[0;32m<ipython-input-23-cc770f737ee2>\u001b[0m in \u001b[0;36mforward\u001b[0;34m(self, x)\u001b[0m\n\u001b[1;32m     13\u001b[0m             \u001b[0;32mraise\u001b[0m \u001b[0mException\u001b[0m\u001b[0;34m(\u001b[0m\u001b[0;34m\"Call reset() to initialise LSTM Layer\"\u001b[0m\u001b[0;34m)\u001b[0m\u001b[0;34m\u001b[0m\u001b[0;34m\u001b[0m\u001b[0m\n\u001b[1;32m     14\u001b[0m \u001b[0;34m\u001b[0m\u001b[0m\n\u001b[0;32m---> 15\u001b[0;31m         \u001b[0mx\u001b[0m\u001b[0;34m,\u001b[0m \u001b[0mself\u001b[0m\u001b[0;34m.\u001b[0m\u001b[0mhidden\u001b[0m \u001b[0;34m=\u001b[0m \u001b[0mself\u001b[0m\u001b[0;34m.\u001b[0m\u001b[0mlstm\u001b[0m\u001b[0;34m(\u001b[0m\u001b[0mx\u001b[0m\u001b[0;34m,\u001b[0m \u001b[0mself\u001b[0m\u001b[0;34m.\u001b[0m\u001b[0mhidden\u001b[0m\u001b[0;34m)\u001b[0m\u001b[0;34m\u001b[0m\u001b[0;34m\u001b[0m\u001b[0m\n\u001b[0m\u001b[1;32m     16\u001b[0m         \u001b[0mx\u001b[0m \u001b[0;34m=\u001b[0m \u001b[0mself\u001b[0m\u001b[0;34m.\u001b[0m\u001b[0mdropout\u001b[0m\u001b[0;34m(\u001b[0m\u001b[0mx\u001b[0m\u001b[0;34m)\u001b[0m\u001b[0;34m\u001b[0m\u001b[0;34m\u001b[0m\u001b[0m\n\u001b[1;32m     17\u001b[0m         \u001b[0;32mreturn\u001b[0m \u001b[0mx\u001b[0m\u001b[0;34m,\u001b[0m \u001b[0mself\u001b[0m\u001b[0;34m.\u001b[0m\u001b[0mhidden\u001b[0m \u001b[0;31m# returns (batch_size, seq_len, dim_model), hidden\u001b[0m\u001b[0;34m\u001b[0m\u001b[0;34m\u001b[0m\u001b[0m\n",
      "\u001b[0;32m/opt/conda/lib/python3.6/site-packages/torch/nn/modules/module.py\u001b[0m in \u001b[0;36m_call_impl\u001b[0;34m(self, *input, **kwargs)\u001b[0m\n\u001b[1;32m    725\u001b[0m             \u001b[0mresult\u001b[0m \u001b[0;34m=\u001b[0m \u001b[0mself\u001b[0m\u001b[0;34m.\u001b[0m\u001b[0m_slow_forward\u001b[0m\u001b[0;34m(\u001b[0m\u001b[0;34m*\u001b[0m\u001b[0minput\u001b[0m\u001b[0;34m,\u001b[0m \u001b[0;34m**\u001b[0m\u001b[0mkwargs\u001b[0m\u001b[0;34m)\u001b[0m\u001b[0;34m\u001b[0m\u001b[0;34m\u001b[0m\u001b[0m\n\u001b[1;32m    726\u001b[0m         \u001b[0;32melse\u001b[0m\u001b[0;34m:\u001b[0m\u001b[0;34m\u001b[0m\u001b[0;34m\u001b[0m\u001b[0m\n\u001b[0;32m--> 727\u001b[0;31m             \u001b[0mresult\u001b[0m \u001b[0;34m=\u001b[0m \u001b[0mself\u001b[0m\u001b[0;34m.\u001b[0m\u001b[0mforward\u001b[0m\u001b[0;34m(\u001b[0m\u001b[0;34m*\u001b[0m\u001b[0minput\u001b[0m\u001b[0;34m,\u001b[0m \u001b[0;34m**\u001b[0m\u001b[0mkwargs\u001b[0m\u001b[0;34m)\u001b[0m\u001b[0;34m\u001b[0m\u001b[0;34m\u001b[0m\u001b[0m\n\u001b[0m\u001b[1;32m    728\u001b[0m         for hook in itertools.chain(\n\u001b[1;32m    729\u001b[0m                 \u001b[0m_global_forward_hooks\u001b[0m\u001b[0;34m.\u001b[0m\u001b[0mvalues\u001b[0m\u001b[0;34m(\u001b[0m\u001b[0;34m)\u001b[0m\u001b[0;34m,\u001b[0m\u001b[0;34m\u001b[0m\u001b[0;34m\u001b[0m\u001b[0m\n",
      "\u001b[0;32m/opt/conda/lib/python3.6/site-packages/torch/nn/modules/rnn.py\u001b[0m in \u001b[0;36mforward\u001b[0;34m(self, input, hx)\u001b[0m\n\u001b[1;32m    577\u001b[0m             \u001b[0mhx\u001b[0m \u001b[0;34m=\u001b[0m \u001b[0mself\u001b[0m\u001b[0;34m.\u001b[0m\u001b[0mpermute_hidden\u001b[0m\u001b[0;34m(\u001b[0m\u001b[0mhx\u001b[0m\u001b[0;34m,\u001b[0m \u001b[0msorted_indices\u001b[0m\u001b[0;34m)\u001b[0m\u001b[0;34m\u001b[0m\u001b[0;34m\u001b[0m\u001b[0m\n\u001b[1;32m    578\u001b[0m \u001b[0;34m\u001b[0m\u001b[0m\n\u001b[0;32m--> 579\u001b[0;31m         \u001b[0mself\u001b[0m\u001b[0;34m.\u001b[0m\u001b[0mcheck_forward_args\u001b[0m\u001b[0;34m(\u001b[0m\u001b[0minput\u001b[0m\u001b[0;34m,\u001b[0m \u001b[0mhx\u001b[0m\u001b[0;34m,\u001b[0m \u001b[0mbatch_sizes\u001b[0m\u001b[0;34m)\u001b[0m\u001b[0;34m\u001b[0m\u001b[0;34m\u001b[0m\u001b[0m\n\u001b[0m\u001b[1;32m    580\u001b[0m         \u001b[0;32mif\u001b[0m \u001b[0mbatch_sizes\u001b[0m \u001b[0;32mis\u001b[0m \u001b[0;32mNone\u001b[0m\u001b[0;34m:\u001b[0m\u001b[0;34m\u001b[0m\u001b[0;34m\u001b[0m\u001b[0m\n\u001b[1;32m    581\u001b[0m             result = _VF.lstm(input, hx, self._flat_weights, self.bias, self.num_layers,\n",
      "\u001b[0;32m/opt/conda/lib/python3.6/site-packages/torch/nn/modules/rnn.py\u001b[0m in \u001b[0;36mcheck_forward_args\u001b[0;34m(self, input, hidden, batch_sizes)\u001b[0m\n\u001b[1;32m    532\u001b[0m \u001b[0;34m\u001b[0m\u001b[0m\n\u001b[1;32m    533\u001b[0m         self.check_hidden_size(hidden[0], expected_hidden_size,\n\u001b[0;32m--> 534\u001b[0;31m                                'Expected hidden[0] size {}, got {}')\n\u001b[0m\u001b[1;32m    535\u001b[0m         self.check_hidden_size(hidden[1], expected_hidden_size,\n\u001b[1;32m    536\u001b[0m                                'Expected hidden[1] size {}, got {}')\n",
      "\u001b[0;32m/opt/conda/lib/python3.6/site-packages/torch/nn/modules/rnn.py\u001b[0m in \u001b[0;36mcheck_hidden_size\u001b[0;34m(self, hx, expected_hidden_size, msg)\u001b[0m\n\u001b[1;32m    194\u001b[0m                           msg: str = 'Expected hidden size {}, got {}') -> None:\n\u001b[1;32m    195\u001b[0m         \u001b[0;32mif\u001b[0m \u001b[0mhx\u001b[0m\u001b[0;34m.\u001b[0m\u001b[0msize\u001b[0m\u001b[0;34m(\u001b[0m\u001b[0;34m)\u001b[0m \u001b[0;34m!=\u001b[0m \u001b[0mexpected_hidden_size\u001b[0m\u001b[0;34m:\u001b[0m\u001b[0;34m\u001b[0m\u001b[0;34m\u001b[0m\u001b[0m\n\u001b[0;32m--> 196\u001b[0;31m             \u001b[0;32mraise\u001b[0m \u001b[0mRuntimeError\u001b[0m\u001b[0;34m(\u001b[0m\u001b[0mmsg\u001b[0m\u001b[0;34m.\u001b[0m\u001b[0mformat\u001b[0m\u001b[0;34m(\u001b[0m\u001b[0mexpected_hidden_size\u001b[0m\u001b[0;34m,\u001b[0m \u001b[0mlist\u001b[0m\u001b[0;34m(\u001b[0m\u001b[0mhx\u001b[0m\u001b[0;34m.\u001b[0m\u001b[0msize\u001b[0m\u001b[0;34m(\u001b[0m\u001b[0;34m)\u001b[0m\u001b[0;34m)\u001b[0m\u001b[0;34m)\u001b[0m\u001b[0;34m)\u001b[0m\u001b[0;34m\u001b[0m\u001b[0;34m\u001b[0m\u001b[0m\n\u001b[0m\u001b[1;32m    197\u001b[0m \u001b[0;34m\u001b[0m\u001b[0m\n\u001b[1;32m    198\u001b[0m     \u001b[0;32mdef\u001b[0m \u001b[0mcheck_forward_args\u001b[0m\u001b[0;34m(\u001b[0m\u001b[0mself\u001b[0m\u001b[0;34m,\u001b[0m \u001b[0minput\u001b[0m\u001b[0;34m:\u001b[0m \u001b[0mTensor\u001b[0m\u001b[0;34m,\u001b[0m \u001b[0mhidden\u001b[0m\u001b[0;34m:\u001b[0m \u001b[0mTensor\u001b[0m\u001b[0;34m,\u001b[0m \u001b[0mbatch_sizes\u001b[0m\u001b[0;34m:\u001b[0m \u001b[0mOptional\u001b[0m\u001b[0;34m[\u001b[0m\u001b[0mTensor\u001b[0m\u001b[0;34m]\u001b[0m\u001b[0;34m)\u001b[0m\u001b[0;34m:\u001b[0m\u001b[0;34m\u001b[0m\u001b[0;34m\u001b[0m\u001b[0m\n",
      "\u001b[0;31mRuntimeError\u001b[0m: Expected hidden[0] size (1, 1, 160), got [1, 45, 160]"
     ]
    }
   ],
   "source": [
    "outputs=model(x_past_cont = sample_in_cont, \n",
    "               x_past_disc = sample_in_disc, \n",
    "               x_future_cont = None, \n",
    "               x_future_disc = sample_future_disc) \n",
    "              \n",
    "outputs[0].shape"
   ]
  },
  {
   "cell_type": "code",
   "execution_count": 71,
   "metadata": {},
   "outputs": [],
   "source": [
    "outputs = model(x_past_cont = past_cont, \n",
    "      x_past_disc = past_disc,\n",
    "      x_future_cont = None, \n",
    "      x_future_disc = future_disc) "
   ]
  },
  {
   "cell_type": "code",
   "execution_count": 72,
   "metadata": {},
   "outputs": [],
   "source": [
    "pred_seqs = outputs[0]"
   ]
  },
  {
   "cell_type": "code",
   "execution_count": 82,
   "metadata": {},
   "outputs": [
    {
     "data": {
      "text/plain": [
       "torch.Size([45, 80, 5, 1])"
      ]
     },
     "execution_count": 82,
     "metadata": {},
     "output_type": "execute_result"
    }
   ],
   "source": [
    "past_cont.shape"
   ]
  },
  {
   "cell_type": "code",
   "execution_count": 84,
   "metadata": {},
   "outputs": [
    {
     "data": {
      "text/plain": [
       "<matplotlib.legend.Legend at 0x7ff55ce78160>"
      ]
     },
     "execution_count": 84,
     "metadata": {},
     "output_type": "execute_result"
    },
    {
     "data": {
      "image/png": "[encoded data removed]",
      "text/plain": [
       "<Figure size 432x288 with 1 Axes>"
      ]
     },
     "metadata": {
      "needs_background": "light"
     },
     "output_type": "display_data"
    }
   ],
   "source": [
    "plt.plot(past_cont[0,:,3,:].detach().cpu(), label=\"input sequence\")\n",
    "plt.plot(np.arange(past_cont.shape[1], past_cont.shape[1]+target_seq.shape[1]),target_seq[0,:,:].detach().cpu(), label=\"target sequence\")\n",
    "plt.legend()"
   ]
  },
  {
   "cell_type": "code",
   "execution_count": 100,
   "metadata": {},
   "outputs": [],
   "source": [
    "sample_in = torch.clone(past_cont)\n",
    "sample_target = torch.clone(target_seq)  \n",
    "sample_pred = torch.clone(pred_seqs) "
   ]
  },
  {
   "cell_type": "code",
   "execution_count": 101,
   "metadata": {},
   "outputs": [],
   "source": [
    "sample_in = sample_in.detach().cpu().numpy()  \n",
    "sample_in = sample_in[0,:,3,:] \n",
    "\n",
    "sample_target = sample_target.detach().cpu().numpy() \n",
    "sample_target = sample_target[0,:,:] \n"
   ]
  },
  {
   "cell_type": "code",
   "execution_count": 103,
   "metadata": {},
   "outputs": [],
   "source": [
    "if sample_in[-1] > sample_target[0]: \n",
    "    diff = sample_in[-1] - sample_target[0] \n",
    "    sample_target += diff \n",
    "elif sample_in[-1] < sample_target[0]: \n",
    "    diff = sample_target[0] - sample_in[-1] \n",
    "    sample_target -= diff"
   ]
  },
  {
   "cell_type": "code",
   "execution_count": 117,
   "metadata": {},
   "outputs": [],
   "source": [
    "if sample_in[-1] > sample_pred[0,1]: \n",
    "    diff = sample_in[-1] - sample_pred[0,1] \n",
    "    sample_pred[:,1] += diff \n",
    "elif sample_in[-1] < sample_pred[0,1]: \n",
    "    diff = sample_pred[0,1] - sample_in[-1] \n",
    "    sample_pred[:,1] -= diff"
   ]
  },
  {
   "cell_type": "code",
   "execution_count": 118,
   "metadata": {},
   "outputs": [
    {
     "data": {
      "text/plain": [
       "<matplotlib.legend.Legend at 0x7ff56d534e10>"
      ]
     },
     "execution_count": 118,
     "metadata": {},
     "output_type": "execute_result"
    },
    {
     "data": {
      "image/png": "[encoded data removed]",
      "text/plain": [
       "<Figure size 432x288 with 1 Axes>"
      ]
     },
     "metadata": {
      "needs_background": "light"
     },
     "output_type": "display_data"
    }
   ],
   "source": [
    "plt.plot(sample_in, label=\"input sequence\")\n",
    "plt.plot(np.arange(len(sample_in), len(sample_in)+len(sample_target)),sample_target, label=\"target sequence\")\n",
    "plt.plot(np.arange(len(sample_in), len(sample_in)+(sample_pred.shape[0])),sample_pred[:,1], label=\"50th quantile\")\n",
    "plt.legend()"
   ]
  },
  {
   "cell_type": "code",
   "execution_count": 123,
   "metadata": {},
   "outputs": [
    {
     "data": {
      "text/plain": [
       "[<matplotlib.lines.Line2D at 0x7ff57e5209e8>]"
      ]
     },
     "execution_count": 123,
     "metadata": {},
     "output_type": "execute_result"
    },
    {
     "data": {
      "image/png": "[encoded data removed]",
      "text/plain": [
       "<Figure size 432x288 with 1 Axes>"
      ]
     },
     "metadata": {
      "needs_background": "light"
     },
     "output_type": "display_data"
    }
   ],
   "source": [
    "plt.plot(val_in_cont[0,:,3,:])"
   ]
  },
  {
   "cell_type": "code",
   "execution_count": null,
   "metadata": {},
   "outputs": [],
   "source": []
  }
 ],
 "metadata": {
  "kernelspec": {
   "display_name": "Python 3",
   "language": "python",
   "name": "python3"
  },
  "language_info": {
   "codemirror_mode": {
    "name": "ipython",
    "version": 3
   },
   "file_extension": ".py",
   "mimetype": "text/x-python",
   "name": "python",
   "nbconvert_exporter": "python",
   "pygments_lexer": "ipython3",
   "version": "3.6.10"
  }
 },
 "nbformat": 4,
 "nbformat_minor": 4
}
