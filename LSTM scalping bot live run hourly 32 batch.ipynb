{
 "cells": [
  {
   "cell_type": "code",
   "execution_count": 2,
   "metadata": {},
   "outputs": [],
   "source": [
    "import numpy as np \n",
    "import pandas as pd \n",
    "from tensorflow.keras.models import *\n",
    "from tensorflow.keras.layers import *  \n",
    "from tensorflow.keras.callbacks import *\n",
    "import tensorflow_addons as tfa\n",
    "from tqdm import tqdm\n",
    "import time\n",
    "import random\n",
    "import math\n",
    "import matplotlib.pyplot as plt\n",
    "from sklearn.preprocessing import StandardScaler\n",
    "import tensorflow as tf\n",
    "from sklearn.model_selection import train_test_split\n",
    "from sklearn.preprocessing import MinMaxScaler\n",
    "from tensorflow_probability import distributions as tfd\n",
    "import seaborn as sns\n",
    "from keras.utils.np_utils import to_categorical\n",
    "import os \n",
    "import pyupbit\n",
    "from keras import backend as K"
   ]
  },
  {
   "cell_type": "code",
   "execution_count": 3,
   "metadata": {},
   "outputs": [],
   "source": [
    "def rmse(y_true, y_pred):\n",
    "        return K.sqrt(K.mean(K.square(y_pred - y_true))) \n",
    "    \n",
    "class Time2Vector(Layer):\n",
    "    def __init__(self, seq_len, **kwargs):\n",
    "        super(Time2Vector, self).__init__()\n",
    "        self.seq_len = seq_len\n",
    "\n",
    "    def build(self, input_shape):\n",
    "        '''Initialize weights and biases with shape (batch, seq_len)'''\n",
    "        self.weights_linear = self.add_weight(name='weight_linear',\n",
    "                                              shape=(int(self.seq_len),),\n",
    "                                              initializer='glorot_uniform',\n",
    "                                              trainable=True)\n",
    "    \n",
    "        self.bias_linear = self.add_weight(name='bias_linear',\n",
    "                                           shape=(int(self.seq_len),),\n",
    "                                           initializer='glorot_uniform',\n",
    "                                           trainable=True)\n",
    "    \n",
    "        self.weights_periodic = self.add_weight(name='weight_periodic',\n",
    "                                                shape=(int(self.seq_len),),\n",
    "                                                initializer='glorot_uniform',\n",
    "                                                trainable=True)\n",
    "\n",
    "        self.bias_periodic = self.add_weight(name='bias_periodic',\n",
    "                                             shape=(int(self.seq_len),),\n",
    "                                             initializer='glorot_uniform',\n",
    "                                             trainable=True)\n",
    "\n",
    "    def call(self, x):\n",
    "        '''Calculate linear and periodic time features'''\n",
    "        x = tf.math.reduce_mean(x[:,:,:4], axis=-1) \n",
    "        time_linear = self.weights_linear * x + self.bias_linear # Linear time feature\n",
    "        time_linear = tf.expand_dims(time_linear, axis=-1) # Add dimension (batch, seq_len, 1)\n",
    "    \n",
    "        time_periodic = tf.math.sin(tf.multiply(x, self.weights_periodic) + self.bias_periodic)\n",
    "        time_periodic = tf.expand_dims(time_periodic, axis=-1) # Add dimension (batch, seq_len, 1)\n",
    "        return tf.concat([time_linear, time_periodic], axis=-1) # shape = (batch, seq_len, 2)\n",
    "   \n",
    "    def get_config(self): # Needed for saving and loading model with custom layer\n",
    "        config = super().get_config().copy()\n",
    "        config.update({'seq_len': self.seq_len})\n",
    "        return config"
   ]
  },
  {
   "cell_type": "code",
   "execution_count": 4,
   "metadata": {},
   "outputs": [
    {
     "name": "stdout",
     "output_type": "stream",
     "text": [
      "Model: \"model_4\"\n",
      "__________________________________________________________________________________________________\n",
      "Layer (type)                    Output Shape         Param #     Connected to                     \n",
      "==================================================================================================\n",
      "input_6 (InputLayer)            [(None, 20, 5)]      0                                            \n",
      "__________________________________________________________________________________________________\n",
      "time2_vector (Time2Vector)      (None, 20, 2)        80          input_6[0][0]                    \n",
      "__________________________________________________________________________________________________\n",
      "concatenate_4 (Concatenate)     (None, 20, 7)        0           input_6[0][0]                    \n",
      "                                                                 time2_vector[0][0]               \n",
      "__________________________________________________________________________________________________\n",
      "lstm_12 (LSTM)                  (None, 20, 128)      69632       concatenate_4[0][0]              \n",
      "__________________________________________________________________________________________________\n",
      "dropout_12 (Dropout)            (None, 20, 128)      0           lstm_12[0][0]                    \n",
      "__________________________________________________________________________________________________\n",
      "lstm_13 (LSTM)                  (None, 20, 64)       49408       dropout_12[0][0]                 \n",
      "__________________________________________________________________________________________________\n",
      "dropout_13 (Dropout)            (None, 20, 64)       0           lstm_13[0][0]                    \n",
      "__________________________________________________________________________________________________\n",
      "lstm_14 (LSTM)                  (None, 32)           12416       dropout_13[0][0]                 \n",
      "__________________________________________________________________________________________________\n",
      "dropout_14 (Dropout)            (None, 32)           0           lstm_14[0][0]                    \n",
      "__________________________________________________________________________________________________\n",
      "dense_8 (Dense)                 (None, 16)           528         dropout_14[0][0]                 \n",
      "__________________________________________________________________________________________________\n",
      "batch_normalization_6 (BatchNor (None, 16)           64          dense_8[0][0]                    \n",
      "__________________________________________________________________________________________________\n",
      "dense_9 (Dense)                 (None, 1)            17          batch_normalization_6[0][0]      \n",
      "==================================================================================================\n",
      "Total params: 132,145\n",
      "Trainable params: 132,113\n",
      "Non-trainable params: 32\n",
      "__________________________________________________________________________________________________\n"
     ]
    }
   ],
   "source": [
    "lstm_model = load_model('LSTM6_epoch_009_val_0.0501332581_mae_0.0351324603_mse_0.0030525343.h5', custom_objects={'Time2Vector':Time2Vector, 'rmse':rmse}) \n",
    "\n",
    "lstm_model.summary() "
   ]
  },
  {
   "cell_type": "code",
   "execution_count": 5,
   "metadata": {},
   "outputs": [],
   "source": [
    "def normalization(df): \n",
    "    full_segment = np.copy(df[:,:]) \n",
    "    minval = np.min(full_segment[:,:4]) \n",
    "    maxval = np.max(full_segment[:,:4]) \n",
    "    if maxval != 0: \n",
    "        full_segment[:,:4] = (full_segment[:,:4] - minval) / (maxval - minval) \n",
    "            \n",
    "    minval = np.min(full_segment[:,4]) \n",
    "    maxval = np.max(full_segment[:,4]) \n",
    "    if maxval != 0: \n",
    "        full_segment[:,4] = (full_segment[:,4] - minval) / (maxval - minval)\n",
    "        \n",
    "    return full_segment[-1,3], full_segment[-20:,:5] \n"
   ]
  },
  {
   "cell_type": "code",
   "execution_count": 6,
   "metadata": {},
   "outputs": [],
   "source": [
    "## setup access and secret keys\n",
    "access_key = \"ZcG39GRdKaD1jPWS9uk4xZxxWtSAlA92yox1xm5A\"\n",
    "secret_key = \"Y4I2SCa0HwGfLKxG2MtuZfiyCKlHaW2M3ljOm7Vs\"\n",
    "\n",
    "upbit = pyupbit.Upbit(access_key, secret_key)"
   ]
  },
  {
   "cell_type": "code",
   "execution_count": 18,
   "metadata": {},
   "outputs": [
    {
     "name": "stderr",
     "output_type": "stream",
     "text": [
      "\r",
      "  0%|          | 0/102 [00:00<?, ?it/s]"
     ]
    },
    {
     "name": "stdout",
     "output_type": "stream",
     "text": [
      "LSTM making predictions...\n"
     ]
    },
    {
     "name": "stderr",
     "output_type": "stream",
     "text": [
      "100%|██████████| 102/102 [00:28<00:00,  3.58it/s]\n"
     ]
    },
    {
     "name": "stdout",
     "output_type": "stream",
     "text": [
      "current cash amount = 50000.21169683\n",
      "opening positions\n",
      "predicted increase = 0.05362518339985256, investing in KRW-GAS...\n",
      "waiting for an hour\n",
      "closing positions\n",
      "closing position for KRW-GAS\n"
     ]
    },
    {
     "name": "stderr",
     "output_type": "stream",
     "text": [
      "\r",
      "  0%|          | 0/102 [00:00<?, ?it/s]"
     ]
    },
    {
     "name": "stdout",
     "output_type": "stream",
     "text": [
      "LSTM making predictions...\n"
     ]
    },
    {
     "name": "stderr",
     "output_type": "stream",
     "text": [
      "100%|██████████| 102/102 [00:28<00:00,  3.62it/s]\n"
     ]
    },
    {
     "name": "stdout",
     "output_type": "stream",
     "text": [
      "current cash amount = 50451.56172503\n",
      "opening positions\n",
      "predicted increase = 0.037035697638386766, investing in KRW-IOST...\n",
      "waiting for an hour\n",
      "closing positions\n",
      "closing position for KRW-IOST\n"
     ]
    },
    {
     "name": "stderr",
     "output_type": "stream",
     "text": [
      "\r",
      "  0%|          | 0/102 [00:00<?, ?it/s]"
     ]
    },
    {
     "name": "stdout",
     "output_type": "stream",
     "text": [
      "LSTM making predictions...\n"
     ]
    },
    {
     "name": "stderr",
     "output_type": "stream",
     "text": [
      "100%|██████████| 102/102 [00:28<00:00,  3.57it/s]\n"
     ]
    },
    {
     "name": "stdout",
     "output_type": "stream",
     "text": [
      "current cash amount = 50401.13538913\n",
      "opening positions\n",
      "predicted increase = 0.041358057898704614, investing in KRW-IOST...\n",
      "waiting for an hour\n",
      "closing positions\n",
      "closing position for KRW-IOST\n"
     ]
    },
    {
     "name": "stderr",
     "output_type": "stream",
     "text": [
      "\r",
      "  0%|          | 0/102 [00:00<?, ?it/s]"
     ]
    },
    {
     "name": "stdout",
     "output_type": "stream",
     "text": [
      "LSTM making predictions...\n"
     ]
    },
    {
     "name": "stderr",
     "output_type": "stream",
     "text": [
      "100%|██████████| 102/102 [00:39<00:00,  2.58it/s]\n"
     ]
    },
    {
     "name": "stdout",
     "output_type": "stream",
     "text": [
      "current cash amount = 49885.98332972\n",
      "opening positions\n",
      "predicted increase = 0.0417594248921771, investing in KRW-GAS...\n",
      "waiting for an hour\n",
      "closing positions\n",
      "closing position for KRW-GAS\n"
     ]
    },
    {
     "name": "stderr",
     "output_type": "stream",
     "text": [
      "\r",
      "  0%|          | 0/102 [00:00<?, ?it/s]"
     ]
    },
    {
     "name": "stdout",
     "output_type": "stream",
     "text": [
      "LSTM making predictions...\n"
     ]
    },
    {
     "name": "stderr",
     "output_type": "stream",
     "text": [
      "100%|██████████| 102/102 [00:32<00:00,  3.09it/s]\n"
     ]
    },
    {
     "name": "stdout",
     "output_type": "stream",
     "text": [
      "current cash amount = 49333.65005632\n",
      "opening positions\n",
      "predicted increase = 0.11729857361947504, investing in KRW-GAS...\n",
      "waiting for an hour\n",
      "closing positions\n",
      "closing position for KRW-GAS\n"
     ]
    },
    {
     "name": "stderr",
     "output_type": "stream",
     "text": [
      "\r",
      "  0%|          | 0/102 [00:00<?, ?it/s]"
     ]
    },
    {
     "name": "stdout",
     "output_type": "stream",
     "text": [
      "LSTM making predictions...\n"
     ]
    },
    {
     "name": "stderr",
     "output_type": "stream",
     "text": [
      "100%|██████████| 102/102 [00:34<00:00,  2.97it/s]\n"
     ]
    },
    {
     "name": "stdout",
     "output_type": "stream",
     "text": [
      "current cash amount = 50148.9784185\n",
      "opening positions\n",
      "predicted increase = 0.2727398844326243, investing in KRW-HIVE...\n",
      "waiting for an hour\n",
      "closing positions\n",
      "closing position for KRW-HIVE\n"
     ]
    },
    {
     "name": "stderr",
     "output_type": "stream",
     "text": [
      "\r",
      "  0%|          | 0/102 [00:00<?, ?it/s]"
     ]
    },
    {
     "name": "stdout",
     "output_type": "stream",
     "text": [
      "LSTM making predictions...\n"
     ]
    },
    {
     "name": "stderr",
     "output_type": "stream",
     "text": [
      "100%|██████████| 102/102 [00:34<00:00,  2.96it/s]\n"
     ]
    },
    {
     "name": "stdout",
     "output_type": "stream",
     "text": [
      "current cash amount = 50764.30402811\n",
      "opening positions\n",
      "predicted increase = 0.04455430131209526, investing in KRW-ZRX...\n",
      "waiting for an hour\n",
      "closing positions\n",
      "closing position for KRW-ZRX\n"
     ]
    },
    {
     "name": "stderr",
     "output_type": "stream",
     "text": [
      "\r",
      "  0%|          | 0/102 [00:00<?, ?it/s]"
     ]
    },
    {
     "name": "stdout",
     "output_type": "stream",
     "text": [
      "LSTM making predictions...\n"
     ]
    },
    {
     "name": "stderr",
     "output_type": "stream",
     "text": [
      "100%|██████████| 102/102 [00:34<00:00,  2.96it/s]\n"
     ]
    },
    {
     "name": "stdout",
     "output_type": "stream",
     "text": [
      "current cash amount = 50485.12568136\n",
      "opening positions\n",
      "predicted increase = 0.09964182312132541, investing in KRW-STRK...\n",
      "waiting for an hour\n",
      "closing positions\n",
      "closing position for KRW-STRK\n"
     ]
    },
    {
     "name": "stderr",
     "output_type": "stream",
     "text": [
      "\r",
      "  0%|          | 0/102 [00:00<?, ?it/s]"
     ]
    },
    {
     "name": "stdout",
     "output_type": "stream",
     "text": [
      "LSTM making predictions...\n"
     ]
    },
    {
     "name": "stderr",
     "output_type": "stream",
     "text": [
      "100%|██████████| 102/102 [00:35<00:00,  2.91it/s]\n"
     ]
    },
    {
     "name": "stdout",
     "output_type": "stream",
     "text": [
      "current cash amount = 50516.3413496\n",
      "opening positions\n",
      "predicted increase = 0.07504200208477863, investing in KRW-MBL...\n",
      "waiting for an hour\n"
     ]
    },
    {
     "ename": "KeyboardInterrupt",
     "evalue": "",
     "output_type": "error",
     "traceback": [
      "\u001b[0;31m---------------------------------------------------------------------------\u001b[0m",
      "\u001b[0;31mKeyboardInterrupt\u001b[0m                         Traceback (most recent call last)",
      "\u001b[0;32m<ipython-input-18-fcabdacc2f07>\u001b[0m in \u001b[0;36m<module>\u001b[0;34m\u001b[0m\n\u001b[1;32m     49\u001b[0m \u001b[0;34m\u001b[0m\u001b[0m\n\u001b[1;32m     50\u001b[0m     \u001b[0mprint\u001b[0m\u001b[0;34m(\u001b[0m\u001b[0;34m\"waiting for an hour\"\u001b[0m\u001b[0;34m)\u001b[0m\u001b[0;34m\u001b[0m\u001b[0;34m\u001b[0m\u001b[0m\n\u001b[0;32m---> 51\u001b[0;31m     \u001b[0mtime\u001b[0m\u001b[0;34m.\u001b[0m\u001b[0msleep\u001b[0m\u001b[0;34m(\u001b[0m\u001b[0;36m60\u001b[0m\u001b[0;34m*\u001b[0m\u001b[0;36m60\u001b[0m\u001b[0;34m)\u001b[0m\u001b[0;34m\u001b[0m\u001b[0;34m\u001b[0m\u001b[0m\n\u001b[0m\u001b[1;32m     52\u001b[0m     \u001b[0;32mif\u001b[0m \u001b[0minvest\u001b[0m \u001b[0;34m==\u001b[0m \u001b[0;32mTrue\u001b[0m\u001b[0;34m:\u001b[0m\u001b[0;34m\u001b[0m\u001b[0;34m\u001b[0m\u001b[0m\n\u001b[1;32m     53\u001b[0m         \u001b[0mprint\u001b[0m\u001b[0;34m(\u001b[0m\u001b[0;34m\"closing positions\"\u001b[0m\u001b[0;34m)\u001b[0m\u001b[0;34m\u001b[0m\u001b[0;34m\u001b[0m\u001b[0m\n",
      "\u001b[0;31mKeyboardInterrupt\u001b[0m: "
     ]
    }
   ],
   "source": [
    "# get all tickers \n",
    "tickers = pyupbit.get_tickers(fiat=\"KRW\") \n",
    "tickers = np.asarray(tickers)\n",
    "# commissions \n",
    "gamma = 0.05\n",
    "\n",
    "# number of assets in portfolio \n",
    "# this time we try with investing into a single asset \n",
    "p = 1 \n",
    "\n",
    "cash_amounts = [] \n",
    "\n",
    "# run for as much as we want \n",
    "while True: \n",
    "    diffs = [] \n",
    "    \n",
    "    print(\"LSTM making predictions...\")\n",
    "    for ticker in tqdm(tickers): \n",
    "        df = pyupbit.get_ohlcv(ticker, interval=\"minute60\") \n",
    "        df = df.values \n",
    "        curval, inputs = normalization(df) \n",
    "        inputs = inputs.reshape((-1,20,5))\n",
    "        pred = lstm_model.predict(inputs)[0][0] \n",
    "        diff = pred-curval\n",
    "        diffs.append(diff)\n",
    "        time.sleep(0.1) # for stable API calls\n",
    "    \n",
    "    diffs = np.asarray(diffs)    \n",
    "    idx = diffs.argsort()[-p:][::-1]\n",
    "    \n",
    "    max_diffs = diffs[idx] # top p maximum change in descending order \n",
    "    chosen_coins = tickers[idx]\n",
    "    \n",
    "    invest = True \n",
    "    \n",
    "    if max_diffs[0] > 0: \n",
    "        cash_amount = upbit.get_balance(\"KRW\")\n",
    "        cash_amount = float(cash_amount) \n",
    "        cash_amounts.append(cash_amount) \n",
    "        print(\"current cash amount = {}\".format(cash_amount)) \n",
    "        print(\"opening positions\")\n",
    "        for i in range(p):\n",
    "            print(\"predicted increase = {}, investing in {}...\".format(max_diffs[i], chosen_coins[i]))\n",
    "            upbit.buy_market_order(chosen_coins[i], cash_amount * (1-gamma/100) * (1/p))  \n",
    "    \n",
    "    elif max_diffs[0] <= 0: \n",
    "        print(\"a pretty bad down market. We will not invest for this round.\")\n",
    "        invest = False \n",
    "    \n",
    "    print(\"waiting for an hour\")\n",
    "    time.sleep(60*60) \n",
    "    if invest == True: \n",
    "        print(\"closing positions\")\n",
    "        for i in range(p): \n",
    "            print(\"closing position for {}\".format(chosen_coins[i]))\n",
    "            unit = upbit.get_balance(chosen_coins[i])\n",
    "            upbit.sell_market_order(chosen_coins[i], unit)"
   ]
  },
  {
   "cell_type": "code",
   "execution_count": 19,
   "metadata": {},
   "outputs": [
    {
     "data": {
      "text/plain": [
       "[<matplotlib.lines.Line2D at 0x7fdcc00a0cc0>]"
      ]
     },
     "execution_count": 19,
     "metadata": {},
     "output_type": "execute_result"
    },
    {
     "data": {
      "image/png": "[encoded data removed]",
      "text/plain": [
       "<Figure size 432x288 with 1 Axes>"
      ]
     },
     "metadata": {
      "needs_background": "light"
     },
     "output_type": "display_data"
    }
   ],
   "source": [
    "plt.plot(cash_amounts)"
   ]
  },
  {
   "cell_type": "markdown",
   "metadata": {},
   "source": [
    "Things to fix \n",
    "\n",
    "- First, prediction has to be made first \n",
    "- Second, the buy and sell process has to be more efficient. "
   ]
  },
  {
   "cell_type": "code",
   "execution_count": null,
   "metadata": {},
   "outputs": [],
   "source": []
  }
 ],
 "metadata": {
  "kernelspec": {
   "display_name": "Python 3",
   "language": "python",
   "name": "python3"
  },
  "language_info": {
   "codemirror_mode": {
    "name": "ipython",
    "version": 3
   },
   "file_extension": ".py",
   "mimetype": "text/x-python",
   "name": "python",
   "nbconvert_exporter": "python",
   "pygments_lexer": "ipython3",
   "version": "3.6.9"
  }
 },
 "nbformat": 4,
 "nbformat_minor": 4
}
