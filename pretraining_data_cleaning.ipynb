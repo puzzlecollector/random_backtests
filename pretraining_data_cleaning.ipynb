{
 "cells": [
  {
   "cell_type": "code",
   "execution_count": 145,
   "metadata": {},
   "outputs": [],
   "source": [
    "import numpy as np \n",
    "import re \n",
    "import pandas as pd \n",
    "from tqdm import tqdm"
   ]
  },
  {
   "cell_type": "code",
   "execution_count": 2,
   "metadata": {},
   "outputs": [],
   "source": [
    "df1 = pd.read_csv(\"cryptobert_pretraining/cryptobert_plm (1).csv\") "
   ]
  },
  {
   "cell_type": "code",
   "execution_count": 3,
   "metadata": {},
   "outputs": [],
   "source": [
    "df2 = pd.read_csv(\"cryptobert_pretraining/cobak_crypto.csv\")"
   ]
  },
  {
   "cell_type": "code",
   "execution_count": 6,
   "metadata": {},
   "outputs": [],
   "source": [
    "df3 = pd.read_csv(\"cryptobert_pretraining/cobak_crypto2.csv\")"
   ]
  },
  {
   "cell_type": "code",
   "execution_count": 8,
   "metadata": {},
   "outputs": [],
   "source": [
    "df4 = pd.read_csv(\"cryptobert_pretraining/etnews.csv\") "
   ]
  },
  {
   "cell_type": "code",
   "execution_count": 9,
   "metadata": {},
   "outputs": [],
   "source": [
    "df5 = pd.read_csv(\"cryptobert_pretraining/it조선.csv\")"
   ]
  },
  {
   "cell_type": "code",
   "execution_count": 10,
   "metadata": {},
   "outputs": [],
   "source": [
    "df6 = pd.read_csv(\"cryptobert_pretraining/경향게임스_.csv\")"
   ]
  },
  {
   "cell_type": "code",
   "execution_count": 11,
   "metadata": {},
   "outputs": [],
   "source": [
    "df7 = pd.read_csv(\"cryptobert_pretraining/국민일보.csv\")"
   ]
  },
  {
   "cell_type": "code",
   "execution_count": 12,
   "metadata": {},
   "outputs": [],
   "source": [
    "df8 = pd.read_csv('cryptobert_pretraining/글로벌이코노믹.csv')"
   ]
  },
  {
   "cell_type": "code",
   "execution_count": 13,
   "metadata": {},
   "outputs": [],
   "source": [
    "df9 = pd.read_csv(\"cryptobert_pretraining/뉴스클레임1.csv\") "
   ]
  },
  {
   "cell_type": "code",
   "execution_count": 14,
   "metadata": {},
   "outputs": [],
   "source": [
    "df10 = pd.read_csv(\"cryptobert_pretraining/뉴스클레임2.csv\")"
   ]
  },
  {
   "cell_type": "code",
   "execution_count": 15,
   "metadata": {},
   "outputs": [],
   "source": [
    "df11 = pd.read_csv(\"cryptobert_pretraining/뉴시스.csv\")"
   ]
  },
  {
   "cell_type": "code",
   "execution_count": 16,
   "metadata": {},
   "outputs": [],
   "source": [
    "df12 = pd.read_csv(\"cryptobert_pretraining/더게임스데일리.csv\")"
   ]
  },
  {
   "cell_type": "code",
   "execution_count": 17,
   "metadata": {},
   "outputs": [],
   "source": [
    "df13 = pd.read_csv(\"cryptobert_pretraining/디지털조선.csv\")"
   ]
  },
  {
   "cell_type": "code",
   "execution_count": 18,
   "metadata": {},
   "outputs": [],
   "source": [
    "df14 = pd.read_csv(\"cryptobert_pretraining/디지털투데이.csv\")"
   ]
  },
  {
   "cell_type": "code",
   "execution_count": 19,
   "metadata": {},
   "outputs": [],
   "source": [
    "df15 = pd.read_csv(\"cryptobert_pretraining/아이뉴스.csv\")"
   ]
  },
  {
   "cell_type": "code",
   "execution_count": 20,
   "metadata": {},
   "outputs": [],
   "source": [
    "df16 = pd.read_csv(\"cryptobert_pretraining/아주경제.csv\")"
   ]
  },
  {
   "cell_type": "code",
   "execution_count": 21,
   "metadata": {},
   "outputs": [],
   "source": [
    "df17 = pd.read_csv(\"cryptobert_pretraining/연합인포맥스.csv\")"
   ]
  },
  {
   "cell_type": "code",
   "execution_count": 22,
   "metadata": {},
   "outputs": [],
   "source": [
    "df18 = pd.read_csv(\"cryptobert_pretraining/일간스포츠.csv\")"
   ]
  },
  {
   "cell_type": "code",
   "execution_count": 23,
   "metadata": {},
   "outputs": [],
   "source": [
    "df19 = pd.read_csv(\"cryptobert_pretraining/컨슈머타임스.csv\")"
   ]
  },
  {
   "cell_type": "code",
   "execution_count": 24,
   "metadata": {},
   "outputs": [],
   "source": [
    "df20 = pd.read_csv(\"cryptobert_pretraining/파이낸셜뉴스.csv\")"
   ]
  },
  {
   "cell_type": "code",
   "execution_count": 25,
   "metadata": {},
   "outputs": [],
   "source": [
    "df21 = pd.read_csv(\"cryptobert_pretraining/핀포인트.csv\")"
   ]
  },
  {
   "cell_type": "code",
   "execution_count": 26,
   "metadata": {},
   "outputs": [],
   "source": [
    "df22 = pd.read_csv(\"cryptobert_pretraining/헤럴드경제.csv\")"
   ]
  },
  {
   "cell_type": "code",
   "execution_count": 29,
   "metadata": {},
   "outputs": [],
   "source": [
    "df = pd.concat([df1,\n",
    "                df2, \n",
    "                df3, \n",
    "                df4,\n",
    "                df5, \n",
    "                df6, \n",
    "                df7, \n",
    "                df8, \n",
    "                df9,\n",
    "                df10, \n",
    "                df11, \n",
    "                df12, \n",
    "                df13, \n",
    "                df14, \n",
    "                df15, \n",
    "                df16, \n",
    "                df17, \n",
    "                df18, \n",
    "                df19, \n",
    "                df20, \n",
    "                df21, \n",
    "                df22], axis=0)"
   ]
  },
  {
   "cell_type": "code",
   "execution_count": 30,
   "metadata": {},
   "outputs": [],
   "source": [
    "df.to_csv(\"raw_pretrain_data.csv\",index=False)"
   ]
  },
  {
   "cell_type": "code",
   "execution_count": 31,
   "metadata": {},
   "outputs": [
    {
     "data": {
      "text/html": [
       "<div>\n",
       "<style scoped>\n",
       "    .dataframe tbody tr th:only-of-type {\n",
       "        vertical-align: middle;\n",
       "    }\n",
       "\n",
       "    .dataframe tbody tr th {\n",
       "        vertical-align: top;\n",
       "    }\n",
       "\n",
       "    .dataframe thead th {\n",
       "        text-align: right;\n",
       "    }\n",
       "</style>\n",
       "<table border=\"1\" class=\"dataframe\">\n",
       "  <thead>\n",
       "    <tr style=\"text-align: right;\">\n",
       "      <th></th>\n",
       "      <th>Text</th>\n",
       "      <th>Source</th>\n",
       "    </tr>\n",
       "  </thead>\n",
       "  <tbody>\n",
       "    <tr>\n",
       "      <th>0</th>\n",
       "      <td>‘구글 부사장·박막례 할머니 한자리에’…실리콘밸리 ‘대표 행사’ 노들섬에서 열리는 ...</td>\n",
       "      <td>블록인프레스</td>\n",
       "    </tr>\n",
       "    <tr>\n",
       "      <th>1</th>\n",
       "      <td>10대를 위해 블록체인 수업 나선 인하대…”협력하는 미래를 꿈꾸다”\\n“학교에서 학...</td>\n",
       "      <td>블록인프레스</td>\n",
       "    </tr>\n",
       "    <tr>\n",
       "      <th>2</th>\n",
       "      <td>의료 블록체인서 출발한 메디블록, 간편 보험청구 앱 다음 행보는?\\n보험시장을 공략...</td>\n",
       "      <td>블록인프레스</td>\n",
       "    </tr>\n",
       "    <tr>\n",
       "      <th>3</th>\n",
       "      <td>블록체인 기업 모인 공유오피스…”서울시가 맞춤형으로 밀어준다”\\n“블록체인 기업들을...</td>\n",
       "      <td>블록인프레스</td>\n",
       "    </tr>\n",
       "    <tr>\n",
       "      <th>4</th>\n",
       "      <td>[단독] “튤립 트러스트 진실은”…’사토시 주장’ 크레이그 라이트 직접 입열다\\n자...</td>\n",
       "      <td>블록인프레스</td>\n",
       "    </tr>\n",
       "    <tr>\n",
       "      <th>...</th>\n",
       "      <td>...</td>\n",
       "      <td>...</td>\n",
       "    </tr>\n",
       "    <tr>\n",
       "      <th>2964</th>\n",
       "      <td>- 슬러거ㆍ뇌천기ㆍ스페셜포스 등 인기게임 '총출동'- 100% 당첨 및 풍성한 게임...</td>\n",
       "      <td>헤럴드경제</td>\n",
       "    </tr>\n",
       "    <tr>\n",
       "      <th>2965</th>\n",
       "      <td>네오위즈게임즈(대표 윤상규)는 게임포털 피망에서 크리스마스 시즌을 맞아 게임별로 다...</td>\n",
       "      <td>헤럴드경제</td>\n",
       "    </tr>\n",
       "    <tr>\n",
       "      <th>2966</th>\n",
       "      <td>[헤럴드경제]네오위즈인터넷(대표 이기원)은 자사가 서비스하고, 씨드나인게임즈(대표 ...</td>\n",
       "      <td>헤럴드경제</td>\n",
       "    </tr>\n",
       "    <tr>\n",
       "      <th>2967</th>\n",
       "      <td>해커집단 룰즈섹이 다시 소니를 공격했다고 미 경제전문지 포브스 인터넷판이 7일 보도...</td>\n",
       "      <td>헤럴드경제</td>\n",
       "    </tr>\n",
       "    <tr>\n",
       "      <th>2968</th>\n",
       "      <td>6인조 걸그룹 코인잭슨(Coin Jackson,마리, 은빛, 코라, 지후, 맥시, ...</td>\n",
       "      <td>헤럴드경제</td>\n",
       "    </tr>\n",
       "  </tbody>\n",
       "</table>\n",
       "<p>925386 rows × 2 columns</p>\n",
       "</div>"
      ],
      "text/plain": [
       "                                                   Text  Source\n",
       "0     ‘구글 부사장·박막례 할머니 한자리에’…실리콘밸리 ‘대표 행사’ 노들섬에서 열리는 ...  블록인프레스\n",
       "1     10대를 위해 블록체인 수업 나선 인하대…”협력하는 미래를 꿈꾸다”\\n“학교에서 학...  블록인프레스\n",
       "2     의료 블록체인서 출발한 메디블록, 간편 보험청구 앱 다음 행보는?\\n보험시장을 공략...  블록인프레스\n",
       "3     블록체인 기업 모인 공유오피스…”서울시가 맞춤형으로 밀어준다”\\n“블록체인 기업들을...  블록인프레스\n",
       "4     [단독] “튤립 트러스트 진실은”…’사토시 주장’ 크레이그 라이트 직접 입열다\\n자...  블록인프레스\n",
       "...                                                 ...     ...\n",
       "2964  - 슬러거ㆍ뇌천기ㆍ스페셜포스 등 인기게임 '총출동'- 100% 당첨 및 풍성한 게임...   헤럴드경제\n",
       "2965  네오위즈게임즈(대표 윤상규)는 게임포털 피망에서 크리스마스 시즌을 맞아 게임별로 다...   헤럴드경제\n",
       "2966  [헤럴드경제]네오위즈인터넷(대표 이기원)은 자사가 서비스하고, 씨드나인게임즈(대표 ...   헤럴드경제\n",
       "2967  해커집단 룰즈섹이 다시 소니를 공격했다고 미 경제전문지 포브스 인터넷판이 7일 보도...   헤럴드경제\n",
       "2968  6인조 걸그룹 코인잭슨(Coin Jackson,마리, 은빛, 코라, 지후, 맥시, ...   헤럴드경제\n",
       "\n",
       "[925386 rows x 2 columns]"
      ]
     },
     "execution_count": 31,
     "metadata": {},
     "output_type": "execute_result"
    }
   ],
   "source": [
    "df"
   ]
  },
  {
   "cell_type": "markdown",
   "metadata": {},
   "source": [
    "# Data Cleaning"
   ]
  },
  {
   "cell_type": "code",
   "execution_count": 35,
   "metadata": {},
   "outputs": [
    {
     "data": {
      "text/plain": [
       "array(['SBS', 'bloomingbit', 'cobak', 'cryptocurrency_연구소', 'dstreet',\n",
       "       'etnews', 'fmkorea', 'it조선', 'zdnet', '경향게임스', '국민일보', '글로벌이코노믹',\n",
       "       '뉴스클레임', '뉴시스', '다음', '더게임스데일리', '디센터', '디지털조선', '디지털투데이', '땡글닷컴',\n",
       "       '매일경제', '머니투데이', '블록인프레스', '블록체인투데이', '블록체인허브', '뽐뿌', '아이뉴스',\n",
       "       '아주경제', '업비트', '연합인포맥스', '인베스팅', '일간스포츠', '컨슈머타임스', '코인데스크',\n",
       "       '코인리더스', '코인코드', '토큰포스트', '투데이코인', '파이낸셜뉴스', '핀포인트뉴스', '한겨레', '한경',\n",
       "       '한국경제티비', '한국블록체인', '해쉬넷', '헤럴드경제'], dtype=object)"
      ]
     },
     "execution_count": 35,
     "metadata": {},
     "output_type": "execute_result"
    }
   ],
   "source": [
    "(np.unique(df['Source'].values)) "
   ]
  },
  {
   "cell_type": "code",
   "execution_count": 174,
   "metadata": {},
   "outputs": [
    {
     "data": {
      "text/plain": [
       "'우크라이나와 러시아 대표단의 3차 회담이 한국시간으로 오늘 밤 11에 개최된다. 우크라이나 측은 이번 회담에도 큰 기대를 하고 있지 않은 것으로 전해진다. 7일 뉴시스 등 보도에 따르면 아르메니아 언론 뉴스엠(News.am)은 이날 다비드 하라하미야 우크라이나 집권당 \\'국민의 종\\' 의원의 말을 인용해 \"우크라이나와 러시아 대표단의 3차 회담이 이전 회담과 마찬가지로 벨라루스-폴란드 국경에서 열린다\"고 전했다. 하라하미야 대표는 이날 폭스뉴스와의 인터뷰에서 \\'나토 가입이 협상 안건이냐\\'라는 질문에 \"우크라이나는 \\'비(非)나토\\' 모델을 논의할 준비가 됐다\"고 답했다. 앞서 그는 나토 가입을 포기할 수는 있어도 영토에 대한 협상은 절대 없다고 강조한 바 있다. 하라하미야 대표는 \"미국, 중국, 영국, 그리고 아마도 독일, 프랑스 등의 나라가 직접 (안보를) 보장하는 모델도 가능하다\"면서 \"이 문제를 러시아뿐 아니라 다른 협력국과도 논의할 수 있다\"고 말했다. 이어 \"나토 회원국이 보여준 반응으로 볼 때 이들이 최소 5년에서 10년 안에는 우리를 나토로 받아들일 준비가 안 됐다는 사실을 알게 됐다\"고 설명했다. 그는 \"(정부뿐 아니라) 우크라이나 사회가 영토 협상은 절대 받아들일 수 없다\"면서 \"솔직히 이 부분이 가장 어려운 지점이며 어떻게 해결해야 할지도 난감하다\"라고 덧붙였다. 3차 협상에서 진전이 있을 것 같냐는 질문에 하라하미야 대표는 \"민간인을 비롯해 매일 많은 사람이 죽는 상황에서 우리가 신속하게 일을 진행하고 있다고는 못하겠다\"라며 \"우크라이나 측이 기존 절차에서 벗어나는 유연한 제안을 내놓을 때마다 러시아 측은 \\'모스크바에 확인해 봐야 한다\\'고 답할 뿐\"이라고 답했다'"
      ]
     },
     "execution_count": 174,
     "metadata": {},
     "output_type": "execute_result"
    }
   ],
   "source": [
    "s1 = df[df['Source']=='bloomingbit']['Text'].values[0]\n",
    "clean_function1(s1)"
   ]
  },
  {
   "cell_type": "code",
   "execution_count": 175,
   "metadata": {},
   "outputs": [],
   "source": [
    "# for news articles \n",
    "def clean_function1(s): \n",
    "    s = re.sub('\\s+', ' ', s) \n",
    "    s = re.sub('▲',' ',s)\n",
    "    s = re.sub('\\S*@\\S*\\s?', ' ', s)\n",
    "    s = s.split('.') \n",
    "    clean_s = [] \n",
    "    for i in range(len(s)):\n",
    "        if len(s[i]) > 10:\n",
    "            clean_s.append(s[i]) \n",
    "    clean_s = '.'.join(clean_s)\n",
    "    return clean_s"
   ]
  },
  {
   "cell_type": "code",
   "execution_count": 176,
   "metadata": {},
   "outputs": [],
   "source": [
    "# for hashnet wiki \n",
    "def clean_function2(s):\n",
    "    s = s.split('\\n') \n",
    "    clean_s = [] \n",
    "    for i in range(len(s)):\n",
    "        if len(s[i]) > 50:\n",
    "            clean_s.append(s[i]) \n",
    "    clean_s = '.'.join(clean_s) \n",
    "    return clean_s"
   ]
  },
  {
   "cell_type": "code",
   "execution_count": 177,
   "metadata": {},
   "outputs": [],
   "source": [
    "texts = df['Text'].values \n",
    "sources = df['Source'].values"
   ]
  },
  {
   "cell_type": "code",
   "execution_count": 178,
   "metadata": {},
   "outputs": [
    {
     "name": "stderr",
     "output_type": "stream",
     "text": [
      "100%|██████████| 925386/925386 [00:42<00:00, 21712.71it/s]\n"
     ]
    }
   ],
   "source": [
    "final_texts = [] \n",
    "final_sources = [] \n",
    "for i in tqdm(range(len(texts)), position=0, leave=True):\n",
    "    t = str(texts[i])\n",
    "    if sources[i] in ['땡글닷컴','뽐뿌','fmkorea']:\n",
    "        if len(t) > 50: \n",
    "            final_texts.append(t) \n",
    "            final_sources.append(sources[i])\n",
    "    elif sources[i] == '해쉬넷':\n",
    "        final_texts.append(clean_function2(t))  \n",
    "        final_sources.append(sources[i])\n",
    "    else:\n",
    "        final_texts.append(clean_function1(t))  \n",
    "        final_sources.append(sources[i]) "
   ]
  },
  {
   "cell_type": "code",
   "execution_count": 179,
   "metadata": {},
   "outputs": [
    {
     "data": {
      "text/plain": [
       "(755236, 755236)"
      ]
     },
     "execution_count": 179,
     "metadata": {},
     "output_type": "execute_result"
    }
   ],
   "source": [
    "len(final_texts), len(final_sources)"
   ]
  },
  {
   "cell_type": "code",
   "execution_count": 180,
   "metadata": {},
   "outputs": [],
   "source": [
    "clean_df = pd.DataFrame(list(zip(final_texts, final_sources)), \n",
    "                        columns=[\"Text\", \"Source\"])"
   ]
  },
  {
   "cell_type": "code",
   "execution_count": 181,
   "metadata": {},
   "outputs": [
    {
     "data": {
      "text/html": [
       "<div>\n",
       "<style scoped>\n",
       "    .dataframe tbody tr th:only-of-type {\n",
       "        vertical-align: middle;\n",
       "    }\n",
       "\n",
       "    .dataframe tbody tr th {\n",
       "        vertical-align: top;\n",
       "    }\n",
       "\n",
       "    .dataframe thead th {\n",
       "        text-align: right;\n",
       "    }\n",
       "</style>\n",
       "<table border=\"1\" class=\"dataframe\">\n",
       "  <thead>\n",
       "    <tr style=\"text-align: right;\">\n",
       "      <th></th>\n",
       "      <th>Text</th>\n",
       "      <th>Source</th>\n",
       "    </tr>\n",
       "  </thead>\n",
       "  <tbody>\n",
       "    <tr>\n",
       "      <th>0</th>\n",
       "      <td>‘구글 부사장·박막례 할머니 한자리에’…실리콘밸리 ‘대표 행사’ 노들섬에서 열리는 ...</td>\n",
       "      <td>블록인프레스</td>\n",
       "    </tr>\n",
       "    <tr>\n",
       "      <th>1</th>\n",
       "      <td>10대를 위해 블록체인 수업 나선 인하대…”협력하는 미래를 꿈꾸다” “학교에서 학생...</td>\n",
       "      <td>블록인프레스</td>\n",
       "    </tr>\n",
       "    <tr>\n",
       "      <th>2</th>\n",
       "      <td>의료 블록체인서 출발한 메디블록, 간편 보험청구 앱 다음 행보는? 보험시장을 공략하...</td>\n",
       "      <td>블록인프레스</td>\n",
       "    </tr>\n",
       "    <tr>\n",
       "      <th>3</th>\n",
       "      <td>블록체인 기업 모인 공유오피스…”서울시가 맞춤형으로 밀어준다” “블록체인 기업들을 ...</td>\n",
       "      <td>블록인프레스</td>\n",
       "    </tr>\n",
       "    <tr>\n",
       "      <th>4</th>\n",
       "      <td>[단독] “튤립 트러스트 진실은”…’사토시 주장’ 크레이그 라이트 직접 입열다 자칭...</td>\n",
       "      <td>블록인프레스</td>\n",
       "    </tr>\n",
       "    <tr>\n",
       "      <th>...</th>\n",
       "      <td>...</td>\n",
       "      <td>...</td>\n",
       "    </tr>\n",
       "    <tr>\n",
       "      <th>755231</th>\n",
       "      <td>- 슬러거ㆍ뇌천기ㆍ스페셜포스 등 인기게임 '총출동'- 100% 당첨 및 풍성한 게임...</td>\n",
       "      <td>헤럴드경제</td>\n",
       "    </tr>\n",
       "    <tr>\n",
       "      <th>755232</th>\n",
       "      <td>네오위즈게임즈(대표 윤상규)는 게임포털 피망에서 크리스마스 시즌을 맞아 게임별로 다...</td>\n",
       "      <td>헤럴드경제</td>\n",
       "    </tr>\n",
       "    <tr>\n",
       "      <th>755233</th>\n",
       "      <td>[헤럴드경제]네오위즈인터넷(대표 이기원)은 자사가 서비스하고, 씨드나인게임즈(대표 ...</td>\n",
       "      <td>헤럴드경제</td>\n",
       "    </tr>\n",
       "    <tr>\n",
       "      <th>755234</th>\n",
       "      <td>해커집단 룰즈섹이 다시 소니를 공격했다고 미 경제전문지 포브스 인터넷판이 7일 보도...</td>\n",
       "      <td>헤럴드경제</td>\n",
       "    </tr>\n",
       "    <tr>\n",
       "      <th>755235</th>\n",
       "      <td>6인조 걸그룹 코인잭슨(Coin Jackson,마리, 은빛, 코라, 지후, 맥시, ...</td>\n",
       "      <td>헤럴드경제</td>\n",
       "    </tr>\n",
       "  </tbody>\n",
       "</table>\n",
       "<p>755236 rows × 2 columns</p>\n",
       "</div>"
      ],
      "text/plain": [
       "                                                     Text  Source\n",
       "0       ‘구글 부사장·박막례 할머니 한자리에’…실리콘밸리 ‘대표 행사’ 노들섬에서 열리는 ...  블록인프레스\n",
       "1       10대를 위해 블록체인 수업 나선 인하대…”협력하는 미래를 꿈꾸다” “학교에서 학생...  블록인프레스\n",
       "2       의료 블록체인서 출발한 메디블록, 간편 보험청구 앱 다음 행보는? 보험시장을 공략하...  블록인프레스\n",
       "3       블록체인 기업 모인 공유오피스…”서울시가 맞춤형으로 밀어준다” “블록체인 기업들을 ...  블록인프레스\n",
       "4       [단독] “튤립 트러스트 진실은”…’사토시 주장’ 크레이그 라이트 직접 입열다 자칭...  블록인프레스\n",
       "...                                                   ...     ...\n",
       "755231  - 슬러거ㆍ뇌천기ㆍ스페셜포스 등 인기게임 '총출동'- 100% 당첨 및 풍성한 게임...   헤럴드경제\n",
       "755232  네오위즈게임즈(대표 윤상규)는 게임포털 피망에서 크리스마스 시즌을 맞아 게임별로 다...   헤럴드경제\n",
       "755233  [헤럴드경제]네오위즈인터넷(대표 이기원)은 자사가 서비스하고, 씨드나인게임즈(대표 ...   헤럴드경제\n",
       "755234  해커집단 룰즈섹이 다시 소니를 공격했다고 미 경제전문지 포브스 인터넷판이 7일 보도...   헤럴드경제\n",
       "755235  6인조 걸그룹 코인잭슨(Coin Jackson,마리, 은빛, 코라, 지후, 맥시, ...   헤럴드경제\n",
       "\n",
       "[755236 rows x 2 columns]"
      ]
     },
     "execution_count": 181,
     "metadata": {},
     "output_type": "execute_result"
    }
   ],
   "source": [
    "clean_df"
   ]
  },
  {
   "cell_type": "code",
   "execution_count": 182,
   "metadata": {},
   "outputs": [],
   "source": [
    "clean_df.to_csv(\"clean_pretrain_data.csv\",index=False)"
   ]
  },
  {
   "cell_type": "code",
   "execution_count": null,
   "metadata": {},
   "outputs": [],
   "source": []
  }
 ],
 "metadata": {
  "kernelspec": {
   "display_name": "Python 3",
   "language": "python",
   "name": "python3"
  },
  "language_info": {
   "codemirror_mode": {
    "name": "ipython",
    "version": 3
   },
   "file_extension": ".py",
   "mimetype": "text/x-python",
   "name": "python",
   "nbconvert_exporter": "python",
   "pygments_lexer": "ipython3",
   "version": "3.8.5"
  }
 },
 "nbformat": 4,
 "nbformat_minor": 4
}
