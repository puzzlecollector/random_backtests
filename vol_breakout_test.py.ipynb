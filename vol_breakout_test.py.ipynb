{
 "cells": [
  {
   "cell_type": "code",
   "execution_count": 19,
   "metadata": {},
   "outputs": [],
   "source": [
    "import pybithumb \n",
    "import datetime \n",
    "import numpy as np \n",
    "import pandas as pd \n",
    "import time \n",
    "import os \n",
    "import math \n",
    "import random"
   ]
  },
  {
   "cell_type": "markdown",
   "metadata": {},
   "source": [
    "# 데이터 준비"
   ]
  },
  {
   "cell_type": "code",
   "execution_count": 20,
   "metadata": {},
   "outputs": [],
   "source": [
    "def get_target_price(ticker): \n",
    "    df = pybithumb.get_ohlcv(ticker) \n",
    "    yesterday = df.iloc[-2] \n",
    "    today_open = yesterday['close'] \n",
    "    yesterday_high = yesterday['high'] \n",
    "    yesterday_low = yesterday['low'] \n",
    "    target = today_open + (yesterday_high - yesterday_low) * 0.5 \n",
    "    return target "
   ]
  },
  {
   "cell_type": "code",
   "execution_count": 21,
   "metadata": {},
   "outputs": [],
   "source": [
    "df = pybithumb.get_ohlcv(\"BTC\") \n",
    "df['range'] = (df['high'] - df['low']) * 0.5 \n",
    "df['target'] = df['open'] + df['range'].shift(1) \n",
    "df.to_csv('btc.csv',index=False)"
   ]
  },
  {
   "cell_type": "code",
   "execution_count": 22,
   "metadata": {},
   "outputs": [
    {
     "data": {
      "text/html": [
       "<div>\n",
       "<style scoped>\n",
       "    .dataframe tbody tr th:only-of-type {\n",
       "        vertical-align: middle;\n",
       "    }\n",
       "\n",
       "    .dataframe tbody tr th {\n",
       "        vertical-align: top;\n",
       "    }\n",
       "\n",
       "    .dataframe thead th {\n",
       "        text-align: right;\n",
       "    }\n",
       "</style>\n",
       "<table border=\"1\" class=\"dataframe\">\n",
       "  <thead>\n",
       "    <tr style=\"text-align: right;\">\n",
       "      <th></th>\n",
       "      <th>open</th>\n",
       "      <th>high</th>\n",
       "      <th>low</th>\n",
       "      <th>close</th>\n",
       "      <th>volume</th>\n",
       "      <th>range</th>\n",
       "      <th>target</th>\n",
       "    </tr>\n",
       "    <tr>\n",
       "      <th>time</th>\n",
       "      <th></th>\n",
       "      <th></th>\n",
       "      <th></th>\n",
       "      <th></th>\n",
       "      <th></th>\n",
       "      <th></th>\n",
       "      <th></th>\n",
       "    </tr>\n",
       "  </thead>\n",
       "  <tbody>\n",
       "    <tr>\n",
       "      <th>2013-12-27 00:00:00</th>\n",
       "      <td>737000.0</td>\n",
       "      <td>755000.0</td>\n",
       "      <td>737000.0</td>\n",
       "      <td>755000.0</td>\n",
       "      <td>3.780000</td>\n",
       "      <td>9000.0</td>\n",
       "      <td>NaN</td>\n",
       "    </tr>\n",
       "    <tr>\n",
       "      <th>2013-12-28 00:00:00</th>\n",
       "      <td>750000.0</td>\n",
       "      <td>750000.0</td>\n",
       "      <td>750000.0</td>\n",
       "      <td>750000.0</td>\n",
       "      <td>12.000000</td>\n",
       "      <td>0.0</td>\n",
       "      <td>759000.0</td>\n",
       "    </tr>\n",
       "    <tr>\n",
       "      <th>2013-12-29 00:00:00</th>\n",
       "      <td>750000.0</td>\n",
       "      <td>750000.0</td>\n",
       "      <td>728000.0</td>\n",
       "      <td>739000.0</td>\n",
       "      <td>19.058000</td>\n",
       "      <td>11000.0</td>\n",
       "      <td>750000.0</td>\n",
       "    </tr>\n",
       "    <tr>\n",
       "      <th>2013-12-30 00:00:00</th>\n",
       "      <td>740000.0</td>\n",
       "      <td>772000.0</td>\n",
       "      <td>740000.0</td>\n",
       "      <td>768000.0</td>\n",
       "      <td>9.488973</td>\n",
       "      <td>16000.0</td>\n",
       "      <td>751000.0</td>\n",
       "    </tr>\n",
       "    <tr>\n",
       "      <th>2013-12-31 00:00:00</th>\n",
       "      <td>768000.0</td>\n",
       "      <td>800000.0</td>\n",
       "      <td>763000.0</td>\n",
       "      <td>768000.0</td>\n",
       "      <td>18.650350</td>\n",
       "      <td>18500.0</td>\n",
       "      <td>784000.0</td>\n",
       "    </tr>\n",
       "    <tr>\n",
       "      <th>...</th>\n",
       "      <td>...</td>\n",
       "      <td>...</td>\n",
       "      <td>...</td>\n",
       "      <td>...</td>\n",
       "      <td>...</td>\n",
       "      <td>...</td>\n",
       "      <td>...</td>\n",
       "    </tr>\n",
       "    <tr>\n",
       "      <th>2021-05-24 00:00:00</th>\n",
       "      <td>42220000.0</td>\n",
       "      <td>47180000.0</td>\n",
       "      <td>38536000.0</td>\n",
       "      <td>45312000.0</td>\n",
       "      <td>9187.329718</td>\n",
       "      <td>4322000.0</td>\n",
       "      <td>45793500.0</td>\n",
       "    </tr>\n",
       "    <tr>\n",
       "      <th>2021-05-25 00:00:00</th>\n",
       "      <td>45320000.0</td>\n",
       "      <td>49074000.0</td>\n",
       "      <td>44640000.0</td>\n",
       "      <td>46080000.0</td>\n",
       "      <td>7426.003128</td>\n",
       "      <td>2217000.0</td>\n",
       "      <td>49642000.0</td>\n",
       "    </tr>\n",
       "    <tr>\n",
       "      <th>2021-05-26 00:00:00</th>\n",
       "      <td>46147000.0</td>\n",
       "      <td>48888000.0</td>\n",
       "      <td>45431000.0</td>\n",
       "      <td>47741000.0</td>\n",
       "      <td>4310.370082</td>\n",
       "      <td>1728500.0</td>\n",
       "      <td>48364000.0</td>\n",
       "    </tr>\n",
       "    <tr>\n",
       "      <th>2021-05-27 00:00:00</th>\n",
       "      <td>47648000.0</td>\n",
       "      <td>48090000.0</td>\n",
       "      <td>45255000.0</td>\n",
       "      <td>47760000.0</td>\n",
       "      <td>4748.059144</td>\n",
       "      <td>1417500.0</td>\n",
       "      <td>49376500.0</td>\n",
       "    </tr>\n",
       "    <tr>\n",
       "      <th>2021-05-28 23:00:00</th>\n",
       "      <td>47704000.0</td>\n",
       "      <td>47815000.0</td>\n",
       "      <td>42800000.0</td>\n",
       "      <td>44800000.0</td>\n",
       "      <td>5092.533432</td>\n",
       "      <td>2507500.0</td>\n",
       "      <td>49121500.0</td>\n",
       "    </tr>\n",
       "  </tbody>\n",
       "</table>\n",
       "<p>2620 rows × 7 columns</p>\n",
       "</div>"
      ],
      "text/plain": [
       "                           open        high         low       close  \\\n",
       "time                                                                  \n",
       "2013-12-27 00:00:00    737000.0    755000.0    737000.0    755000.0   \n",
       "2013-12-28 00:00:00    750000.0    750000.0    750000.0    750000.0   \n",
       "2013-12-29 00:00:00    750000.0    750000.0    728000.0    739000.0   \n",
       "2013-12-30 00:00:00    740000.0    772000.0    740000.0    768000.0   \n",
       "2013-12-31 00:00:00    768000.0    800000.0    763000.0    768000.0   \n",
       "...                         ...         ...         ...         ...   \n",
       "2021-05-24 00:00:00  42220000.0  47180000.0  38536000.0  45312000.0   \n",
       "2021-05-25 00:00:00  45320000.0  49074000.0  44640000.0  46080000.0   \n",
       "2021-05-26 00:00:00  46147000.0  48888000.0  45431000.0  47741000.0   \n",
       "2021-05-27 00:00:00  47648000.0  48090000.0  45255000.0  47760000.0   \n",
       "2021-05-28 23:00:00  47704000.0  47815000.0  42800000.0  44800000.0   \n",
       "\n",
       "                          volume      range      target  \n",
       "time                                                     \n",
       "2013-12-27 00:00:00     3.780000     9000.0         NaN  \n",
       "2013-12-28 00:00:00    12.000000        0.0    759000.0  \n",
       "2013-12-29 00:00:00    19.058000    11000.0    750000.0  \n",
       "2013-12-30 00:00:00     9.488973    16000.0    751000.0  \n",
       "2013-12-31 00:00:00    18.650350    18500.0    784000.0  \n",
       "...                          ...        ...         ...  \n",
       "2021-05-24 00:00:00  9187.329718  4322000.0  45793500.0  \n",
       "2021-05-25 00:00:00  7426.003128  2217000.0  49642000.0  \n",
       "2021-05-26 00:00:00  4310.370082  1728500.0  48364000.0  \n",
       "2021-05-27 00:00:00  4748.059144  1417500.0  49376500.0  \n",
       "2021-05-28 23:00:00  5092.533432  2507500.0  49121500.0  \n",
       "\n",
       "[2620 rows x 7 columns]"
      ]
     },
     "execution_count": 22,
     "metadata": {},
     "output_type": "execute_result"
    }
   ],
   "source": [
    "df"
   ]
  },
  {
   "cell_type": "markdown",
   "metadata": {},
   "source": [
    "변동성 돌파 전략에서는 각 거래의 고가가 목표가 이상이면 수행된 것으로 생각하면 된다. "
   ]
  },
  {
   "cell_type": "code",
   "execution_count": 23,
   "metadata": {},
   "outputs": [],
   "source": [
    "df['ror'] = np.where(df['high'] > df['target'], df['close'] / df['target'], 1) \n"
   ]
  },
  {
   "cell_type": "code",
   "execution_count": 24,
   "metadata": {},
   "outputs": [
    {
     "data": {
      "text/html": [
       "<div>\n",
       "<style scoped>\n",
       "    .dataframe tbody tr th:only-of-type {\n",
       "        vertical-align: middle;\n",
       "    }\n",
       "\n",
       "    .dataframe tbody tr th {\n",
       "        vertical-align: top;\n",
       "    }\n",
       "\n",
       "    .dataframe thead th {\n",
       "        text-align: right;\n",
       "    }\n",
       "</style>\n",
       "<table border=\"1\" class=\"dataframe\">\n",
       "  <thead>\n",
       "    <tr style=\"text-align: right;\">\n",
       "      <th></th>\n",
       "      <th>open</th>\n",
       "      <th>high</th>\n",
       "      <th>low</th>\n",
       "      <th>close</th>\n",
       "      <th>volume</th>\n",
       "      <th>range</th>\n",
       "      <th>target</th>\n",
       "      <th>ror</th>\n",
       "    </tr>\n",
       "    <tr>\n",
       "      <th>time</th>\n",
       "      <th></th>\n",
       "      <th></th>\n",
       "      <th></th>\n",
       "      <th></th>\n",
       "      <th></th>\n",
       "      <th></th>\n",
       "      <th></th>\n",
       "      <th></th>\n",
       "    </tr>\n",
       "  </thead>\n",
       "  <tbody>\n",
       "    <tr>\n",
       "      <th>2013-12-27 00:00:00</th>\n",
       "      <td>737000.0</td>\n",
       "      <td>755000.0</td>\n",
       "      <td>737000.0</td>\n",
       "      <td>755000.0</td>\n",
       "      <td>3.780000</td>\n",
       "      <td>9000.0</td>\n",
       "      <td>NaN</td>\n",
       "      <td>1.000000</td>\n",
       "    </tr>\n",
       "    <tr>\n",
       "      <th>2013-12-28 00:00:00</th>\n",
       "      <td>750000.0</td>\n",
       "      <td>750000.0</td>\n",
       "      <td>750000.0</td>\n",
       "      <td>750000.0</td>\n",
       "      <td>12.000000</td>\n",
       "      <td>0.0</td>\n",
       "      <td>759000.0</td>\n",
       "      <td>1.000000</td>\n",
       "    </tr>\n",
       "    <tr>\n",
       "      <th>2013-12-29 00:00:00</th>\n",
       "      <td>750000.0</td>\n",
       "      <td>750000.0</td>\n",
       "      <td>728000.0</td>\n",
       "      <td>739000.0</td>\n",
       "      <td>19.058000</td>\n",
       "      <td>11000.0</td>\n",
       "      <td>750000.0</td>\n",
       "      <td>1.000000</td>\n",
       "    </tr>\n",
       "    <tr>\n",
       "      <th>2013-12-30 00:00:00</th>\n",
       "      <td>740000.0</td>\n",
       "      <td>772000.0</td>\n",
       "      <td>740000.0</td>\n",
       "      <td>768000.0</td>\n",
       "      <td>9.488973</td>\n",
       "      <td>16000.0</td>\n",
       "      <td>751000.0</td>\n",
       "      <td>1.022636</td>\n",
       "    </tr>\n",
       "    <tr>\n",
       "      <th>2013-12-31 00:00:00</th>\n",
       "      <td>768000.0</td>\n",
       "      <td>800000.0</td>\n",
       "      <td>763000.0</td>\n",
       "      <td>768000.0</td>\n",
       "      <td>18.650350</td>\n",
       "      <td>18500.0</td>\n",
       "      <td>784000.0</td>\n",
       "      <td>0.979592</td>\n",
       "    </tr>\n",
       "    <tr>\n",
       "      <th>...</th>\n",
       "      <td>...</td>\n",
       "      <td>...</td>\n",
       "      <td>...</td>\n",
       "      <td>...</td>\n",
       "      <td>...</td>\n",
       "      <td>...</td>\n",
       "      <td>...</td>\n",
       "      <td>...</td>\n",
       "    </tr>\n",
       "    <tr>\n",
       "      <th>2021-05-24 00:00:00</th>\n",
       "      <td>42220000.0</td>\n",
       "      <td>47180000.0</td>\n",
       "      <td>38536000.0</td>\n",
       "      <td>45312000.0</td>\n",
       "      <td>9187.329718</td>\n",
       "      <td>4322000.0</td>\n",
       "      <td>45793500.0</td>\n",
       "      <td>0.989485</td>\n",
       "    </tr>\n",
       "    <tr>\n",
       "      <th>2021-05-25 00:00:00</th>\n",
       "      <td>45320000.0</td>\n",
       "      <td>49074000.0</td>\n",
       "      <td>44640000.0</td>\n",
       "      <td>46080000.0</td>\n",
       "      <td>7426.003128</td>\n",
       "      <td>2217000.0</td>\n",
       "      <td>49642000.0</td>\n",
       "      <td>1.000000</td>\n",
       "    </tr>\n",
       "    <tr>\n",
       "      <th>2021-05-26 00:00:00</th>\n",
       "      <td>46147000.0</td>\n",
       "      <td>48888000.0</td>\n",
       "      <td>45431000.0</td>\n",
       "      <td>47741000.0</td>\n",
       "      <td>4310.370082</td>\n",
       "      <td>1728500.0</td>\n",
       "      <td>48364000.0</td>\n",
       "      <td>0.987119</td>\n",
       "    </tr>\n",
       "    <tr>\n",
       "      <th>2021-05-27 00:00:00</th>\n",
       "      <td>47648000.0</td>\n",
       "      <td>48090000.0</td>\n",
       "      <td>45255000.0</td>\n",
       "      <td>47760000.0</td>\n",
       "      <td>4748.059144</td>\n",
       "      <td>1417500.0</td>\n",
       "      <td>49376500.0</td>\n",
       "      <td>1.000000</td>\n",
       "    </tr>\n",
       "    <tr>\n",
       "      <th>2021-05-28 23:00:00</th>\n",
       "      <td>47704000.0</td>\n",
       "      <td>47815000.0</td>\n",
       "      <td>42800000.0</td>\n",
       "      <td>44800000.0</td>\n",
       "      <td>5092.533432</td>\n",
       "      <td>2507500.0</td>\n",
       "      <td>49121500.0</td>\n",
       "      <td>1.000000</td>\n",
       "    </tr>\n",
       "  </tbody>\n",
       "</table>\n",
       "<p>2620 rows × 8 columns</p>\n",
       "</div>"
      ],
      "text/plain": [
       "                           open        high         low       close  \\\n",
       "time                                                                  \n",
       "2013-12-27 00:00:00    737000.0    755000.0    737000.0    755000.0   \n",
       "2013-12-28 00:00:00    750000.0    750000.0    750000.0    750000.0   \n",
       "2013-12-29 00:00:00    750000.0    750000.0    728000.0    739000.0   \n",
       "2013-12-30 00:00:00    740000.0    772000.0    740000.0    768000.0   \n",
       "2013-12-31 00:00:00    768000.0    800000.0    763000.0    768000.0   \n",
       "...                         ...         ...         ...         ...   \n",
       "2021-05-24 00:00:00  42220000.0  47180000.0  38536000.0  45312000.0   \n",
       "2021-05-25 00:00:00  45320000.0  49074000.0  44640000.0  46080000.0   \n",
       "2021-05-26 00:00:00  46147000.0  48888000.0  45431000.0  47741000.0   \n",
       "2021-05-27 00:00:00  47648000.0  48090000.0  45255000.0  47760000.0   \n",
       "2021-05-28 23:00:00  47704000.0  47815000.0  42800000.0  44800000.0   \n",
       "\n",
       "                          volume      range      target       ror  \n",
       "time                                                               \n",
       "2013-12-27 00:00:00     3.780000     9000.0         NaN  1.000000  \n",
       "2013-12-28 00:00:00    12.000000        0.0    759000.0  1.000000  \n",
       "2013-12-29 00:00:00    19.058000    11000.0    750000.0  1.000000  \n",
       "2013-12-30 00:00:00     9.488973    16000.0    751000.0  1.022636  \n",
       "2013-12-31 00:00:00    18.650350    18500.0    784000.0  0.979592  \n",
       "...                          ...        ...         ...       ...  \n",
       "2021-05-24 00:00:00  9187.329718  4322000.0  45793500.0  0.989485  \n",
       "2021-05-25 00:00:00  7426.003128  2217000.0  49642000.0  1.000000  \n",
       "2021-05-26 00:00:00  4310.370082  1728500.0  48364000.0  0.987119  \n",
       "2021-05-27 00:00:00  4748.059144  1417500.0  49376500.0  1.000000  \n",
       "2021-05-28 23:00:00  5092.533432  2507500.0  49121500.0  1.000000  \n",
       "\n",
       "[2620 rows x 8 columns]"
      ]
     },
     "execution_count": 24,
     "metadata": {},
     "output_type": "execute_result"
    }
   ],
   "source": [
    "df"
   ]
  },
  {
   "cell_type": "code",
   "execution_count": 25,
   "metadata": {},
   "outputs": [
    {
     "name": "stdout",
     "output_type": "stream",
     "text": [
      "53.733478118287955\n"
     ]
    }
   ],
   "source": [
    "ror = df['ror'].cumprod()[-2] \n",
    "print(ror)"
   ]
  },
  {
   "cell_type": "code",
   "execution_count": 98,
   "metadata": {},
   "outputs": [
    {
     "name": "stdout",
     "output_type": "stream",
     "text": [
      "1.1817568351455974\n"
     ]
    }
   ],
   "source": [
    "df = pybithumb.get_ohlcv(\"BTC\") \n",
    "df = df['2018']\n",
    "df['range'] = (df['high'] - df['low']) * 0.5 \n",
    "df['target'] = df['open'] + df['range'].shift(1) \n",
    "df['ror'] = np.where(df['high'] > df['target'], df['close'] / df['target'], 1) \n",
    "ror = df['ror'].cumprod()[-2] \n",
    "print(ror)"
   ]
  },
  {
   "cell_type": "markdown",
   "metadata": {},
   "source": [
    "# 수수료에서 오는 수익률 차이 계산하기 "
   ]
  },
  {
   "cell_type": "code",
   "execution_count": 90,
   "metadata": {},
   "outputs": [],
   "source": [
    "# 초기 자본금 5000만원, 매수가 4000만원, 매도가 4800만원 \n",
    "\n",
    "투자원금 = 50000000\n",
    "매수체결가 = 40000000\n",
    "매도체결가 = 48000000"
   ]
  },
  {
   "cell_type": "code",
   "execution_count": 91,
   "metadata": {},
   "outputs": [
    {
     "data": {
      "text/plain": [
       "1.2"
      ]
     },
     "execution_count": 91,
     "metadata": {},
     "output_type": "execute_result"
    }
   ],
   "source": [
    "수익률 = 매도체결가/매수체결가\n",
    "수익률"
   ]
  },
  {
   "cell_type": "code",
   "execution_count": 92,
   "metadata": {},
   "outputs": [
    {
     "data": {
      "text/plain": [
       "1.1964027"
      ]
     },
     "execution_count": 92,
     "metadata": {},
     "output_type": "execute_result"
    }
   ],
   "source": [
    "수익률_수수료 = 매도체결가/매수체결가 * (1-0.15/100) * (1-0.15/100) \n",
    "수익률_수수료"
   ]
  },
  {
   "cell_type": "code",
   "execution_count": 93,
   "metadata": {},
   "outputs": [
    {
     "data": {
      "text/plain": [
       "0.0035973000000000255"
      ]
     },
     "execution_count": 93,
     "metadata": {},
     "output_type": "execute_result"
    }
   ],
   "source": [
    "수익률 - 수익률_수수료"
   ]
  },
  {
   "cell_type": "code",
   "execution_count": 94,
   "metadata": {},
   "outputs": [
    {
     "data": {
      "text/plain": [
       "2.124662172695581"
      ]
     },
     "execution_count": 94,
     "metadata": {},
     "output_type": "execute_result"
    }
   ],
   "source": [
    "df = pybithumb.get_ohlcv(\"BTC\") \n",
    "df['range'] = (df['high'] - df['low']) * 0.5 \n",
    "df['target'] = df['open'] + df['range'].shift(1) \n",
    "df['ror'] = np.where(df['high'] > df['target'], df['close']/df['target'] * (1-0.15/100) * (1-0.15/100), 1)  \n",
    "df.to_csv('btc.csv',index=False)\n",
    "\n",
    "\n",
    "ror = df['ror'].cumprod()[-2] \n",
    "ror"
   ]
  },
  {
   "cell_type": "code",
   "execution_count": 95,
   "metadata": {},
   "outputs": [
    {
     "data": {
      "text/plain": [
       "2.141731802327325"
      ]
     },
     "execution_count": 95,
     "metadata": {},
     "output_type": "execute_result"
    }
   ],
   "source": [
    "# 0.003 정도만 빼줘도 얼추 비슷하다. \n",
    "df = pybithumb.get_ohlcv(\"BTC\") \n",
    "df['range'] = (df['high'] - df['low']) * 0.5 \n",
    "df['target'] = df['open'] + df['range'].shift(1) \n",
    "df['ror'] = np.where(df['high'] > df['target'], df['close']/df['target'] - 0.003, 1)  \n",
    "df.to_csv('btc.csv',index=False)\n",
    "\n",
    "\n",
    "ror = df['ror'].cumprod()[-2] \n",
    "ror"
   ]
  },
  {
   "cell_type": "code",
   "execution_count": 96,
   "metadata": {},
   "outputs": [
    {
     "name": "stdout",
     "output_type": "stream",
     "text": [
      "MDD(%) = 73.6076379616712\n"
     ]
    }
   ],
   "source": [
    "df = pybithumb.get_ohlcv(\"BTC\") \n",
    "df['range'] = (df['high'] - df['low']) * 0.5 \n",
    "df['target'] = df['open'] + df['range'].shift(1) \n",
    "df['ror'] = np.where(df['high'] > df['target'], df['close']/df['target'] - 0.003, 1) \n",
    "df['hpr'] = df['ror'].cumprod() \n",
    "df['dd'] = (df['hpr'].cummax() - df['hpr']) / df['hpr'].cummax() * 100 \n",
    "print(\"MDD(%) = {}\".format(df['dd'].max()))\n",
    "df.to_csv('btc.csv',index=False)\n"
   ]
  },
  {
   "cell_type": "code",
   "execution_count": 97,
   "metadata": {},
   "outputs": [
    {
     "name": "stdout",
     "output_type": "stream",
     "text": [
      "MDD(%) = 51.34724635380804\n"
     ]
    }
   ],
   "source": [
    "df = pybithumb.get_ohlcv(\"BTC\") \n",
    "df['range'] = (df['high'] - df['low']) * 0.5 \n",
    "df['target'] = df['open'] + df['range'].shift(1) \n",
    "df['ror'] = np.where(df['high'] > df['target'], df['close']/df['target'], 1) \n",
    "df['hpr'] = df['ror'].cumprod() \n",
    "df['dd'] = (df['hpr'].cummax() - df['hpr']) / df['hpr'].cummax() * 100 \n",
    "print(\"MDD(%) = {}\".format(df['dd'].max()))\n",
    "\n"
   ]
  },
  {
   "cell_type": "markdown",
   "metadata": {},
   "source": [
    "# 하이브리드 전략"
   ]
  },
  {
   "cell_type": "code",
   "execution_count": 101,
   "metadata": {},
   "outputs": [
    {
     "name": "stdout",
     "output_type": "stream",
     "text": [
      "MDD:  38.0123833549567\n",
      "ror:  17.254495270409755\n"
     ]
    }
   ],
   "source": [
    "df = pybithumb.get_ohlcv(\"BTC\") \n",
    "df['ma5'] = df['close'].rolling(window=5).mean().shift(1) \n",
    "df['range'] = (df['high'] - df['low']) * 0.5 \n",
    "df['target'] = df['open'] + df['range'].shift(1) \n",
    "df['bull'] = df['open'] > df['ma5'] \n",
    "df['ror'] = np.where((df['high'] > df['target'])&df['bull'], df['close']/df['target'] * (1-0.15/100) * (1-0.15/100), 1) \n",
    "df['hpr'] = df['ror'].cumprod() \n",
    "df['dd'] = (df['hpr'].cummax() - df['hpr']) / df['hpr'].cummax() * 100 \n",
    "print(\"MDD: \", df['dd'].max())\n",
    "print(\"ror: \", df['hpr'][-2]) "
   ]
  },
  {
   "cell_type": "markdown",
   "metadata": {},
   "source": [
    "# Hyperparameter optimization"
   ]
  },
  {
   "cell_type": "code",
   "execution_count": 105,
   "metadata": {},
   "outputs": [
    {
     "name": "stdout",
     "output_type": "stream",
     "text": [
      "0.1 23.55869151935831\n",
      "0.2 21.13251801914171\n",
      "0.30000000000000004 16.679247952774997\n",
      "0.4 20.439266445768123\n",
      "0.5 17.461749624002817\n",
      "0.6 9.614981670830101\n",
      "0.7000000000000001 9.611238031930892\n",
      "0.8 7.4544785315251065\n",
      "0.9 4.340238485196269\n"
     ]
    }
   ],
   "source": [
    "def get_ror(k):\n",
    "    df = pybithumb.get_ohlcv(\"BTC\") \n",
    "    df['ma5'] = df['close'].rolling(window=5).mean().shift(1) \n",
    "    df['range'] = (df['high'] - df['low']) * k\n",
    "    df['target'] = df['open'] + df['range'].shift(1) \n",
    "    df['bull'] = df['open'] > df['ma5'] \n",
    "    df['ror'] = np.where((df['high'] > df['target'])&df['bull'], df['close']/df['target'] - 0.003, 1) \n",
    "    return df['ror'].cumprod()[-2]\n",
    "\n",
    "for k in np.arange(0.1, 1.0, 0.1): \n",
    "    ror = get_ror(k) \n",
    "    print(k, ror)\n",
    "    "
   ]
  }
 ],
 "metadata": {
  "kernelspec": {
   "display_name": "Python 3",
   "language": "python",
   "name": "python3"
  },
  "language_info": {
   "codemirror_mode": {
    "name": "ipython",
    "version": 3
   },
   "file_extension": ".py",
   "mimetype": "text/x-python",
   "name": "python",
   "nbconvert_exporter": "python",
   "pygments_lexer": "ipython3",
   "version": "3.6.9"
  }
 },
 "nbformat": 4,
 "nbformat_minor": 4
}
