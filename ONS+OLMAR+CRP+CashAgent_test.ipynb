{
 "cells": [
  {
   "cell_type": "markdown",
   "metadata": {},
   "source": [
    "This is a test live run of three base models namely \n",
    "1. Long OLMAR (w = 5, epsilon = 10) \n",
    "2. Long ONS (eta = 0, beta = 1, delta = 1/8) \n",
    "3. Cash Agent  \n",
    "\n",
    "With a moving geometric mean model selector with window size equal to 20. \n",
    "\n",
    "Both the above hyperparameter configurations for OLMAR and ONS are the ones presented in the paper"
   ]
  },
  {
   "cell_type": "code",
   "execution_count": 1,
   "metadata": {},
   "outputs": [],
   "source": [
    "import numpy as np \n",
    "import pandas as pd \n",
    "import random \n",
    "import os \n",
    "import matplotlib.pyplot as plt\n",
    "from cvxopt import matrix, solvers\n",
    "from tqdm import tqdm\n",
    "import pyupbit\n",
    "import time"
   ]
  },
  {
   "cell_type": "markdown",
   "metadata": {},
   "source": [
    "# Define OLMAR Model"
   ]
  },
  {
   "cell_type": "code",
   "execution_count": 2,
   "metadata": {},
   "outputs": [],
   "source": [
    "# Simplex Projection\n",
    "def simplex_proj(y):\n",
    "    \"\"\" Projection of y onto simplex. \"\"\"\n",
    "    m = len(y)\n",
    "    bget = False\n",
    "\n",
    "    s = sorted(y, reverse=True)\n",
    "    tmpsum = 0.\n",
    "\n",
    "    for ii in range(m-1):\n",
    "        tmpsum = tmpsum + s[ii]\n",
    "        tmax = (tmpsum - 1) / (ii + 1);\n",
    "        if tmax >= s[ii+1]:\n",
    "            bget = True\n",
    "            break\n",
    "\n",
    "    if not bget:\n",
    "        tmax = (tmpsum + s[m-1] -1)/m\n",
    "\n",
    "    y = np.asarray(y)\n",
    "\n",
    "    return np.maximum(y-tmax,0.)"
   ]
  },
  {
   "cell_type": "code",
   "execution_count": 3,
   "metadata": {},
   "outputs": [],
   "source": [
    "# w is the window size\n",
    "# r is the rebalancing period in hours\n",
    "def get_predicted_return(ticker, w=5, r=10):\n",
    "    df = pyupbit.get_ohlcv(ticker, interval=\"minute60\")\n",
    "    close = df['close'].values\n",
    "    close = close[-1::-r] # get every 10th\n",
    "    ma_prediction = 0\n",
    "    for i in range(w):\n",
    "        ma_prediction += close[i]\n",
    "    ma_prediction *= (1/close[0]) * (1/w)\n",
    "    return ma_prediction"
   ]
  },
  {
   "cell_type": "code",
   "execution_count": 4,
   "metadata": {},
   "outputs": [],
   "source": [
    "def OLMAR(current_portfolio, predicted_returns, epsilon=10):\n",
    "    avg_x = np.sum([x*y for x,y in zip([1 for i in predicted_returns], predicted_returns)])\n",
    "    avg_x *= 1.0 / float(len(predicted_returns))\n",
    "    # numerator\n",
    "    temp_top = epsilon - sum([x*y for x,y in zip(current_portfolio, predicted_returns)])\n",
    "    # denominator\n",
    "    temp_bottom1 = np.array(predicted_returns)\n",
    "    temp_bottom2 = np.array([avg_x for i in predicted_returns])\n",
    "    dist = np.sum(np.power((temp_bottom1 - temp_bottom2), 2))\n",
    "    lambda_1 = max(0.0, temp_top/dist)\n",
    "    # update portfolio\n",
    "    np_current_portfolio = np.array(current_portfolio)\n",
    "    new_portfolio = np_current_portfolio + lambda_1 * (temp_bottom1 - temp_bottom2)\n",
    "    new_portfolio = simplex_proj(new_portfolio.tolist())\n",
    "    return new_portfolio "
   ]
  },
  {
   "cell_type": "markdown",
   "metadata": {},
   "source": [
    "# Define ONS Model"
   ]
  },
  {
   "cell_type": "code",
   "execution_count": 5,
   "metadata": {},
   "outputs": [],
   "source": [
    "def projection_in_norm(x,M): \n",
    "    \"\"\"Projection of x to simplex indiced by matrix M. Uses quadratic programming.\"\"\"\n",
    "    m = M.shape[0]\n",
    "\n",
    "    P = matrix(2 * M)\n",
    "    q = matrix(-2 * M * x)\n",
    "    G = matrix(-np.eye(m))\n",
    "    h = matrix(np.zeros((m, 1)))\n",
    "    A = matrix(np.ones((1, m)))\n",
    "    b = matrix(1.0)\n",
    "    \n",
    "    solvers.options[\"show_progress\"] = False\n",
    "    sol = solvers.qp(P, q, G, h, A, b)\n",
    "    return np.squeeze(sol[\"x\"]) "
   ]
  },
  {
   "cell_type": "code",
   "execution_count": 6,
   "metadata": {},
   "outputs": [],
   "source": [
    "# r is the rebalancing period in hours\n",
    "def get_current_returns(ticker, r=10):\n",
    "    df = pyupbit.get_ohlcv(ticker, interval=\"minute60\")\n",
    "    close = df['close'].values\n",
    "    close = close[-1::-r] # get every 10th \n",
    "    returns = close[0] / close[1] # r_t(j) = p_t(j) / p_{t-1}(j)  \n",
    "    return returns "
   ]
  },
  {
   "cell_type": "code",
   "execution_count": 7,
   "metadata": {},
   "outputs": [],
   "source": [
    "# current_portfolio: p in the paper \n",
    "# current_returns: r in the paper \n",
    "def ONS(current_portfolio, current_returns, A, b, delta=0.125, beta=1.0, eta=0.0):\n",
    "    # calculate gradient \n",
    "    grad = np.mat(current_returns / np.dot(current_portfolio, current_returns)).T\n",
    "    # update A \n",
    "    A += grad * grad.T\n",
    "    # update b \n",
    "    b += (1 + 1.0 / beta) * grad \n",
    "    # projection of p induced by norm A \n",
    "    pp = projection_in_norm(delta * A.I * b, A)\n",
    "    return pp * (1 - eta) + np.ones(len(current_returns)) / float(len(current_returns)) * eta\n",
    "    "
   ]
  },
  {
   "cell_type": "code",
   "execution_count": 8,
   "metadata": {},
   "outputs": [
    {
     "name": "stderr",
     "output_type": "stream",
     "text": [
      "100%|██████████| 6/6 [00:00<00:00,  7.68it/s]"
     ]
    },
    {
     "name": "stdout",
     "output_type": "stream",
     "text": [
      "[0.17837699 0.14874796 0.16480639 0.17329141 0.17724831 0.15752894]\n"
     ]
    },
    {
     "name": "stderr",
     "output_type": "stream",
     "text": [
      "\n"
     ]
    }
   ],
   "source": [
    "m = 6\n",
    "A = np.mat(np.eye(m))\n",
    "b = np.mat(np.zeros(m)).T\n",
    "current_portfolio = np.ones(m) / m\n",
    "tickers = [\"KRW-BTC\", \"KRW-ADA\", \"KRW-DOGE\", \"KRW-XRP\", \"KRW-ETH\", \"KRW-DOT\"]\n",
    "current_returns = [get_current_returns(ticker) for ticker in tqdm(tickers)] \n",
    "\n",
    "new_portfolio = ONS(current_portfolio, current_returns, A, b) \n",
    "\n",
    "print(new_portfolio) \n"
   ]
  },
  {
   "cell_type": "markdown",
   "metadata": {},
   "source": [
    "# Define Cash Agent"
   ]
  },
  {
   "cell_type": "code",
   "execution_count": 9,
   "metadata": {},
   "outputs": [
    {
     "data": {
      "text/plain": [
       "[0.0, 0.0, 0.0, 0.0, 0.0, 0.0]"
      ]
     },
     "execution_count": 9,
     "metadata": {},
     "output_type": "execute_result"
    }
   ],
   "source": [
    "cash_agent = [0.0 for i in range(m)] \n",
    "cash_agent"
   ]
  },
  {
   "cell_type": "markdown",
   "metadata": {},
   "source": [
    "# Perform Backtest"
   ]
  },
  {
   "cell_type": "code",
   "execution_count": 10,
   "metadata": {},
   "outputs": [],
   "source": [
    "btc = pd.read_json('BTC_USDT-1h.json') \n",
    "eth = pd.read_json('ETH_USDT-1h.json') \n",
    "dot = pd.read_json('DOT_USDT-1h.json') \n",
    "doge = pd.read_json('DOGE_USDT-1h.json') \n",
    "xrp = pd.read_json('XRP_USDT-1h.json') \n",
    "ada = pd.read_json('ADA_USDT-1h.json') "
   ]
  },
  {
   "cell_type": "code",
   "execution_count": 11,
   "metadata": {},
   "outputs": [
    {
     "data": {
      "text/plain": [
       "((5497, 6), (5497, 6), (5497, 6), (5497, 6), (5497, 6), (5497, 6))"
      ]
     },
     "execution_count": 11,
     "metadata": {},
     "output_type": "execute_result"
    }
   ],
   "source": [
    "btc.shape, eth.shape, dot.shape, doge.shape, xrp.shape, ada.shape"
   ]
  },
  {
   "cell_type": "code",
   "execution_count": 12,
   "metadata": {},
   "outputs": [
    {
     "data": {
      "text/html": [
       "<div>\n",
       "<style scoped>\n",
       "    .dataframe tbody tr th:only-of-type {\n",
       "        vertical-align: middle;\n",
       "    }\n",
       "\n",
       "    .dataframe tbody tr th {\n",
       "        vertical-align: top;\n",
       "    }\n",
       "\n",
       "    .dataframe thead th {\n",
       "        text-align: right;\n",
       "    }\n",
       "</style>\n",
       "<table border=\"1\" class=\"dataframe\">\n",
       "  <thead>\n",
       "    <tr style=\"text-align: right;\">\n",
       "      <th></th>\n",
       "      <th>0</th>\n",
       "      <th>1</th>\n",
       "      <th>2</th>\n",
       "      <th>3</th>\n",
       "      <th>4</th>\n",
       "      <th>5</th>\n",
       "    </tr>\n",
       "  </thead>\n",
       "  <tbody>\n",
       "    <tr>\n",
       "      <th>5492</th>\n",
       "      <td>1629270000000</td>\n",
       "      <td>45395.90</td>\n",
       "      <td>45436.57</td>\n",
       "      <td>44853.80</td>\n",
       "      <td>44951.32</td>\n",
       "      <td>1795.908700</td>\n",
       "    </tr>\n",
       "    <tr>\n",
       "      <th>5493</th>\n",
       "      <td>1629273600000</td>\n",
       "      <td>44951.31</td>\n",
       "      <td>45279.92</td>\n",
       "      <td>44859.55</td>\n",
       "      <td>45251.83</td>\n",
       "      <td>1473.581870</td>\n",
       "    </tr>\n",
       "    <tr>\n",
       "      <th>5494</th>\n",
       "      <td>1629277200000</td>\n",
       "      <td>45251.82</td>\n",
       "      <td>45462.71</td>\n",
       "      <td>45122.01</td>\n",
       "      <td>45373.42</td>\n",
       "      <td>1727.680646</td>\n",
       "    </tr>\n",
       "    <tr>\n",
       "      <th>5495</th>\n",
       "      <td>1629280800000</td>\n",
       "      <td>45373.42</td>\n",
       "      <td>45560.00</td>\n",
       "      <td>45108.03</td>\n",
       "      <td>45180.35</td>\n",
       "      <td>1718.812472</td>\n",
       "    </tr>\n",
       "    <tr>\n",
       "      <th>5496</th>\n",
       "      <td>1629284400000</td>\n",
       "      <td>45180.35</td>\n",
       "      <td>45421.02</td>\n",
       "      <td>44650.00</td>\n",
       "      <td>44746.59</td>\n",
       "      <td>2640.739966</td>\n",
       "    </tr>\n",
       "  </tbody>\n",
       "</table>\n",
       "</div>"
      ],
      "text/plain": [
       "                  0         1         2         3         4            5\n",
       "5492  1629270000000  45395.90  45436.57  44853.80  44951.32  1795.908700\n",
       "5493  1629273600000  44951.31  45279.92  44859.55  45251.83  1473.581870\n",
       "5494  1629277200000  45251.82  45462.71  45122.01  45373.42  1727.680646\n",
       "5495  1629280800000  45373.42  45560.00  45108.03  45180.35  1718.812472\n",
       "5496  1629284400000  45180.35  45421.02  44650.00  44746.59  2640.739966"
      ]
     },
     "execution_count": 12,
     "metadata": {},
     "output_type": "execute_result"
    }
   ],
   "source": [
    "btc.tail()"
   ]
  },
  {
   "cell_type": "code",
   "execution_count": 13,
   "metadata": {},
   "outputs": [],
   "source": [
    "btc_close = btc.iloc[:,4].values \n",
    "eth_close = eth.iloc[:,4].values\n",
    "dot_close = dot.iloc[:,4].values \n",
    "doge_close = doge.iloc[:,4].values \n",
    "xrp_close = xrp.iloc[:,4].values \n",
    "ada_close = ada.iloc[:,4].values "
   ]
  },
  {
   "cell_type": "code",
   "execution_count": 14,
   "metadata": {},
   "outputs": [],
   "source": [
    "def format_data(price_data, r=10): \n",
    "    return price_data[::r]"
   ]
  },
  {
   "cell_type": "code",
   "execution_count": 15,
   "metadata": {},
   "outputs": [],
   "source": [
    "# get data for every 10 hours \n",
    "btc_close = format_data(btc_close) \n",
    "eth_close = format_data(eth_close) \n",
    "dot_close = format_data(dot_close) \n",
    "doge_close = format_data(doge_close) \n",
    "xrp_close = format_data(xrp_close)\n",
    "ada_close = format_data(ada_close) "
   ]
  },
  {
   "cell_type": "code",
   "execution_count": 16,
   "metadata": {},
   "outputs": [
    {
     "data": {
      "text/plain": [
       "(550, 6)"
      ]
     },
     "execution_count": 16,
     "metadata": {},
     "output_type": "execute_result"
    }
   ],
   "source": [
    "price_data = np.concatenate([btc_close.reshape((-1,1)), \n",
    "                             eth_close.reshape((-1,1)), \n",
    "                             dot_close.reshape((-1,1)), \n",
    "                             xrp_close.reshape((-1,1)),\n",
    "                             doge_close.reshape((-1,1)), \n",
    "                             ada_close.reshape((-1,1))], axis = 1) \n",
    "price_data.shape"
   ]
  },
  {
   "cell_type": "code",
   "execution_count": 17,
   "metadata": {},
   "outputs": [],
   "source": [
    "# compute geometric mean of array x \n",
    "def geometric_mean(x):\n",
    "    x = np.asarray(x) \n",
    "    return x.prod() ** (1/len(x)) "
   ]
  },
  {
   "cell_type": "code",
   "execution_count": 58,
   "metadata": {},
   "outputs": [],
   "source": [
    "# compute arithmetic mean of array x \n",
    "def arithmetic_mean(x):  \n",
    "    x = np.asarray(x) \n",
    "    return np.mean(x) "
   ]
  },
  {
   "cell_type": "markdown",
   "metadata": {},
   "source": [
    "# ONS Backtest"
   ]
  },
  {
   "cell_type": "code",
   "execution_count": 45,
   "metadata": {},
   "outputs": [
    {
     "name": "stderr",
     "output_type": "stream",
     "text": [
      "100%|██████████| 545/545 [00:00<00:00, 803.90it/s]"
     ]
    },
    {
     "name": "stdout",
     "output_type": "stream",
     "text": [
      "final cash amount = $2438.15\n",
      "percentage profit = 143.81%\n"
     ]
    },
    {
     "name": "stderr",
     "output_type": "stream",
     "text": [
      "\n"
     ]
    }
   ],
   "source": [
    "w = 5 \n",
    "m = 6 \n",
    "model_selector_w = 20 \n",
    "tickers = [\"BTC\", \"ETH\", \"DOT\", \"XRP\", \"DOGE\", \"ADA\"] \n",
    "A = np.mat(np.eye(m))\n",
    "b = np.mat(np.zeros(m)).T\n",
    "\n",
    "olmar_current_portfolio = [1/m for _ in range(m)]  \n",
    "ons_current_portfolio = [1/m for _ in range(m)] \n",
    "cash_agent_current_portfolio = [0 for _ in range(m)] \n",
    "\n",
    "OLMAR_history = [] \n",
    "CASH_AGENT_history = [] \n",
    "ONS_history = [] \n",
    "\n",
    "ONS_cnt = 0 \n",
    "OLMAR_cnt = 0 \n",
    "CASH_AGENT_cnt = 0 \n",
    "\n",
    "cumulative_wealth = 1.0 \n",
    "\n",
    "choice = 0 \n",
    "\n",
    "gamma = 0.05 \n",
    "\n",
    "init_seed = 1000 \n",
    "cash = 1000 \n",
    "cash_status = [] \n",
    "\n",
    "for i in tqdm(range(w, price_data.shape[0])):\n",
    "    \n",
    "    if i > w: \n",
    "        # sell \n",
    "        current_returns = []\n",
    "        for j in range(m): \n",
    "            ret = price_data[i,j] / price_data[i-1,j] \n",
    "            current_returns.append(ret) \n",
    "        cash = np.sum([ons_current_portfolio[j]*cash*current_returns[j]*(1-gamma/100) for j in range(m)]) \n",
    "        cash_status.append(cash)\n",
    "    \n",
    "    current_returns = [] \n",
    "    for j in range(m):  \n",
    "        ret = price_data[i,j] / price_data[i-1,j] \n",
    "        current_returns.append(ret) \n",
    "        \n",
    "    ons_current_portfolio = ONS(ons_current_portfolio, current_returns, A, b) \n",
    "    \n",
    "    # buy \n",
    "    cash = np.sum([ons_current_portfolio[j]*cash*(1-gamma/100) for j in range(m)])\n",
    "    \n",
    "    \n",
    "print(\"final cash amount = ${:.2f}\".format(cash)) \n",
    "print(\"percentage profit = {:.2f}%\".format((cash-init_seed)/init_seed * 100))\n",
    "    "
   ]
  },
  {
   "cell_type": "code",
   "execution_count": 46,
   "metadata": {},
   "outputs": [
    {
     "data": {
      "text/plain": [
       "[<matplotlib.lines.Line2D at 0x7ff6e06ebcf8>]"
      ]
     },
     "execution_count": 46,
     "metadata": {},
     "output_type": "execute_result"
    },
    {
     "data": {
      "image/png": "[encoded data removed]",
      "text/plain": [
       "<Figure size 432x288 with 1 Axes>"
      ]
     },
     "metadata": {
      "needs_background": "light"
     },
     "output_type": "display_data"
    }
   ],
   "source": [
    "plt.plot(cash_status)"
   ]
  },
  {
   "cell_type": "markdown",
   "metadata": {},
   "source": [
    "# OLMAR Backtest"
   ]
  },
  {
   "cell_type": "code",
   "execution_count": 43,
   "metadata": {},
   "outputs": [
    {
     "name": "stderr",
     "output_type": "stream",
     "text": [
      "100%|██████████| 545/545 [00:00<00:00, 8271.41it/s]"
     ]
    },
    {
     "name": "stdout",
     "output_type": "stream",
     "text": [
      "final cash amount = $2497.68\n",
      "percentage profit = 149.77%\n"
     ]
    },
    {
     "name": "stderr",
     "output_type": "stream",
     "text": [
      "\n"
     ]
    }
   ],
   "source": [
    "w = 5 \n",
    "m = 6 \n",
    "model_selector_w = 20 \n",
    "tickers = [\"BTC\", \"ETH\", \"DOT\", \"XRP\", \"DOGE\", \"ADA\"] \n",
    "A = np.mat(np.eye(m))\n",
    "b = np.mat(np.zeros(m)).T\n",
    "\n",
    "olmar_current_portfolio = [1/m for _ in range(m)]  \n",
    "ons_current_portfolio = [1/m for _ in range(m)] \n",
    "cash_agent_current_portfolio = [0 for _ in range(m)] \n",
    "\n",
    "OLMAR_history = [] \n",
    "CASH_AGENT_history = [] \n",
    "ONS_history = [] \n",
    "\n",
    "ONS_cnt = 0 \n",
    "OLMAR_cnt = 0 \n",
    "CASH_AGENT_cnt = 0 \n",
    "\n",
    "cumulative_wealth = 1.0 \n",
    "\n",
    "choice = 0 \n",
    "\n",
    "gamma = 0.05 \n",
    "\n",
    "init_seed = 1000 \n",
    "cash = 1000\n",
    "cash_status = [] \n",
    "\n",
    "for i in tqdm(range(w, price_data.shape[0])):\n",
    "    \n",
    "    if i > w: \n",
    "        # sell \n",
    "        current_returns = []\n",
    "        for j in range(m): \n",
    "            ret = price_data[i,j] / price_data[i-1,j] \n",
    "            current_returns.append(ret) \n",
    "        cash = np.sum([olmar_current_portfolio[j]*cash*current_returns[j]*(1-gamma/100) for j in range(m)]) \n",
    "        cash_status.append(cash)\n",
    "    \n",
    "    predicted_returns = [] \n",
    "    for j in range(m):  \n",
    "        moving_avg = 0 \n",
    "        for k in range(i-w+1, i+1):\n",
    "            moving_avg += price_data[k,j] \n",
    "        moving_avg *= (1/w) * (1/price_data[i,j])\n",
    "        predicted_returns.append(moving_avg) \n",
    "    olmar_current_portfolio = OLMAR(olmar_current_portfolio, predicted_returns)  \n",
    "    \n",
    "    # buy \n",
    "    cash = np.sum([olmar_current_portfolio[j]*cash*(1-gamma/100) for j in range(m)])\n",
    "    \n",
    "print(\"final cash amount = ${:.2f}\".format(cash)) \n",
    "print(\"percentage profit = {:.2f}%\".format((cash-init_seed)/init_seed * 100))\n",
    "\n",
    "\n"
   ]
  },
  {
   "cell_type": "code",
   "execution_count": 44,
   "metadata": {},
   "outputs": [
    {
     "data": {
      "text/plain": [
       "[<matplotlib.lines.Line2D at 0x7ff6e0707ef0>]"
      ]
     },
     "execution_count": 44,
     "metadata": {},
     "output_type": "execute_result"
    },
    {
     "data": {
      "image/png": "[encoded data removed]",
      "text/plain": [
       "<Figure size 432x288 with 1 Axes>"
      ]
     },
     "metadata": {
      "needs_background": "light"
     },
     "output_type": "display_data"
    }
   ],
   "source": [
    "plt.plot(cash_status)"
   ]
  },
  {
   "cell_type": "markdown",
   "metadata": {},
   "source": [
    "# BTC BAH"
   ]
  },
  {
   "cell_type": "code",
   "execution_count": 20,
   "metadata": {},
   "outputs": [
    {
     "name": "stdout",
     "output_type": "stream",
     "text": [
      "BAH bitcoin cash amount = $1567.08\n",
      "BAH bitcoin percentage profit = 56.71%\n"
     ]
    }
   ],
   "source": [
    "btc_ret = price_data[-1,0] / price_data[0,0]\n",
    "bah_amount = 1000*(1-gamma/1000)*btc_ret \n",
    "print(\"BAH bitcoin cash amount = ${:.2f}\".format(bah_amount)) \n",
    "print(\"BAH bitcoin percentage profit = {:.2f}%\".format((bah_amount-init_seed)/init_seed * 100))"
   ]
  },
  {
   "cell_type": "markdown",
   "metadata": {},
   "source": [
    "# Uniform CRP"
   ]
  },
  {
   "cell_type": "code",
   "execution_count": 31,
   "metadata": {},
   "outputs": [
    {
     "name": "stderr",
     "output_type": "stream",
     "text": [
      "100%|██████████| 545/545 [00:00<00:00, 35429.26it/s]"
     ]
    },
    {
     "name": "stdout",
     "output_type": "stream",
     "text": [
      "final cash amount = $4952.22\n",
      "percentage profit = 395.22%\n"
     ]
    },
    {
     "name": "stderr",
     "output_type": "stream",
     "text": [
      "\n"
     ]
    }
   ],
   "source": [
    "m = 6\n",
    "model_selector_w = 20 \n",
    "tickers = [\"BTC\", \"ETH\", \"DOT\", \"XRP\", \"DOGE\", \"ADA\"] \n",
    "\n",
    "crp = [1/m for _ in range(m)] \n",
    "\n",
    "gamma = 0.05 \n",
    "\n",
    "init_seed = 1000 \n",
    "cash = 1000 \n",
    "\n",
    "cash_status = [] \n",
    "\n",
    "for i in tqdm(range(w, price_data.shape[0])): \n",
    "    if i > w: \n",
    "        # sell \n",
    "        current_returns = []\n",
    "        for j in range(m): \n",
    "            ret = price_data[i,j] / price_data[i-1,j] \n",
    "            current_returns.append(ret) \n",
    "        cash = np.sum([crp[j]*cash*current_returns[j]*(1-gamma/100) for j in range(m)]) \n",
    "        \n",
    "        cash_status.append(cash)\n",
    "    \n",
    "        \n",
    "    # buy \n",
    "    cash = np.sum([crp[j]*cash*(1-gamma/100) for j in range(m)])\n",
    "    \n",
    "print(\"final cash amount = ${:.2f}\".format(cash)) \n",
    "print(\"percentage profit = {:.2f}%\".format((cash-init_seed)/init_seed * 100))\n",
    "\n",
    "    \n"
   ]
  },
  {
   "cell_type": "code",
   "execution_count": 32,
   "metadata": {},
   "outputs": [
    {
     "data": {
      "text/plain": [
       "[<matplotlib.lines.Line2D at 0x7ff6e09379e8>]"
      ]
     },
     "execution_count": 32,
     "metadata": {},
     "output_type": "execute_result"
    },
    {
     "data": {
      "image/png": "[encoded data removed]",
      "text/plain": [
       "<Figure size 432x288 with 1 Axes>"
      ]
     },
     "metadata": {
      "needs_background": "light"
     },
     "output_type": "display_data"
    }
   ],
   "source": [
    "plt.plot(cash_status)"
   ]
  },
  {
   "cell_type": "markdown",
   "metadata": {},
   "source": [
    "# ONS, OLMAR, CASH AGENT with model selector"
   ]
  },
  {
   "cell_type": "code",
   "execution_count": 34,
   "metadata": {},
   "outputs": [
    {
     "name": "stderr",
     "output_type": "stream",
     "text": [
      "100%|██████████| 545/545 [00:01<00:00, 438.80it/s]"
     ]
    },
    {
     "name": "stdout",
     "output_type": "stream",
     "text": [
      "final cash amount = $1425.45\n",
      "percentage profit = 42.55%\n"
     ]
    },
    {
     "name": "stderr",
     "output_type": "stream",
     "text": [
      "\n"
     ]
    }
   ],
   "source": [
    "w = 5 \n",
    "m = 6 \n",
    "model_selector_w = 20 \n",
    "tickers = [\"BTC\", \"ETH\", \"DOT\", \"XRP\", \"DOGE\", \"ADA\"] \n",
    "\n",
    "A = np.mat(np.eye(m))\n",
    "b = np.mat(np.zeros(m)).T\n",
    "\n",
    "olmar_current_portfolio = [1/m for _ in range(m)]  \n",
    "ons_current_portfolio = [1/m for _ in range(m)] \n",
    "cash_agent_current_portfolio = [0 for _ in range(m)] \n",
    "\n",
    "olmar_history = [] \n",
    "cash_agent_history = [] \n",
    "ons_history = [] \n",
    "\n",
    "ons_cnt = 0 \n",
    "olmar_cnt = 0 \n",
    "cash_agent_cnt = 0 \n",
    "\n",
    "cumulative_wealth = 1.0 \n",
    "\n",
    "# which model did we choose?  \n",
    "choice = 0 \n",
    "\n",
    "gamma = 0.05 \n",
    "\n",
    "init_seed = 1000 \n",
    "cash = 1000 \n",
    "cash_status = [] \n",
    "\n",
    "for i in tqdm(range(w, price_data.shape[0])):\n",
    "    \n",
    "    if i > w: \n",
    "        # sell \n",
    "        current_returns = []\n",
    "        for j in range(m): \n",
    "            ret = price_data[i,j] / price_data[i-1,j] \n",
    "            current_returns.append(ret) \n",
    "            \n",
    "        if choice == 0: \n",
    "            ons_cnt += 1 \n",
    "            cash = np.sum([ons_current_portfolio[j]*cash*current_returns[j]*(1-gamma/100) for j in range(m)])\n",
    "        elif choice == 1: \n",
    "            olmar_cnt += 1 \n",
    "            cash = np.sum([olmar_current_portfolio[j]*cash*current_returns[j]*(1-gamma/100) for j in range(m)]) \n",
    "        elif choice == 2: \n",
    "            cash_agent_cnt += 1 \n",
    "            pass # no change in cash \n",
    "        \n",
    "        cash_status.append(cash)\n",
    "        \n",
    "        # populate history arrays \n",
    "        ons_returns = np.sum([x*y for x,y in zip(ons_current_portfolio, current_returns)]) \n",
    "        olmar_returns = np.sum([x*y for x,y in zip(olmar_current_portfolio, current_returns)]) \n",
    "        cash_agent_returns = 0.0 \n",
    "        \n",
    "        ons_history.append(ons_returns)\n",
    "        olmar_history.append(olmar_returns)\n",
    "        cash_agent_history.append(cash_agent_returns) \n",
    "        \n",
    "        # sliding window effect  \n",
    "        if len(ons_history) > model_selector_w: \n",
    "            ons_history.pop(0) \n",
    "        if len(olmar_history) > model_selector_w:  \n",
    "            olmar_history.pop(0) \n",
    "        if len(cash_agent_history) > model_selector_w: \n",
    "            cash_agent_history.pop(0) \n",
    "            \n",
    "    \n",
    "    # calculate ons portfolio \n",
    "    current_returns = [] \n",
    "    for j in range(m):  \n",
    "        ret = price_data[i,j] / price_data[i-1,j] \n",
    "        current_returns.append(ret) \n",
    "    ons_current_portfolio = ONS(ons_current_portfolio, current_returns, A, b) \n",
    "    \n",
    "    # calculate olmar portfolio \n",
    "    predicted_returns = [] \n",
    "    for j in range(m):  \n",
    "        moving_avg = 0 \n",
    "        for k in range(i-w+1, i+1):\n",
    "            moving_avg += price_data[k,j] \n",
    "        moving_avg *= (1/w) * (1/price_data[i,j])\n",
    "        predicted_returns.append(moving_avg) \n",
    "    olmar_current_portfolio = OLMAR(olmar_current_portfolio, predicted_returns)   \n",
    "    \n",
    "    \n",
    "    if len(olmar_history) == 0: \n",
    "        # this must be our first iteration \n",
    "        # choose either olmar or ons or cash agent\n",
    "        choice = np.random.choice(3, 1, p=[1/3,1/3,1/3]) \n",
    "        if choice == 0: \n",
    "            cash = np.sum([ons_current_portfolio[j]*cash*(1-gamma/100) for j in range(m)]) \n",
    "        elif choice == 1: \n",
    "            cash = np.sum([olmar_current_portfolio[j]*cash*(1-gamma/100) for j in range(m)])  \n",
    "        elif choice == 2: \n",
    "            pass \n",
    "    else: \n",
    "        olmar_profits = geometric_mean(olmar_history) \n",
    "        ons_profits = geometric_mean(ons_history) \n",
    "        if ons_profits >= olmar_profits and ons_profits > 1: \n",
    "            choice = 0 \n",
    "            cash = np.sum([ons_current_portfolio[j]*cash*(1-gamma/100) for j in range(m)])  \n",
    "        elif olmar_profits >= ons_profits and olmar_profits > 1:  \n",
    "            choice = 1 \n",
    "            cash = np.sum([olmar_current_portfolio[j]*cash*(1-gamma/100) for j in range(m)])\n",
    "        else: \n",
    "            # it is probably a down market \n",
    "            choice = 2 \n",
    "            # no change to cash \n",
    "    \n",
    "        \n",
    "print(\"final cash amount = ${:.2f}\".format(cash)) \n",
    "print(\"percentage profit = {:.2f}%\".format((cash-init_seed)/init_seed * 100))\n",
    "    "
   ]
  },
  {
   "cell_type": "code",
   "execution_count": 35,
   "metadata": {},
   "outputs": [
    {
     "data": {
      "text/plain": [
       "(191, 207, 146)"
      ]
     },
     "execution_count": 35,
     "metadata": {},
     "output_type": "execute_result"
    }
   ],
   "source": [
    "ons_cnt, olmar_cnt, cash_agent_cnt"
   ]
  },
  {
   "cell_type": "code",
   "execution_count": 36,
   "metadata": {},
   "outputs": [
    {
     "data": {
      "text/plain": [
       "[<matplotlib.lines.Line2D at 0x7ff6e083ea20>]"
      ]
     },
     "execution_count": 36,
     "metadata": {},
     "output_type": "execute_result"
    },
    {
     "data": {
      "image/png": "[encoded data removed]",
      "text/plain": [
       "<Figure size 432x288 with 1 Axes>"
      ]
     },
     "metadata": {
      "needs_background": "light"
     },
     "output_type": "display_data"
    }
   ],
   "source": [
    "plt.plot(cash_status)"
   ]
  },
  {
   "cell_type": "markdown",
   "metadata": {},
   "source": [
    "# ONS, OLMAR, CASH AGENT, Uniform CRP with model selector"
   ]
  },
  {
   "cell_type": "code",
   "execution_count": 39,
   "metadata": {},
   "outputs": [
    {
     "name": "stderr",
     "output_type": "stream",
     "text": [
      "100%|██████████| 545/545 [00:00<00:00, 674.06it/s]"
     ]
    },
    {
     "name": "stdout",
     "output_type": "stream",
     "text": [
      "final cash amount = $1864.31\n",
      "percentage profit = 86.43%\n"
     ]
    },
    {
     "name": "stderr",
     "output_type": "stream",
     "text": [
      "\n"
     ]
    }
   ],
   "source": [
    "w = 5 \n",
    "m = 6 \n",
    "model_selector_w = 20 \n",
    "tickers = [\"BTC\", \"ETH\", \"DOT\", \"XRP\", \"DOGE\", \"ADA\"] \n",
    "\n",
    "A = np.mat(np.eye(m))\n",
    "b = np.mat(np.zeros(m)).T\n",
    "\n",
    "olmar_current_portfolio = [1/m for _ in range(m)]  \n",
    "ons_current_portfolio = [1/m for _ in range(m)] \n",
    "cash_agent_current_portfolio = [0 for _ in range(m)] \n",
    "crp_current_portfolio = [1/m for _ in range(m)]  \n",
    "\n",
    "olmar_history = [] \n",
    "cash_agent_history = [] \n",
    "ons_history = [] \n",
    "crp_history = []\n",
    "\n",
    "ons_cnt = 0 \n",
    "olmar_cnt = 0 \n",
    "cash_agent_cnt = 0 \n",
    "crp_cnt = 0 \n",
    "\n",
    "cumulative_wealth = 1.0 \n",
    "\n",
    "# which model did we choose?  \n",
    "choice = 0 \n",
    "\n",
    "gamma = 0.05 \n",
    "\n",
    "init_seed = 1000 \n",
    "cash = 1000 \n",
    "cash_status = [] \n",
    "\n",
    "for i in tqdm(range(w, price_data.shape[0])):\n",
    "    \n",
    "    if i > w: \n",
    "        # sell \n",
    "        current_returns = []\n",
    "        for j in range(m): \n",
    "            ret = price_data[i,j] / price_data[i-1,j] \n",
    "            current_returns.append(ret) \n",
    "            \n",
    "        if choice == 0: \n",
    "            ons_cnt += 1 \n",
    "            cash = np.sum([ons_current_portfolio[j]*cash*current_returns[j]*(1-gamma/100) for j in range(m)])\n",
    "        elif choice == 1: \n",
    "            olmar_cnt += 1 \n",
    "            cash = np.sum([olmar_current_portfolio[j]*cash*current_returns[j]*(1-gamma/100) for j in range(m)]) \n",
    "        elif choice == 2: \n",
    "            cash_agent_cnt += 1 \n",
    "            pass # no change in cash  \n",
    "        elif choice == 3: \n",
    "            crp_cnt += 1 \n",
    "            cash = np.sum([crp_current_portfolio[j]*cash*current_returns[j]*(1-gamma/100) for j in range(m)]) \n",
    "            \n",
    "        cash_status.append(cash)\n",
    "        \n",
    "        # populate history arrays \n",
    "        ons_returns = np.sum([x*y for x,y in zip(ons_current_portfolio, current_returns)]) \n",
    "        olmar_returns = np.sum([x*y for x,y in zip(olmar_current_portfolio, current_returns)]) \n",
    "        cash_agent_returns = 0.0 \n",
    "        crp_returns = np.sum([x*y for x,y in zip(crp_current_portfolio, current_returns)])\n",
    "        \n",
    "        ons_history.append(ons_returns)\n",
    "        olmar_history.append(olmar_returns)\n",
    "        cash_agent_history.append(cash_agent_returns) \n",
    "        crp_history.append(crp_returns)\n",
    "        \n",
    "        # sliding window effect  \n",
    "        if len(ons_history) > model_selector_w: \n",
    "            ons_history.pop(0) \n",
    "        if len(olmar_history) > model_selector_w:  \n",
    "            olmar_history.pop(0) \n",
    "        if len(cash_agent_history) > model_selector_w: \n",
    "            cash_agent_history.pop(0)  \n",
    "        if len(crp_history) > model_selector_w: \n",
    "            crp_history.pop(0)\n",
    "            \n",
    "    \n",
    "    # calculate ons portfolio \n",
    "    current_returns = [] \n",
    "    for j in range(m):  \n",
    "        ret = price_data[i,j] / price_data[i-1,j] \n",
    "        current_returns.append(ret) \n",
    "    ons_current_portfolio = ONS(ons_current_portfolio, current_returns, A, b) \n",
    "    \n",
    "    # calculate olmar portfolio \n",
    "    predicted_returns = [] \n",
    "    for j in range(m):  \n",
    "        moving_avg = 0 \n",
    "        for k in range(i-w+1, i+1):\n",
    "            moving_avg += price_data[k,j] \n",
    "        moving_avg *= (1/w) * (1/price_data[i,j])\n",
    "        predicted_returns.append(moving_avg) \n",
    "    olmar_current_portfolio = OLMAR(olmar_current_portfolio, predicted_returns)   \n",
    "    \n",
    "    \n",
    "    if len(olmar_history) == 0: \n",
    "        # this must be our first iteration \n",
    "        # choose either olmar or ons or cash agent\n",
    "        choice = np.random.choice(4, 1, p=[1/4,1/4,1/4,1/4]) \n",
    "        if choice == 0: \n",
    "            cash = np.sum([ons_current_portfolio[j]*cash*(1-gamma/100) for j in range(m)]) \n",
    "        elif choice == 1: \n",
    "            cash = np.sum([olmar_current_portfolio[j]*cash*(1-gamma/100) for j in range(m)])  \n",
    "        elif choice == 2: \n",
    "            pass \n",
    "        elif choice == 3: \n",
    "            cash = np.sum([crp_current_portfolio[j]*cash*(1-gamma/100) for j in range(m)])  \n",
    "    else: \n",
    "        olmar_profits = geometric_mean(olmar_history) \n",
    "        ons_profits = geometric_mean(ons_history)  \n",
    "        crp_profits = geometric_mean(crp_history) \n",
    "        \n",
    "        \n",
    "        if ons_profits >= olmar_profits and ons_profits >= crp_profits and ons_profits > 1: \n",
    "            choice = 0 \n",
    "            cash = np.sum([ons_current_portfolio[j]*cash*(1-gamma/100) for j in range(m)])  \n",
    "        elif olmar_profits >= ons_profits and olmar_profits >= crp_profits and olmar_profits > 1:  \n",
    "            choice = 1 \n",
    "            cash = np.sum([olmar_current_portfolio[j]*cash*(1-gamma/100) for j in range(m)]) \n",
    "        elif crp_profits >= ons_profits and crp_profits >= olmar_profits and crp_profits > 1:  \n",
    "            choice = 3 \n",
    "            cash = np.sum([crp_current_portfolio[j]*cash*(1-gamma/100) for j in range(m)])\n",
    "        else: \n",
    "            # it is probably a down market \n",
    "            choice = 2 \n",
    "            # no change to cash \n",
    "    \n",
    "        \n",
    "print(\"final cash amount = ${:.2f}\".format(cash)) \n",
    "print(\"percentage profit = {:.2f}%\".format((cash-init_seed)/init_seed * 100))\n",
    "    "
   ]
  },
  {
   "cell_type": "code",
   "execution_count": 40,
   "metadata": {},
   "outputs": [
    {
     "data": {
      "text/plain": [
       "(133, 129, 149, 133)"
      ]
     },
     "execution_count": 40,
     "metadata": {},
     "output_type": "execute_result"
    }
   ],
   "source": [
    "olmar_cnt, ons_cnt, crp_cnt, cash_agent_cnt"
   ]
  },
  {
   "cell_type": "code",
   "execution_count": 41,
   "metadata": {},
   "outputs": [
    {
     "data": {
      "text/plain": [
       "[<matplotlib.lines.Line2D at 0x7ff6e07c24e0>]"
      ]
     },
     "execution_count": 41,
     "metadata": {},
     "output_type": "execute_result"
    },
    {
     "data": {
      "image/png": "[encoded data removed]",
      "text/plain": [
       "<Figure size 432x288 with 1 Axes>"
      ]
     },
     "metadata": {
      "needs_background": "light"
     },
     "output_type": "display_data"
    }
   ],
   "source": [
    "plt.plot(cash_status)"
   ]
  },
  {
   "cell_type": "markdown",
   "metadata": {},
   "source": [
    "# ONS, OLMAR, CASH AGENT, Uniform CRP with model selector with no initial random choice"
   ]
  },
  {
   "cell_type": "code",
   "execution_count": 47,
   "metadata": {},
   "outputs": [
    {
     "name": "stderr",
     "output_type": "stream",
     "text": [
      "100%|██████████| 545/545 [00:00<00:00, 683.49it/s]"
     ]
    },
    {
     "name": "stdout",
     "output_type": "stream",
     "text": [
      "final cash amount = $1864.31\n",
      "percentage profit = 86.43%\n"
     ]
    },
    {
     "name": "stderr",
     "output_type": "stream",
     "text": [
      "\n"
     ]
    }
   ],
   "source": [
    "w = 5 \n",
    "m = 6 \n",
    "model_selector_w = 20 \n",
    "tickers = [\"BTC\", \"ETH\", \"DOT\", \"XRP\", \"DOGE\", \"ADA\"] \n",
    "\n",
    "A = np.mat(np.eye(m))\n",
    "b = np.mat(np.zeros(m)).T\n",
    "\n",
    "olmar_current_portfolio = [1/m for _ in range(m)]  \n",
    "ons_current_portfolio = [1/m for _ in range(m)] \n",
    "cash_agent_current_portfolio = [0 for _ in range(m)] \n",
    "crp_current_portfolio = [1/m for _ in range(m)]  \n",
    "\n",
    "olmar_history = [] \n",
    "cash_agent_history = [] \n",
    "ons_history = [] \n",
    "crp_history = []\n",
    "\n",
    "ons_cnt = 0 \n",
    "olmar_cnt = 0 \n",
    "cash_agent_cnt = 0 \n",
    "crp_cnt = 0 \n",
    "\n",
    "cumulative_wealth = 1.0 \n",
    "\n",
    "# which model did we choose?  \n",
    "choice = 0 \n",
    "\n",
    "gamma = 0.05 \n",
    "\n",
    "init_seed = 1000 \n",
    "cash = 1000 \n",
    "cash_status = [] \n",
    "\n",
    "for i in tqdm(range(w, price_data.shape[0])):\n",
    "    \n",
    "    if i > w: \n",
    "        # sell \n",
    "        current_returns = []\n",
    "        for j in range(m): \n",
    "            ret = price_data[i,j] / price_data[i-1,j] \n",
    "            current_returns.append(ret) \n",
    "            \n",
    "        if choice == 0: \n",
    "            ons_cnt += 1 \n",
    "            cash = np.sum([ons_current_portfolio[j]*cash*current_returns[j]*(1-gamma/100) for j in range(m)])\n",
    "        elif choice == 1: \n",
    "            olmar_cnt += 1 \n",
    "            cash = np.sum([olmar_current_portfolio[j]*cash*current_returns[j]*(1-gamma/100) for j in range(m)]) \n",
    "        elif choice == 2: \n",
    "            cash_agent_cnt += 1 \n",
    "            pass # no change in cash  \n",
    "        elif choice == 3: \n",
    "            crp_cnt += 1 \n",
    "            cash = np.sum([crp_current_portfolio[j]*cash*current_returns[j]*(1-gamma/100) for j in range(m)]) \n",
    "            \n",
    "        cash_status.append(cash)\n",
    "        \n",
    "        # populate history arrays \n",
    "        ons_returns = np.sum([x*y for x,y in zip(ons_current_portfolio, current_returns)]) \n",
    "        olmar_returns = np.sum([x*y for x,y in zip(olmar_current_portfolio, current_returns)]) \n",
    "        cash_agent_returns = 0.0 \n",
    "        crp_returns = np.sum([x*y for x,y in zip(crp_current_portfolio, current_returns)])\n",
    "        \n",
    "        ons_history.append(ons_returns)\n",
    "        olmar_history.append(olmar_returns)\n",
    "        cash_agent_history.append(cash_agent_returns) \n",
    "        crp_history.append(crp_returns)\n",
    "        \n",
    "        # sliding window effect  \n",
    "        if len(ons_history) > model_selector_w: \n",
    "            ons_history.pop(0) \n",
    "        if len(olmar_history) > model_selector_w:  \n",
    "            olmar_history.pop(0) \n",
    "        if len(cash_agent_history) > model_selector_w: \n",
    "            cash_agent_history.pop(0)  \n",
    "        if len(crp_history) > model_selector_w: \n",
    "            crp_history.pop(0)\n",
    "            \n",
    "    \n",
    "    # calculate ons portfolio \n",
    "    current_returns = [] \n",
    "    for j in range(m):  \n",
    "        ret = price_data[i,j] / price_data[i-1,j] \n",
    "        current_returns.append(ret) \n",
    "    ons_current_portfolio = ONS(ons_current_portfolio, current_returns, A, b) \n",
    "    \n",
    "    # calculate olmar portfolio \n",
    "    predicted_returns = [] \n",
    "    for j in range(m):  \n",
    "        moving_avg = 0 \n",
    "        for k in range(i-w+1, i+1):\n",
    "            moving_avg += price_data[k,j] \n",
    "        moving_avg *= (1/w) * (1/price_data[i,j])\n",
    "        predicted_returns.append(moving_avg) \n",
    "    olmar_current_portfolio = OLMAR(olmar_current_portfolio, predicted_returns)   \n",
    "    \n",
    "    \n",
    "    if len(olmar_history) == 0: \n",
    "        # this must be our first iteration \n",
    "        # choose uniform CRP \n",
    "        choice = 3 \n",
    "        cash = np.sum([crp_current_portfolio[j]*cash*(1-gamma/100) for j in range(m)])   \n",
    "    else: \n",
    "        olmar_profits = geometric_mean(olmar_history) \n",
    "        ons_profits = geometric_mean(ons_history)  \n",
    "        crp_profits = geometric_mean(crp_history) \n",
    "        \n",
    "        if ons_profits >= olmar_profits and ons_profits >= crp_profits and ons_profits > 1: \n",
    "            choice = 0 \n",
    "            cash = np.sum([ons_current_portfolio[j]*cash*(1-gamma/100) for j in range(m)])  \n",
    "        elif olmar_profits >= ons_profits and olmar_profits >= crp_profits and olmar_profits > 1:  \n",
    "            choice = 1 \n",
    "            cash = np.sum([olmar_current_portfolio[j]*cash*(1-gamma/100) for j in range(m)]) \n",
    "        elif crp_profits >= ons_profits and crp_profits >= olmar_profits and crp_profits > 1:  \n",
    "            choice = 3 \n",
    "            cash = np.sum([crp_current_portfolio[j]*cash*(1-gamma/100) for j in range(m)])\n",
    "        else: \n",
    "            # it is probably a down market \n",
    "            choice = 2 \n",
    "            # no change to cash \n",
    "    \n",
    "        \n",
    "print(\"final cash amount = ${:.2f}\".format(cash)) \n",
    "print(\"percentage profit = {:.2f}%\".format((cash-init_seed)/init_seed * 100))\n",
    "    "
   ]
  },
  {
   "cell_type": "code",
   "execution_count": 48,
   "metadata": {},
   "outputs": [
    {
     "data": {
      "text/plain": [
       "[<matplotlib.lines.Line2D at 0x7ff6e0661b70>]"
      ]
     },
     "execution_count": 48,
     "metadata": {},
     "output_type": "execute_result"
    },
    {
     "data": {
      "image/png": "[encoded data removed]",
      "text/plain": [
       "<Figure size 432x288 with 1 Axes>"
      ]
     },
     "metadata": {
      "needs_background": "light"
     },
     "output_type": "display_data"
    }
   ],
   "source": [
    "plt.plot(cash_status)"
   ]
  },
  {
   "cell_type": "code",
   "execution_count": null,
   "metadata": {},
   "outputs": [],
   "source": []
  }
 ],
 "metadata": {
  "kernelspec": {
   "display_name": "Python 3",
   "language": "python",
   "name": "python3"
  },
  "language_info": {
   "codemirror_mode": {
    "name": "ipython",
    "version": 3
   },
   "file_extension": ".py",
   "mimetype": "text/x-python",
   "name": "python",
   "nbconvert_exporter": "python",
   "pygments_lexer": "ipython3",
   "version": "3.6.9"
  }
 },
 "nbformat": 4,
 "nbformat_minor": 4
}
